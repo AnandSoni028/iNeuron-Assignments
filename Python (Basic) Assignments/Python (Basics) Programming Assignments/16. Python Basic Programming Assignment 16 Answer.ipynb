{
 "cells": [
  {
   "cell_type": "markdown",
   "metadata": {},
   "source": [
    "## Ques 1 = Write a function that stutters a word as if someone is struggling to read it. The first two letters are repeated twice with an ellipsis ... and space after each, and then the word is pronounced with a question mark ?.\n",
    "Examples\n",
    "stutter(\"incredible\") ➞ \"in... in... incredible?\"\n",
    "\n",
    "stutter(\"enthusiastic\") ➞ \"en... en... enthusiastic?\"\n",
    "\n",
    "stutter(\"outstanding\") ➞ \"ou... ou... outstanding?\"\n",
    "\n",
    "Hint :- Assume all input is in lower case and at least two characters long.\n"
   ]
  },
  {
   "cell_type": "code",
   "execution_count": 2,
   "metadata": {},
   "outputs": [
    {
     "name": "stdout",
     "output_type": "stream",
     "text": [
      "incredible\n",
      "stutter incredible -> in...in...incredible?\n",
      "enthusiastic\n",
      "stutter enthusiastic -> en...en...enthusiastic?\n",
      "outstanding\n",
      "stutter outstanding -> ou...ou...outstanding?\n"
     ]
    }
   ],
   "source": [
    "# Define The Functions\n",
    "def stutter():\n",
    "    # Take The Input From The Function\n",
    "    in_str = input(\"Enter The Word : \")\n",
    "    print(in_str)\n",
    "    # Check The Conditions\n",
    "    out_str = in_str.replace(in_str[0:2],((in_str[0:2]+'...')*2)+in_str[0:2]) + '?'\n",
    "    # Print The Results\n",
    "    print(f\"stutter {in_str} -> {out_str}\")\n",
    "\n",
    "for i in range(3):\n",
    "    stutter()\n"
   ]
  },
  {
   "cell_type": "markdown",
   "metadata": {},
   "source": [
    "-----"
   ]
  },
  {
   "cell_type": "markdown",
   "metadata": {},
   "source": [
    "## Ques 2 = Question 2.Create a function that takes an angle in radians and returns the corresponding angle in degrees rounded to one decimal place.\n",
    "Examples\n",
    "radians_to_degrees(1) ➞ 57.3\n",
    "\n",
    "radians_to_degrees(20) ➞ 1145.9\n",
    "\n",
    "radians_to_degrees(50) ➞ 2864.8\n",
    "\n"
   ]
  },
  {
   "cell_type": "code",
   "execution_count": 18,
   "metadata": {},
   "outputs": [
    {
     "name": "stdout",
     "output_type": "stream",
     "text": [
      "1\n",
      "radiance_to_degrees(1) ➞ 57.3\n",
      "20\n",
      "radiance_to_degrees(20) ➞ 1145.9\n",
      "50\n",
      "radiance_to_degrees(50) ➞ 2864.8\n"
     ]
    }
   ],
   "source": [
    "import math\n",
    "\n",
    "# Define The Function \n",
    "def radians_to_degrees():\n",
    "    # Take The Input From The Users\n",
    "    angle_in_radians = int(input(\"Enter the Degrees :\"))\n",
    "    print(angle_in_radians)\n",
    "    angle_in_degrees = math.degrees(angle_in_radians)\n",
    "    rounded_angle = round(angle_in_degrees,1)\n",
    "    print(f\"radiance_to_degrees({angle_in_radians}) ➞ {rounded_angle}\")\n",
    "\n",
    "for i in range(3):\n",
    "    radians_to_degrees()\n",
    "\n"
   ]
  },
  {
   "cell_type": "markdown",
   "metadata": {},
   "source": [
    "------"
   ]
  },
  {
   "cell_type": "markdown",
   "metadata": {},
   "source": [
    "## Ques 3 = In this challenge, establish if a given integer num is a Curzon number. If 1 plus 2 elevated to num is exactly divisible by 1 plus 2 multiplied by num, then num is a Curzon number.\n",
    "Given a non-negative integer num, implement a function that returns True if num is a Curzon number, or False otherwise.\n",
    "Examples\n",
    "\n",
    "is_curzon(5) ➞ True\n",
    "### 2 ** 5 + 1 = 33\n",
    "### 2 * 5 + 1 = 11\n",
    "### 33 is a multiple of 11\n",
    "\n",
    "is_curzon(10) ➞ False\n",
    "### 2 ** 10 + 1 = 1025\n",
    "### 2 * 10 + 1 = 21\n",
    "### 1025 is not a multiple of 21\n",
    "\n",
    "is_curzon(14) ➞ True\n",
    "### 2 ** 14 + 1 = 16385\n",
    "### 2 * 14 + 1 = 29\n",
    "### 16385 is a multiple of 29\n"
   ]
  },
  {
   "cell_type": "code",
   "execution_count": 2,
   "metadata": {},
   "outputs": [
    {
     "name": "stdout",
     "output_type": "stream",
     "text": [
      "5\n",
      "is_curzon5 ➞ True\n",
      "5 is a Curzon Number.\n",
      "\n",
      "10\n",
      "is_curzon10 ➞ False\n",
      "10 is Not a Curzon Number.\n",
      "\n",
      "14\n",
      "is_curzon14 ➞ True\n",
      "14 is a Curzon Number.\n",
      "\n"
     ]
    }
   ],
   "source": [
    "# Define The Functiion\n",
    "def Curzon_no():\n",
    "    # Take The Input From The Users\n",
    "    curz = int(input(\"Enter the Number to check curzon Number : \")) \n",
    "    print(curz)\n",
    "    \n",
    "    # Check The Condition For Curzon Number\n",
    "    if (2** curz + 1) %(2 * curz + 1 ) ==0:\n",
    "        print(f\"is_curzon{curz} ➞ True\")\n",
    "        print(f\"{curz} is a Curzon Number.\\n\")\n",
    "    else:\n",
    "        print(f\"is_curzon{curz} ➞ False\")\n",
    "        print(f\"{curz} is Not a Curzon Number.\\n\")\n",
    "\n",
    "for i in range(3):\n",
    "    Curzon_no()"
   ]
  },
  {
   "cell_type": "markdown",
   "metadata": {},
   "source": [
    "-----"
   ]
  },
  {
   "cell_type": "markdown",
   "metadata": {},
   "source": [
    "## Ques 4 = Given the side length x find the area of a hexagon.\n",
    " \n",
    "Examples\n",
    "area_of_hexagon(1) ➞ 2.6\n",
    "\n",
    "area_of_hexagon(2) ➞ 10.4\n",
    "\n",
    "area_of_hexagon(3) ➞ 23.4\n",
    "\n",
    "\n"
   ]
  },
  {
   "cell_type": "code",
   "execution_count": 5,
   "metadata": {},
   "outputs": [
    {
     "name": "stdout",
     "output_type": "stream",
     "text": [
      "1\n",
      "area_of_hexagon(a) ->2.6\n",
      "\n",
      "2\n",
      "area_of_hexagon(a) ->10.4\n",
      "\n",
      "3\n",
      "area_of_hexagon(a) ->23.4\n",
      "\n"
     ]
    }
   ],
   "source": [
    "import math\n",
    "# Defien The Function\n",
    "def hexagon():\n",
    "     # Take The Input From The Users\n",
    "    a = int(input(\"Enter The Side Of a : \"))\n",
    "    print(a)\n",
    "    # Check The Condition\n",
    "    area = (3 * math.sqrt(3) * a**2) / 2\n",
    "    print(f\"area_of_hexagon(a) ->{round(area,1)}\\n\")\n",
    "\n",
    "for i in range(3):\n",
    "    hexagon()"
   ]
  },
  {
   "cell_type": "markdown",
   "metadata": {},
   "source": [
    "------"
   ]
  },
  {
   "cell_type": "markdown",
   "metadata": {},
   "source": [
    "## Ques 5 = Create a function that returns a base-2 (binary) representation of a base-10 (decimal) string number. To convert is simple: ((2) means base-2 and (10) means base-10) 010101001(2) = 1 + 8 + 32 + 128.\n",
    "\n",
    "Going from right to left, the value of the most right bit is 1, now from that every bit to the left will be x2 the value, value of an 8 bit binary numbers are (256, 128, 64, 32, 16, 8, 4, 2, 1).\n",
    "\n",
    "Examples\n",
    "\n",
    "binary(1) ➞ \"1\"\n",
    "# 1*1 = 1\n",
    "\n",
    "binary(5) ➞ \"101\"\n",
    "# 1*1 + 1*4 = 5\n",
    "\n",
    "binary(10) ➞ \"1010\"\n",
    "# 1*2 + 1*8 = 10\n"
   ]
  },
  {
   "cell_type": "code",
   "execution_count": 15,
   "metadata": {},
   "outputs": [
    {
     "name": "stdout",
     "output_type": "stream",
     "text": [
      "1\n",
      "binary(1) -> 1\n",
      "\n",
      "5\n",
      "binary(5) -> 101\n",
      "\n",
      "10\n",
      "binary(10) -> 1010\n",
      "\n"
     ]
    }
   ],
   "source": [
    "\n",
    "# Define The Function\n",
    "def binary():\n",
    "    #Take The Input From The Users\n",
    "    int_num = int(input(\"Enter The Number : \"))\n",
    "    print(int_num)\n",
    "    out_num = bin(int_num).replace('0b','')\n",
    "    print(f'binary({int_num}) -> {out_num}\\n')\n",
    "    \n",
    "for i in range(3):\n",
    "    binary()"
   ]
  },
  {
   "cell_type": "markdown",
   "metadata": {},
   "source": [
    "-----"
   ]
  },
  {
   "cell_type": "markdown",
   "metadata": {},
   "source": [
    "                                                                    END"
   ]
  }
 ],
 "metadata": {
  "kernelspec": {
   "display_name": "Python 3",
   "language": "python",
   "name": "python3"
  },
  "language_info": {
   "codemirror_mode": {
    "name": "ipython",
    "version": 3
   },
   "file_extension": ".py",
   "mimetype": "text/x-python",
   "name": "python",
   "nbconvert_exporter": "python",
   "pygments_lexer": "ipython3",
   "version": "3.11.8"
  }
 },
 "nbformat": 4,
 "nbformat_minor": 2
}
