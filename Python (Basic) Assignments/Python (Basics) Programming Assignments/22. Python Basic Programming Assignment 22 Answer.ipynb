{
 "cells": [
  {
   "cell_type": "markdown",
   "metadata": {},
   "source": [
    "## Ques 1 = Create a function that takes three parameters where:\n",
    "\n",
    "•\tx is the start of the range (inclusive).\n",
    "\n",
    "•\ty is the end of the range (inclusive).\n",
    "\n",
    "•\tn is the divisor to be checked against.\n",
    "\n",
    "Return an ordered list with numbers in the range that are divisible by the third parameter n. Return an empty list if there are no numbers that are divisible by n.\n",
    "\n",
    "Examples\n",
    "\n",
    "list_operation(1, 10, 3) ➞ [3, 6, 9]\n",
    "\n",
    "list_operation(7, 9, 2) ➞ [8]\n",
    "\n",
    "list_operation(15, 20, 7) ➞ []\n",
    "\n"
   ]
  },
  {
   "cell_type": "code",
   "execution_count": 1,
   "metadata": {},
   "outputs": [
    {
     "name": "stdout",
     "output_type": "stream",
     "text": [
      "list_operation(1, 10, 3) -> [3, 6, 9]\n",
      "\n",
      "list_operation(7, 9, 1) -> [7, 8]\n",
      "\n",
      "list_operation(15, 20, 7) -> []\n",
      "\n"
     ]
    }
   ],
   "source": [
    "# Define The Function\n",
    "def ordered_list(x,y,n):\n",
    "    \n",
    "    # Initialize The Empty List\n",
    "    out_list = []\n",
    "\n",
    "    # Check The Conditions\n",
    "    for i in range(x,y):\n",
    "        if i % n == 0:\n",
    "            out_list.append(i)\n",
    "\n",
    "    # Print The Result\n",
    "    print(f\"list_operation{x,y,n} -> {out_list}\\n\")\n",
    "\n",
    "ordered_list(1,10,3)\n",
    "ordered_list(7,9,1)\n",
    "ordered_list(15,20,7)"
   ]
  },
  {
   "cell_type": "markdown",
   "metadata": {},
   "source": [
    "-------"
   ]
  },
  {
   "cell_type": "markdown",
   "metadata": {},
   "source": [
    "## Ques 2 = Create a function that takes in two lists and returns True if the second list follows the first list by one element, and False otherwise. In other words, determine if the second list is the first list shifted to the right by 1.\n",
    "\n",
    "Examples\n",
    "\n",
    "simon_says([1, 2], [5, 1]) ➞ True\n",
    "\n",
    "simon_says([1, 2], [5, 5]) ➞ False\n",
    "\n",
    "simon_says([1, 2, 3, 4, 5], [0, 1, 2, 3, 4]) ➞ True\n",
    "\n",
    "simon_says([1, 2, 3, 4, 5], [5, 5, 1, 2, 3]) ➞ False\n",
    "\n",
    "Notes\n",
    "\n",
    "•\tBoth input lists will be of the same length, and will have a minimum length of 2.\n",
    "\n",
    "•\tThe values of the 0-indexed element in the second list and the n-1th indexed element in the first list do not matter.\n"
   ]
  },
  {
   "cell_type": "code",
   "execution_count": 3,
   "metadata": {},
   "outputs": [
    {
     "name": "stdout",
     "output_type": "stream",
     "text": [
      "simos_says(([1, 2], [5, 1])) -> True\n",
      "\n",
      "simos_says(([1, 2], [5, 5])) -> False\n",
      "\n",
      "simos_says(([1, 2, 3, 4, 5], [0, 1, 2, 3, 4])) -> True\n",
      "\n",
      "simos_says(([1, 2, 3, 4, 5], [5, 5, 1, 2, 3])) -> False\n",
      "\n"
     ]
    }
   ],
   "source": [
    "# Define The Functions\n",
    "def simon_says(list1 , list2):\n",
    "\n",
    "    # Check The Conditions\n",
    "    if len(list1) == len(list2) and len(list1) >= 2 and len(list2) >= 2 :\n",
    "        if(list1[:-1] == list2[1:]):\n",
    "            print(f\"simos_says({list1 , list2}) -> {True}\\n\")\n",
    "        else:\n",
    "            print(f\"simos_says({list1 , list2}) -> {False}\\n\")\n",
    "\n",
    "simon_says([1, 2], [5, 1])\n",
    "simon_says([1, 2], [5, 5])\n",
    "simon_says([1, 2, 3, 4, 5], [0, 1, 2, 3, 4])\n",
    "simon_says([1, 2, 3, 4, 5], [5, 5, 1, 2, 3])\n",
    "    "
   ]
  },
  {
   "cell_type": "markdown",
   "metadata": {},
   "source": [
    "---"
   ]
  },
  {
   "cell_type": "markdown",
   "metadata": {},
   "source": [
    "## Ques 3 = A group of friends have decided to start a secret society. The name will be the first letter of each of their names, sorted in alphabetical order.\n",
    "\n",
    "Create a function that takes in a list of names and returns the name of the secret society.\n",
    "\n",
    "Examples\n",
    "\n",
    "society_name([\"Adam\", \"Sarah\", \"Malcolm\"]) ➞ \"AMS\"\n",
    "\n",
    "society_name([\"Harry\", \"Newt\", \"Luna\", \"Cho\"]) ➞ \"CHLN\"\n",
    "\n",
    "society_name([\"Phoebe\", \"Chandler\", \"Rachel\", \"Ross\", \"Monica\", \"Joey\"])\n",
    "\n"
   ]
  },
  {
   "cell_type": "code",
   "execution_count": 7,
   "metadata": {},
   "outputs": [
    {
     "name": "stdout",
     "output_type": "stream",
     "text": [
      "society_name(['Adam', 'Sarah', 'Malcolm']) -> AMS\n",
      "\n",
      "society_name(['Harry', 'Newt', 'Luna', 'Cho']) -> CHLN\n",
      "\n",
      "society_name(['Phoebe', 'Chandler', 'Rachel', 'Ross', 'Monica', 'Joey']) -> CJMPRR\n",
      "\n"
     ]
    }
   ],
   "source": [
    "# Define The Functions\n",
    "def society_name(list):\n",
    "\n",
    "    # Initialize The List\n",
    "    out_list =[]\n",
    "\n",
    "    # Check The Conditions\n",
    "    for ele in list:\n",
    "        out_list.append(ele[0])\n",
    "\n",
    "    output = ''.join(sorted(out_list))\n",
    "\n",
    "    # Print The Results\n",
    "    print(f\"society_name({list}) -> {output}\\n\")\n",
    "\n",
    "\n",
    "society_name([\"Adam\", \"Sarah\", \"Malcolm\"])\n",
    "society_name([\"Harry\", \"Newt\", \"Luna\", \"Cho\"])\n",
    "society_name([\"Phoebe\", \"Chandler\", \"Rachel\", \"Ross\", \"Monica\", \"Joey\"])"
   ]
  },
  {
   "cell_type": "markdown",
   "metadata": {},
   "source": [
    "-------"
   ]
  },
  {
   "cell_type": "markdown",
   "metadata": {},
   "source": [
    "## Ques 4 = An isogram is a word that has no duplicate letters. Create a function that takes a string and returns either True or False depending on whether or not it's an \"isogram\".\n",
    "\n",
    "Examples\n",
    "\n",
    "is_isogram(\"Algorism\") ➞ True\n",
    "\n",
    "is_isogram(\"PasSword\") ➞ False\n",
    "\n",
    "# Not case sensitive.\n",
    "\n",
    "is_isogram(\"Consecutive\") ➞ False\n",
    "\n",
    "Notes\n",
    "•\tIgnore letter case (should not be case sensitive).\n",
    "\n",
    "•\tAll test cases contain valid one word strings.\n"
   ]
  },
  {
   "cell_type": "code",
   "execution_count": 11,
   "metadata": {},
   "outputs": [
    {
     "name": "stdout",
     "output_type": "stream",
     "text": [
      "is_isogram(Algorism) -> True\n",
      "\n",
      "is_isogram(PasSword) -> False\n",
      "\n",
      "is_isogram(Consecutive) -> False\n",
      "\n"
     ]
    }
   ],
   "source": [
    "# Define The Functions\n",
    "def is_isogram(string):\n",
    "\n",
    "    # Check The Conditions\n",
    "    lower_string = string.lower()\n",
    "    if len(lower_string) == len(set(lower_string)):\n",
    "        # Print The Result\n",
    "        print(f\"is_isogram({string}) -> {True}\\n\")\n",
    "    else:\n",
    "        print(f\"is_isogram({string}) -> False\\n\")\n",
    "\n",
    "is_isogram(\"Algorism\")\n",
    "is_isogram(\"PasSword\")\n",
    "is_isogram(\"Consecutive\")"
   ]
  },
  {
   "cell_type": "markdown",
   "metadata": {},
   "source": [
    "--------"
   ]
  },
  {
   "cell_type": "markdown",
   "metadata": {},
   "source": [
    "## Ques 5 = Create a function that takes a string and returns True or False, depending on whether the characters are in order or not.\n",
    "\n",
    "Examples\n",
    "\n",
    "is_in_order(\"abc\") ➞ True\n",
    "\n",
    "is_in_order(\"edabit\") ➞ False\n",
    "\n",
    "is_in_order(\"123\") ➞ True\n",
    "\n",
    "is_in_order(\"xyzz\") ➞ True\n",
    "\n",
    "Notes\n",
    "\n",
    "You don't have to handle empty strings.\n"
   ]
  },
  {
   "cell_type": "code",
   "execution_count": 13,
   "metadata": {},
   "outputs": [
    {
     "name": "stdout",
     "output_type": "stream",
     "text": [
      "is_in_order(abc) -> True\n",
      "\n",
      "is_in_order(edabit) -> False\n",
      "\n",
      "is_in_order(123) -> True\n",
      "\n",
      "is_in_order(xyzz) -> True\n",
      "\n"
     ]
    }
   ],
   "source": [
    "# Define The Functions\n",
    "def is_in_order(string):\n",
    "    # Sort The String\n",
    "    string_sorted = ''.join(sorted(string))\n",
    "    \n",
    "    # Print The Results\n",
    "    if string == string_sorted:\n",
    "        print(f\"is_in_order({string}) -> True\\n\")\n",
    "    else:\n",
    "        print(f\"is_in_order({string}) -> False\\n\")\n",
    "\n",
    "is_in_order(\"abc\")\n",
    "is_in_order(\"edabit\")\n",
    "is_in_order(\"123\")\n",
    "is_in_order(\"xyzz\")"
   ]
  },
  {
   "cell_type": "markdown",
   "metadata": {},
   "source": [
    "-------"
   ]
  },
  {
   "cell_type": "markdown",
   "metadata": {},
   "source": [
    "                                                                        END"
   ]
  }
 ],
 "metadata": {
  "kernelspec": {
   "display_name": "Python 3",
   "language": "python",
   "name": "python3"
  },
  "language_info": {
   "codemirror_mode": {
    "name": "ipython",
    "version": 3
   },
   "file_extension": ".py",
   "mimetype": "text/x-python",
   "name": "python",
   "nbconvert_exporter": "python",
   "pygments_lexer": "ipython3",
   "version": "3.11.8"
  }
 },
 "nbformat": 4,
 "nbformat_minor": 2
}
