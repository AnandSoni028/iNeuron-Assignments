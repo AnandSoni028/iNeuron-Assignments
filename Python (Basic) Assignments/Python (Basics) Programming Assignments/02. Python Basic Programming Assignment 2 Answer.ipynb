{
 "cells": [
  {
   "cell_type": "markdown",
   "metadata": {},
   "source": [
    "## Ques 1 = Write a Python program to convert kilometers to miles?"
   ]
  },
  {
   "cell_type": "code",
   "execution_count": 2,
   "metadata": {},
   "outputs": [
    {
     "name": "stdout",
     "output_type": "stream",
     "text": [
      "Convered value in miles : 3.106855\n"
     ]
    }
   ],
   "source": [
    "# Taking the Kilometers input form the user\n",
    "Kms = int(input(\"Enter the value of the kilometers to convert : \"))\n",
    "\n",
    "# calculate miles\n",
    "Miles = Kms*0.621371\n",
    "\n",
    "# Print The miles \n",
    "print(f\"Convered value in miles : {Miles}\")"
   ]
  },
  {
   "cell_type": "code",
   "execution_count": 5,
   "metadata": {},
   "outputs": [
    {
     "name": "stdout",
     "output_type": "stream",
     "text": [
      " kilometers is equal to 3.106855\n"
     ]
    }
   ],
   "source": [
    "import math\n",
    "\n",
    "def km_to_miles(kilometers):\n",
    "    miles = kilometers * 0.621371\n",
    "    return miles\n",
    "\n",
    "# Test the funciton\n",
    "kilometers = 5 \n",
    "miles = km_to_miles(kilometers)\n",
    "print(f\" kilometers is equal to {miles}\")\n"
   ]
  },
  {
   "cell_type": "markdown",
   "metadata": {},
   "source": [
    "-----"
   ]
  },
  {
   "cell_type": "markdown",
   "metadata": {},
   "source": [
    "## Ques 2 = Write a Python program to convert Celsius to Fahrenheit?"
   ]
  },
  {
   "cell_type": "code",
   "execution_count": 7,
   "metadata": {},
   "outputs": [
    {
     "name": "stdout",
     "output_type": "stream",
     "text": [
      "value  of Fahrenheit :  68.0\n"
     ]
    }
   ],
   "source": [
    "# Taking the Celsius input from the users.\n",
    "Celsius = int(input(\"enter the value of celsius\"))\n",
    "\n",
    "# Calculate the Fahrenheit\n",
    "Fahrenheit = (Celsius * 9/5) + 32\n",
    "\n",
    "# Print the value of Fahrenheit \n",
    "print(f\"value  of Fahrenheit :  {Fahrenheit}\")"
   ]
  },
  {
   "cell_type": "markdown",
   "metadata": {},
   "source": [
    "-----"
   ]
  },
  {
   "cell_type": "markdown",
   "metadata": {},
   "source": [
    "## Ques 3 = Write a Python program to display calendar?"
   ]
  },
  {
   "cell_type": "code",
   "execution_count": 8,
   "metadata": {},
   "outputs": [
    {
     "name": "stdout",
     "output_type": "stream",
     "text": [
      "    January 2024\n",
      "Mo Tu We Th Fr Sa Su\n",
      " 1  2  3  4  5  6  7\n",
      " 8  9 10 11 12 13 14\n",
      "15 16 17 18 19 20 21\n",
      "22 23 24 25 26 27 28\n",
      "29 30 31\n",
      "\n"
     ]
    }
   ],
   "source": [
    "import calendar\n",
    "\n",
    "# Taking the year and month input from the users.\n",
    "year = int(input(\"Enter the year\"))\n",
    "month = int(input(\"Enter the month \"))\n",
    "\n",
    "# print The value of given input.\n",
    "print(calendar.month(year,month))"
   ]
  },
  {
   "cell_type": "code",
   "execution_count": 10,
   "metadata": {},
   "outputs": [
    {
     "name": "stdout",
     "output_type": "stream",
     "text": [
      "    January 2024\n",
      "Mo Tu We Th Fr Sa Su\n",
      " 1  2  3  4  5  6  7\n",
      " 8  9 10 11 12 13 14\n",
      "15 16 17 18 19 20 21\n",
      "22 23 24 25 26 27 28\n",
      "29 30 31\n",
      "\n"
     ]
    }
   ],
   "source": [
    "import calendar\n",
    "year = 2024\n",
    "month = 1\n",
    "\n",
    "# print The value of given input.\n",
    "print(calendar.month(year,month))"
   ]
  },
  {
   "cell_type": "markdown",
   "metadata": {},
   "source": [
    "-----"
   ]
  },
  {
   "cell_type": "markdown",
   "metadata": {},
   "source": [
    "## Ques 4 = Write a Python program to solve quadratic equation?"
   ]
  },
  {
   "cell_type": "markdown",
   "metadata": {},
   "source": [
    "Answer - \n",
    "\n",
    "An Equation is Quradratic Equation when- \n",
    "\n",
    "ax2 + bx + c = 0, where\n",
    "a, b and c are real numbers and\n",
    "a ≠ 0"
   ]
  },
  {
   "cell_type": "code",
   "execution_count": 14,
   "metadata": {},
   "outputs": [
    {
     "name": "stdout",
     "output_type": "stream",
     "text": [
      "The Solution is  : -0.6904217371477885 and -0.6904217371477885\n"
     ]
    }
   ],
   "source": [
    "# Assign the value of a,b and c.\n",
    "a = 5\n",
    "b = 7 \n",
    "c = -3\n",
    "\n",
    "# put the values into a1 and a2\n",
    "a1 = ((-b) + (b**2-4*a*c)**-0.5) / (2*a)\n",
    "a2 = ((-b) + (b**2-4*a*c)**-0.5) / (2*a)\n",
    "\n",
    "# Print the value of a1 and a2\n",
    "print(f\"The Solution is  : {a1} and {a2}\")"
   ]
  },
  {
   "cell_type": "markdown",
   "metadata": {},
   "source": [
    "------"
   ]
  },
  {
   "cell_type": "markdown",
   "metadata": {},
   "source": [
    "## Ques 5 = Write a Python program to swap two variables without temp variable?"
   ]
  },
  {
   "cell_type": "code",
   "execution_count": 16,
   "metadata": {},
   "outputs": [
    {
     "name": "stdout",
     "output_type": "stream",
     "text": [
      "Before Swapping - a is : 15 & b is : 20\n",
      "After Swapping - a is : 20 & b is :15\n"
     ]
    }
   ],
   "source": [
    "# Taking the value of a and b by user \n",
    "a = int (input(\"Enter the value of a \" ))\n",
    "b = int(input(\"Enter the value of b \"))\n",
    "\n",
    "# Print the value of a and b befor and after swapping.\n",
    "print(f\"Before Swapping - a is : {a} & b is : {b}\")\n",
    "a,b=b,a\n",
    "print(f\"After Swapping - a is : {a} & b is :{b}\")\n"
   ]
  },
  {
   "cell_type": "markdown",
   "metadata": {},
   "source": [
    "-----"
   ]
  },
  {
   "cell_type": "markdown",
   "metadata": {},
   "source": [
    "                                                                    END"
   ]
  }
 ],
 "metadata": {
  "kernelspec": {
   "display_name": "Python 3",
   "language": "python",
   "name": "python3"
  },
  "language_info": {
   "codemirror_mode": {
    "name": "ipython",
    "version": 3
   },
   "file_extension": ".py",
   "mimetype": "text/x-python",
   "name": "python",
   "nbconvert_exporter": "python",
   "pygments_lexer": "ipython3",
   "version": "3.11.8"
  }
 },
 "nbformat": 4,
 "nbformat_minor": 2
}
