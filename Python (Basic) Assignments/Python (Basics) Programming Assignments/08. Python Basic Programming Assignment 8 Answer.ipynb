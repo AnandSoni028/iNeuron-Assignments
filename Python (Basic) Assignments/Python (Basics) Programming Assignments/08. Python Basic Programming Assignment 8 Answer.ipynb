{
 "cells": [
  {
   "cell_type": "markdown",
   "metadata": {},
   "source": [
    "## Ques 1 = Write a Python Program to Add Two Matrices?"
   ]
  },
  {
   "cell_type": "code",
   "execution_count": 2,
   "metadata": {},
   "outputs": [
    {
     "name": "stdout",
     "output_type": "stream",
     "text": [
      "Printing Elements of First Matrix\n",
      "[[1 2 3]\n",
      " [4 5 6]\n",
      " [7 8 9]]\n",
      "Printing Elements of Second Matrix\n",
      "[[4 5 3]\n",
      " [7 2 1]\n",
      " [9 8 6]]\n",
      "Addition of Two Matrix\n",
      "[[ 5  7  6]\n",
      " [11  7  7]\n",
      " [16 16 15]]\n"
     ]
    }
   ],
   "source": [
    "# Inport numpy as np\n",
    "import numpy as np\n",
    "\n",
    "# Create First Matrix\n",
    "a = np.array([[1,2,3],\n",
    "            [4,5,6],\n",
    "            [7,8,9]])\n",
    "# Create Second Matrix\n",
    "b = np.array([[4,5,3],\n",
    "             [7,2,1],\n",
    "             [9,8,6]])\n",
    "\n",
    "print(\"Printing Elements of First Matrix\")\n",
    "print(a)\n",
    "print(\"Printing Elements of Second Matrix\")\n",
    "print(b)\n",
    "\n",
    "# Add Two Matrix\n",
    "print(\"Addition of Two Matrix\")\n",
    "print(np.add(a,b))"
   ]
  },
  {
   "cell_type": "markdown",
   "metadata": {},
   "source": [
    "-------"
   ]
  },
  {
   "cell_type": "markdown",
   "metadata": {},
   "source": [
    "## Ques 2 = Write a Python Program to Multiply Two Matrices?"
   ]
  },
  {
   "cell_type": "code",
   "execution_count": 9,
   "metadata": {},
   "outputs": [
    {
     "name": "stdout",
     "output_type": "stream",
     "text": [
      "Print Element Of First Matrix\n",
      "[[1 2 3]\n",
      " [4 5 6]\n",
      " [7 8 9]]\n",
      "Printing Element of Second Matrix\n",
      "[[9 8 7]\n",
      " [6 5 4]\n",
      " [3 2 1]]\n",
      "Multiply of Two Matrix\n",
      "[[ 9 16 21]\n",
      " [24 25 24]\n",
      " [21 16  9]]\n"
     ]
    }
   ],
   "source": [
    "#Import Numpy as np\n",
    "import numpy as np\n",
    "\n",
    "# Create First Matrix\n",
    "A = np.array([[1,2,3],\n",
    "               [4,5,6],\n",
    "               [7,8,9]])\n",
    "\n",
    "# Create Second Matrix\n",
    "B = np.array([[9,8,7],\n",
    "              [6,5,4],\n",
    "              [3,2,1]])\n",
    "\n",
    "print(\"Print Element Of First Matrix\")\n",
    "print(A)\n",
    "print(\"Printing Element of Second Matrix\")\n",
    "print(B)\n",
    "\n",
    "# Multiply of Two Matrix\n",
    "print(\"Multiply of Two Matrix\")\n",
    "print(A*B)\n"
   ]
  },
  {
   "cell_type": "markdown",
   "metadata": {},
   "source": [
    "----------"
   ]
  },
  {
   "cell_type": "markdown",
   "metadata": {},
   "source": [
    "## Ques 3 = Write a Python Program to Transpose a Matrix?"
   ]
  },
  {
   "cell_type": "code",
   "execution_count": 10,
   "metadata": {},
   "outputs": [
    {
     "name": "stdout",
     "output_type": "stream",
     "text": [
      "Matrix is : [[1, 2, 3], [4, 5, 6], [7, 8, 9]]\n",
      "\n",
      " Transposed Matrix is : \n",
      "[[1 4 7]\n",
      " [2 5 8]\n",
      " [3 6 9]]\n"
     ]
    }
   ],
   "source": [
    "# Import Numpy as np\n",
    "import numpy as np\n",
    "\n",
    "# Create A Matrix\n",
    "a = [[1,2,3],\n",
    "     [4,5,6],\n",
    "     [7,8,9]]\n",
    "\n",
    "print(f\"Matrix is : {a}\")\n",
    "\n",
    "a = np.transpose(a)\n",
    "print(f\"\\n Transposed Matrix is : \")\n",
    "print(a)"
   ]
  },
  {
   "cell_type": "markdown",
   "metadata": {},
   "source": [
    "--------"
   ]
  },
  {
   "cell_type": "markdown",
   "metadata": {},
   "source": [
    "## Ques 4 = Write a Python Program to Sort Words in Alphabetic Order?"
   ]
  },
  {
   "cell_type": "code",
   "execution_count": 37,
   "metadata": {},
   "outputs": [
    {
     "name": "stdout",
     "output_type": "stream",
     "text": [
      "unsorted Words are : ['Anand', 'Raghav', 'Mayur', 'Harish', 'Sandeep']\n",
      "Sorted Words in Alphabetic Order :\n",
      "['Anand' 'Harish' 'Mayur' 'Raghav' 'Sandeep']\n"
     ]
    }
   ],
   "source": [
    "import numpy as np\n",
    "\n",
    "# define a with input\n",
    "a = ['Anand','Raghav','Mayur','Harish','Sandeep']\n",
    "print(f\"unsorted Words are : {a}\")\n",
    "\n",
    "sort = np.sort(a)\n",
    "\n",
    "#Print the Result for Users\n",
    "print(f\"Sorted Words in Alphabetic Order :\")\n",
    "print(sort)"
   ]
  },
  {
   "cell_type": "markdown",
   "metadata": {},
   "source": [
    "---------"
   ]
  },
  {
   "cell_type": "markdown",
   "metadata": {},
   "source": [
    "## Ques 5 = Write a Python Program to Remove Punctuation From a String?"
   ]
  },
  {
   "cell_type": "code",
   "execution_count": 39,
   "metadata": {},
   "outputs": [
    {
     "name": "stdout",
     "output_type": "stream",
     "text": [
      "The original String is : My @name : is & Anand: Soni.\n",
      "\n",
      "The String after Punctuation Removal is : My name  is  Anand Soni\n"
     ]
    }
   ],
   "source": [
    "# Declear a String\n",
    "str = \"My @name : is & Anand: Soni.\"\n",
    "# Print THe str \n",
    "print(F\"The original String is : {str}\")\n",
    "\n",
    "# define punctuation\n",
    "punc = '''!()-[]{};:'\"\\,<>./?@#$%^&*_~'''\n",
    "\n",
    "for ele in str:\n",
    "    if ele in punc:\n",
    "        str = str.replace(ele, \"\")\n",
    "        \n",
    "# display the unpunctuated string\n",
    "print(f\"\\nThe String after Punctuation Removal is : {str}\")"
   ]
  },
  {
   "cell_type": "markdown",
   "metadata": {},
   "source": [
    "--------"
   ]
  },
  {
   "cell_type": "markdown",
   "metadata": {},
   "source": [
    "                                                                        END"
   ]
  }
 ],
 "metadata": {
  "kernelspec": {
   "display_name": "Python 3",
   "language": "python",
   "name": "python3"
  },
  "language_info": {
   "codemirror_mode": {
    "name": "ipython",
    "version": 3
   },
   "file_extension": ".py",
   "mimetype": "text/x-python",
   "name": "python",
   "nbconvert_exporter": "python",
   "pygments_lexer": "ipython3",
   "version": "3.11.8"
  }
 },
 "nbformat": 4,
 "nbformat_minor": 2
}
