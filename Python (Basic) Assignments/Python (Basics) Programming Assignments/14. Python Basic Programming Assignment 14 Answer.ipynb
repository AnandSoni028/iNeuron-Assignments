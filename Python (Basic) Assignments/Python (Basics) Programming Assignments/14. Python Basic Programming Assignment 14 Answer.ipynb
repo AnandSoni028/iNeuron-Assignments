{
 "cells": [
  {
   "cell_type": "markdown",
   "metadata": {},
   "source": [
    "## Ques 1 = Define a class with a generator which can iterate the numbers, which are divisible by 7, between a given range 0 and n."
   ]
  },
  {
   "cell_type": "code",
   "execution_count": 2,
   "metadata": {},
   "outputs": [
    {
     "name": "stdout",
     "output_type": "stream",
     "text": [
      "0 7 14 21 28 35 42 49 56 63 70 77 84 91 98 105 112 119 126 133 140 147 154 161 168 175 182 189 196 "
     ]
    }
   ],
   "source": [
    "# Define The Class\n",
    "class division:\n",
    "    #Define a function with init function\n",
    "    def __init__(self,n):\n",
    "        self.n = n\n",
    "    # Define a generator function\n",
    "    def generator(self):\n",
    "        for i in range(0,self.n+1):\n",
    "            if i % 7 == 0 :\n",
    "                yield i \n",
    "# Class calling\n",
    "result = division(200)\n",
    "for ele in result.generator():\n",
    "    print(ele,end= ' ')"
   ]
  },
  {
   "cell_type": "markdown",
   "metadata": {},
   "source": [
    "---------"
   ]
  },
  {
   "cell_type": "markdown",
   "metadata": {},
   "source": [
    "## Ques 2 = Write a program to compute the frequency of the words from the input. The output should output after sorting the key alphanumerically. \n",
    "\n",
    "Suppose the following input is supplied to the program:\n",
    "\n",
    "New to Python or choosing between Python 2 and Python 3? Read Python 2 or Python 3.\n",
    "\n",
    "Then, the output should be:\n",
    "\n",
    "2:2\n",
    "\n",
    "3.:1\n",
    "\n",
    "3?:1\n",
    "\n",
    "New:1\n",
    "\n",
    "Python:5\n",
    "\n",
    "Read:1\n",
    "\n",
    "and:1\n",
    "\n",
    "between:1\n",
    "\n",
    "choosing:1\n",
    "\n",
    "or:2\n",
    "\n",
    "to:1\n"
   ]
  },
  {
   "cell_type": "code",
   "execution_count": 4,
   "metadata": {},
   "outputs": [
    {
     "name": "stdout",
     "output_type": "stream",
     "text": [
      "New to Python or choosing between Python 2 and Python 3? Read Python 2 or Python 3.\n",
      "2:2 3.:1 3?:1 New:1 Python:5 Read:1 and:1 between:1 choosing:1 or:2 to:1 "
     ]
    }
   ],
   "source": [
    "# Define The function\n",
    "def freq():\n",
    "    # Take The Input From The Users\n",
    "    a = input(\"Enter Input String : \")\n",
    "    print(a)\n",
    "    frequency = {}\n",
    "    # Check The Condition\n",
    "    for i in a.split(\" \"):\n",
    "        if(frequency.get(i)==None):\n",
    "            frequency[i] = 1 \n",
    "        else:\n",
    "            frequency[i] += 1\n",
    "\n",
    "    for ele in sorted(frequency):\n",
    "        print(f\"{ele}:{frequency[ele]}\",end = \" \")\n",
    "\n",
    "freq()"
   ]
  },
  {
   "cell_type": "markdown",
   "metadata": {},
   "source": [
    "-------"
   ]
  },
  {
   "cell_type": "markdown",
   "metadata": {},
   "source": [
    "## Ques 3 = Define a class Person and its two child classes: Male and Female. All classes have a method \"getGender\" which can print \"Male\" for Male class and \"Female\" for Female class."
   ]
  },
  {
   "cell_type": "code",
   "execution_count": 9,
   "metadata": {},
   "outputs": [
    {
     "name": "stdout",
     "output_type": "stream",
     "text": [
      "Male\n",
      "Female\n"
     ]
    }
   ],
   "source": [
    "# Create a class\n",
    "class Person():\n",
    "    # Define a Function\n",
    "    def getGender():\n",
    "        pass\n",
    "\n",
    "# Create a class\n",
    "class Male(Person):\n",
    "    # Define a Function\n",
    "    def getGender():\n",
    "        print(\"Male\")\n",
    "\n",
    "# Create a class\n",
    "class Female(Person):\n",
    "    # Define a Function\n",
    "    def getGender():\n",
    "        print(\"Female\")\n",
    "# Call the class\n",
    "Male.getGender()\n",
    "Female.getGender()"
   ]
  },
  {
   "cell_type": "markdown",
   "metadata": {},
   "source": [
    "----"
   ]
  },
  {
   "cell_type": "markdown",
   "metadata": {},
   "source": [
    "## Ques 4 = Please write a program to generate all sentences where subject is in [\"I\", \"You\"] and verb is in [\"Play\", \"Love\"] and the object is in [\"Hockey\",\"Football\"]."
   ]
  },
  {
   "cell_type": "code",
   "execution_count": 11,
   "metadata": {},
   "outputs": [
    {
     "name": "stdout",
     "output_type": "stream",
     "text": [
      "I Play Hockey\n",
      "I Play Football\n",
      "I Love Hockey\n",
      "I Love Football\n",
      "You Play Hockey\n",
      "You Play Football\n",
      "You Love Hockey\n",
      "You Love Football\n"
     ]
    }
   ],
   "source": [
    "# Define The Function\n",
    "def generate_sent():\n",
    "    subject = [\"I\",\"You\"]\n",
    "    verb = [\"Play\",\"Love\"]\n",
    "    object = [\"Hockey\",\"Football\"]\n",
    "    \n",
    "    # Check the conditon\n",
    "    for s in subject:\n",
    "        for v in verb:\n",
    "            for o in object:\n",
    "                print(f\"{s} {v} {o}\")\n",
    "\n",
    "generate_sent()"
   ]
  },
  {
   "cell_type": "markdown",
   "metadata": {},
   "source": [
    "-----"
   ]
  },
  {
   "cell_type": "markdown",
   "metadata": {},
   "source": [
    "## Ques 5 = Please write a program to compress and decompress the string \"hello world!hello world!hello world!hello world!\"."
   ]
  },
  {
   "cell_type": "code",
   "execution_count": 16,
   "metadata": {},
   "outputs": [
    {
     "name": "stdout",
     "output_type": "stream",
     "text": [
      "Compressed data: b'x\\x9c\\xcbH\\xcd\\xc9\\xc9W(\\xcf/\\xcaIQ\\xcc \\x82\\r\\x00\\xbd[\\x11\\xf5'\n",
      "Decompressed string: hello world!hello world!hello world!hello world!\n"
     ]
    }
   ],
   "source": [
    "import zlib\n",
    "\n",
    "def compress_str(s):\n",
    "    compressed_data = zlib.compress(s.encode('utf-8'))\n",
    "    return compressed_data\n",
    "\n",
    "def decompress_string(compressed_data):\n",
    "    decompressed_data = zlib.decompress(compressed_data)\n",
    "    return decompressed_data.decode('utf-8')\n",
    "\n",
    "# Original string\n",
    "original_string = \"hello world!hello world!hello world!hello world!\"\n",
    "\n",
    "# Compressing the string\n",
    "compressed_data = compress_str(original_string)\n",
    "print(\"Compressed data:\", compressed_data)\n",
    "\n",
    "# Decompressing the string\n",
    "decompressed_string = decompress_string(compressed_data)\n",
    "print(\"Decompressed string:\", decompressed_string)"
   ]
  },
  {
   "cell_type": "markdown",
   "metadata": {},
   "source": [
    "---------"
   ]
  },
  {
   "cell_type": "markdown",
   "metadata": {},
   "source": [
    "## Ques 6 = Please write a binary search function which searches an item in a sorted list. The function should return the index of element to be searched in the list."
   ]
  },
  {
   "cell_type": "code",
   "execution_count": 22,
   "metadata": {},
   "outputs": [
    {
     "name": "stdout",
     "output_type": "stream",
     "text": [
      "Element 9 found at index 4\n"
     ]
    }
   ],
   "source": [
    "# Define the Function\n",
    "def binary_search(arr, target):\n",
    "    left = 0\n",
    "    right = len(arr) - 1\n",
    "    \n",
    "    while left <= right:\n",
    "        # for get integer result \n",
    "        mid = (left + right) // 2\n",
    "        if arr[mid] == target:\n",
    "            return mid\n",
    "        elif arr[mid] < target:\n",
    "            # Check if n is present at mid  \n",
    "            left = mid + 1\n",
    "        else:\n",
    "            right = mid - 1\n",
    "    \n",
    "    return -1  # If the element is not found\n",
    "\n",
    "# Initial list1 \n",
    "sorted_list = [1, 3, 5, 7, 9, 11, 13, 15, 17]\n",
    "target_element = 9\n",
    "result = binary_search(sorted_list, target_element)\n",
    "if result != -1:\n",
    "    print(f\"Element {target_element} found at index {result}\")\n",
    "else:\n",
    "    print(\"Element not found\")"
   ]
  },
  {
   "cell_type": "markdown",
   "metadata": {},
   "source": [
    "------"
   ]
  },
  {
   "cell_type": "markdown",
   "metadata": {},
   "source": [
    "                                                                    END"
   ]
  }
 ],
 "metadata": {
  "kernelspec": {
   "display_name": "Python 3",
   "language": "python",
   "name": "python3"
  },
  "language_info": {
   "codemirror_mode": {
    "name": "ipython",
    "version": 3
   },
   "file_extension": ".py",
   "mimetype": "text/x-python",
   "name": "python",
   "nbconvert_exporter": "python",
   "pygments_lexer": "ipython3",
   "version": "3.11.8"
  }
 },
 "nbformat": 4,
 "nbformat_minor": 2
}
