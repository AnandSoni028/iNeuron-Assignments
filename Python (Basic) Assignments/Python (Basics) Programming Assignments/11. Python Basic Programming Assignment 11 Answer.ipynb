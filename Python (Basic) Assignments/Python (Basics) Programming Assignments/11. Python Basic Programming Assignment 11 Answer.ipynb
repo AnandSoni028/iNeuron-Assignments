{
 "cells": [
  {
   "cell_type": "markdown",
   "metadata": {},
   "source": [
    "## Ques 1 = Write a Python program to find words which are greater than given length k?"
   ]
  },
  {
   "cell_type": "code",
   "execution_count": 5,
   "metadata": {},
   "outputs": [
    {
     "name": "stdout",
     "output_type": "stream",
     "text": [
      "5\n",
      "Your Enter Words are: ['Anand ', 'Raghav', 'Shrikishan ', 'GeetaDevi', 'Sunita']\n",
      "Words that greater than given length  6 : ['Shrikishan ', 'GeetaDevi']\n"
     ]
    }
   ],
   "source": [
    "# Define the Function\n",
    "def word_len():\n",
    "\n",
    "    # Take The Input From The Users\n",
    "    rang = int(input(\"Enter The How Many Words You Want To Enter : \"))\n",
    "    print(rang)\n",
    "\n",
    "    w_list = []\n",
    "    for i in range(rang):\n",
    "        words = input(\"Enter your Words : \")\n",
    "        w_list.append(words)\n",
    "    print(f\"Your Enter Words are: {w_list}\")\n",
    "\n",
    "    w_length = int(input(\"Enter the length of word to find : \"))\n",
    "\n",
    "    new_list = []\n",
    "    for j in w_list:\n",
    "        if len(j) > w_length:\n",
    "            new_list.append(j)\n",
    "    print(f\"Words that greater than given length  {w_length} : {new_list}\")\n",
    "\n",
    "word_len()"
   ]
  },
  {
   "cell_type": "markdown",
   "metadata": {},
   "source": [
    "-------"
   ]
  },
  {
   "cell_type": "markdown",
   "metadata": {},
   "source": [
    "## Ques 2 = Write a Python program for removing i-th character from a string?"
   ]
  },
  {
   "cell_type": "code",
   "execution_count": 1,
   "metadata": {},
   "outputs": [
    {
     "name": "stdout",
     "output_type": "stream",
     "text": [
      "My String is : Anand\n",
      "Your String after removing 2 no.of characters is :Annd\n"
     ]
    }
   ],
   "source": [
    "# Take The Input from The Users\n",
    "my_string = input(\"Enter your string :\")\n",
    "print(f\"My String is : {my_string}\")\n",
    "\n",
    "string_remove = int(input(\"Enter the i-th number of characters remove from the string :\"))\n",
    "out_string = ''\n",
    "\n",
    "for i in range(len(my_string)):\n",
    "    if i != string_remove:\n",
    "        out_string = out_string + my_string[i]\n",
    "print(f\"Your String after removing {string_remove} no.of characters is :{out_string}\")\n"
   ]
  },
  {
   "cell_type": "markdown",
   "metadata": {},
   "source": [
    "--------"
   ]
  },
  {
   "cell_type": "markdown",
   "metadata": {},
   "source": [
    "## Ques 3 = Write a Python program to split and join a string?"
   ]
  },
  {
   "cell_type": "code",
   "execution_count": 9,
   "metadata": {},
   "outputs": [
    {
     "name": "stdout",
     "output_type": "stream",
     "text": [
      "Spliting a String : ['Hi', 'How', 'Are', 'You']\n",
      "Joining a String : Hi-How-Are-You\n"
     ]
    }
   ],
   "source": [
    "# Define The String \n",
    "str = \"Hi How Are You\"\n",
    "str = str.split(\" \")\n",
    "print(f\"Spliting a String : {str}\")\n",
    "\n",
    "Str2 = \"-\".join(str)\n",
    "print(f\"Joining a String : {Str2}\")"
   ]
  },
  {
   "cell_type": "markdown",
   "metadata": {},
   "source": [
    "-------"
   ]
  },
  {
   "cell_type": "markdown",
   "metadata": {},
   "source": [
    "## Ques 4 = Write a Python to check if a given string is binary string or not?"
   ]
  },
  {
   "cell_type": "code",
   "execution_count": 14,
   "metadata": {},
   "outputs": [
    {
     "name": "stdout",
     "output_type": "stream",
     "text": [
      "100\n",
      "Binary\n"
     ]
    }
   ],
   "source": [
    "# Define the function\n",
    "def binary(str):\n",
    "    binary = \"01\"\n",
    "    for i in range(len(str)):\n",
    "        if str[i] not in binary:\n",
    "            print(\"Not Binary\")\n",
    "            break\n",
    "    else:\n",
    "        print(\"Binary\")\n",
    "# Take The Input From The User\n",
    "str = input(\"Enter the string :\")\n",
    "print(str)\n",
    "binary(str)"
   ]
  },
  {
   "cell_type": "markdown",
   "metadata": {},
   "source": [
    "--------"
   ]
  },
  {
   "cell_type": "markdown",
   "metadata": {},
   "source": [
    "## Ques 5 = Write a Python program to find uncommon words from two Strings?"
   ]
  },
  {
   "cell_type": "code",
   "execution_count": 20,
   "metadata": {},
   "outputs": [
    {
     "name": "stdout",
     "output_type": "stream",
     "text": [
      "{'Programming', 'Language', 'Python'}\n",
      "{'Python', 'sql', 'Programming', 'Language', 'Learn'}\n",
      "Uncommon Words are: {'sql', 'Learn'}\n"
     ]
    }
   ],
   "source": [
    "# Define The Function \n",
    "def uncommon():\n",
    "    # Take A Input From The Users\n",
    "    str = set(input(\"Enter the first string : \").split(' '))\n",
    "    str1 = set(input(\"Enter the Second String : \").split(' '))\n",
    "    \n",
    "    # Print The Result \n",
    "    print(str)\n",
    "    print(str1)\n",
    "    \n",
    "    out_string = (str.union(str1)).difference(str.intersection(str1))\n",
    "    print(f\"Uncommon Words are: {out_string}\")\n",
    "\n",
    "uncommon()"
   ]
  },
  {
   "cell_type": "markdown",
   "metadata": {},
   "source": [
    "------"
   ]
  },
  {
   "cell_type": "markdown",
   "metadata": {},
   "source": [
    "## Ques 6 = Write a Python to find all duplicate characters in string?"
   ]
  },
  {
   "cell_type": "code",
   "execution_count": 23,
   "metadata": {},
   "outputs": [
    {
     "data": {
      "text/plain": [
       "['m', ' ', 'n', 'a', 'i', 's']"
      ]
     },
     "execution_count": 23,
     "metadata": {},
     "output_type": "execute_result"
    }
   ],
   "source": [
    "# Take the Input From The Users\n",
    "str = input(\"Enter The String : \").lower()\n",
    "\n",
    "# Define The Duplicate Function with Empty\n",
    "duplicate = []\n",
    "\n",
    "for i in str:\n",
    "    if str.count(i) > 1 :\n",
    "        if i not in duplicate:\n",
    "            duplicate.append(i)\n",
    "\n",
    "duplicate"
   ]
  },
  {
   "cell_type": "markdown",
   "metadata": {},
   "source": [
    "-----"
   ]
  },
  {
   "cell_type": "markdown",
   "metadata": {},
   "source": [
    "## Ques 7 = Write a Python Program to check if a string contains any special character?"
   ]
  },
  {
   "cell_type": "code",
   "execution_count": 26,
   "metadata": {},
   "outputs": [
    {
     "name": "stdout",
     "output_type": "stream",
     "text": [
      "hi my n@me is @n@nd $oni !#$%^&&*\n",
      "String hi my n@me is @n@nd $oni !#$%^&&* has special characters/s ['@', '@', '@', '$', '!', '#', '$', '%', '^', '&', '&', '*']\n"
     ]
    }
   ],
   "source": [
    "import string\n",
    "\n",
    "str_char = string.punctuation\n",
    "speci_str = []\n",
    "\n",
    "# Take a Input From The Users\n",
    "str = input(\"Enter the string :\").lower()\n",
    "print(str)\n",
    "\n",
    "for i in str:\n",
    "    if i in str_char:\n",
    "        speci_str.append(i)\n",
    "if len(speci_str) > 0:\n",
    "    print(\"String {} has special characters/s {}\".format(str,speci_str))"
   ]
  },
  {
   "cell_type": "markdown",
   "metadata": {},
   "source": [
    "-------"
   ]
  },
  {
   "cell_type": "markdown",
   "metadata": {},
   "source": [
    "                                                                        END"
   ]
  }
 ],
 "metadata": {
  "kernelspec": {
   "display_name": "Python 3",
   "language": "python",
   "name": "python3"
  },
  "language_info": {
   "codemirror_mode": {
    "name": "ipython",
    "version": 3
   },
   "file_extension": ".py",
   "mimetype": "text/x-python",
   "name": "python",
   "nbconvert_exporter": "python",
   "pygments_lexer": "ipython3",
   "version": "3.11.8"
  }
 },
 "nbformat": 4,
 "nbformat_minor": 2
}
