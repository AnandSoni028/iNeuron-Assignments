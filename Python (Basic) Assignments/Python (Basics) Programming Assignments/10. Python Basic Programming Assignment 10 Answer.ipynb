{
 "cells": [
  {
   "cell_type": "markdown",
   "metadata": {},
   "source": [
    "## Ques 1 = Write a Python program to find sum of elements in list?"
   ]
  },
  {
   "cell_type": "code",
   "execution_count": 4,
   "metadata": {},
   "outputs": [
    {
     "name": "stdout",
     "output_type": "stream",
     "text": [
      "5\n",
      "The List is :  [1, 25, 36, 58, 95]\n",
      "Sum of elements in List 215\n"
     ]
    }
   ],
   "source": [
    "# Take a Input From a User .\n",
    "n = int(input(\"Enter the length of your list : \")) \n",
    "print(n)\n",
    "# Define a Empty List\n",
    "list = []\n",
    "\n",
    "for i in range(n):\n",
    "    list.append(int(input(\"Enter a Elements :\")))\n",
    "print(\"The List is : \" , list)\n",
    "print(\"Sum of elements in List\" , sum(list))"
   ]
  },
  {
   "cell_type": "markdown",
   "metadata": {},
   "source": [
    "------"
   ]
  },
  {
   "cell_type": "markdown",
   "metadata": {},
   "source": [
    "## Ques 2 = Write a Python program to  Multiply all numbers in the list?"
   ]
  },
  {
   "cell_type": "code",
   "execution_count": 7,
   "metadata": {},
   "outputs": [
    {
     "name": "stdout",
     "output_type": "stream",
     "text": [
      "5\n",
      "The List is [5, 4, 3, 2, 1]\n",
      "Product of Elements is List is ;  120\n"
     ]
    }
   ],
   "source": [
    "# Take a Input From The Users\n",
    "n = int(input(\"Enter the length of the list :\"))\n",
    "print(n)\n",
    "\n",
    "# Define the Empty list\n",
    "list = []\n",
    "\n",
    "for i in range(n):\n",
    "    list.append(int(input(\"Enter the number for Multiply :\")))\n",
    "print(\"The List is\", list)\n",
    "multi = 1 \n",
    "\n",
    "for i in list:\n",
    "    multi = multi * i\n",
    "print(\"Product of Elements is List is ; \" , multi)"
   ]
  },
  {
   "cell_type": "markdown",
   "metadata": {},
   "source": [
    "-------"
   ]
  },
  {
   "cell_type": "markdown",
   "metadata": {},
   "source": [
    "## Ques 3 = Write a Python program to find smallest number in a list?"
   ]
  },
  {
   "cell_type": "code",
   "execution_count": 10,
   "metadata": {},
   "outputs": [
    {
     "name": "stdout",
     "output_type": "stream",
     "text": [
      "5\n",
      "Smallest Number is : [25, 12, 29, 45, 75]\n",
      "12\n"
     ]
    }
   ],
   "source": [
    "# define function\n",
    "def smallest(list):\n",
    "    list.sort() \n",
    "    return list[0]\n",
    "\n",
    "# Take a Input From The user \n",
    "n = int(input(\"Enter the range of numbers in the list : \"))\n",
    "print(n)\n",
    "li = []\n",
    "\n",
    "for i in range(n):\n",
    "    no = int(input(\"Enter the Numbers To be Add in List : \"))\n",
    "    li.append(no)\n",
    "\n",
    "# Print the Smallest Number\n",
    "print(f\"Smallest Number is : {li}\")\n",
    "\n",
    "# Calling And Printing The Funcions\n",
    "print(smallest(li))"
   ]
  },
  {
   "cell_type": "markdown",
   "metadata": {},
   "source": [
    "--------"
   ]
  },
  {
   "cell_type": "markdown",
   "metadata": {},
   "source": [
    "## Ques 4 = Write a Python program to find largest number in a list?"
   ]
  },
  {
   "cell_type": "code",
   "execution_count": 16,
   "metadata": {},
   "outputs": [
    {
     "name": "stdout",
     "output_type": "stream",
     "text": [
      "5\n",
      "Largest Number is : [1, 2, 3, 55, 6]\n",
      "55\n"
     ]
    }
   ],
   "source": [
    "# define function\n",
    "def Largest(list):\n",
    "    large = max(list) \n",
    "    return large\n",
    "\n",
    "# Take a Input From The user \n",
    "n = int(input(\"Enter the range of numbers in the list : \"))\n",
    "print(n)\n",
    "li = []\n",
    "\n",
    "for i in range(n):\n",
    "    no = int(input(\"Enter the Numbers To be Add in List : \"))\n",
    "    li.append(no)\n",
    "\n",
    "# Print the Smallest Number\n",
    "print(f\"Largest Number is : {li}\")\n",
    "\n",
    "# Calling And Printing The Funcions\n",
    "print(max(li))"
   ]
  },
  {
   "cell_type": "markdown",
   "metadata": {},
   "source": [
    "------"
   ]
  },
  {
   "cell_type": "markdown",
   "metadata": {},
   "source": [
    "## Ques 5 = Write a Python program to find second largest number in a list?"
   ]
  },
  {
   "cell_type": "code",
   "execution_count": 17,
   "metadata": {},
   "outputs": [
    {
     "name": "stdout",
     "output_type": "stream",
     "text": [
      "8\n",
      "Second Largest Number is : [12, 25, 36, 78, 94, 58, 65, 43]\n",
      "78\n"
     ]
    }
   ],
   "source": [
    "# define function\n",
    "def Second_Largest(list):\n",
    "    list.sort() \n",
    "    return list[-2]\n",
    "\n",
    "# Take a Input From The user \n",
    "n = int(input(\"Enter the range of numbers in the list : \"))\n",
    "print(n)\n",
    "li = []\n",
    "\n",
    "for i in range(n):\n",
    "    no = int(input(\"Enter the Numbers To be Add in List : \"))\n",
    "    li.append(no)\n",
    "\n",
    "# Print the Smallest Number\n",
    "print(f\"Second Largest Number is : {li}\")\n",
    "\n",
    "# Calling And Printing The Funcions\n",
    "print(Second_Largest(li))"
   ]
  },
  {
   "cell_type": "markdown",
   "metadata": {},
   "source": [
    "-------"
   ]
  },
  {
   "cell_type": "markdown",
   "metadata": {},
   "source": [
    "## Ques 6 = Write a Python program to find N largest elements from a list?"
   ]
  },
  {
   "cell_type": "code",
   "execution_count": 34,
   "metadata": {},
   "outputs": [
    {
     "name": "stdout",
     "output_type": "stream",
     "text": [
      "5\n",
      "4 3 2 8 3 2 Max elements in :  [4, 3, 2, 8, 3]\n",
      "[2, 3, 3, 4, 8]\n"
     ]
    }
   ],
   "source": [
    "# define function\n",
    "def N_max_elementss(list,N):\n",
    "    list.sort() \n",
    "    return list[-N : ]\n",
    "\n",
    "# Take a Input From The user \n",
    "li = []\n",
    "n = int(input(\"Enter the range of numbers in the list : \"))\n",
    "print(n)\n",
    "#li = []\n",
    "\n",
    "for i in range(n):\n",
    "    no = int(input(\"Enter the Numbers To be Add in List : \"))\n",
    "    print(no, end = \" \")\n",
    "    li.append(no)\n",
    "\n",
    "# Print The N Elements\n",
    "n1 = int(input(\"Enter The N Number : \" ))\n",
    "print(n1,\"Max elements in : \",li)\n",
    "\n",
    "# Calling And Printing The Funcions\n",
    "print(N_max_elementss(li , n))"
   ]
  },
  {
   "cell_type": "markdown",
   "metadata": {},
   "source": [
    "------"
   ]
  },
  {
   "cell_type": "markdown",
   "metadata": {},
   "source": [
    "## Ques 7 = Write a Python program to print even numbers in a list?"
   ]
  },
  {
   "cell_type": "code",
   "execution_count": 4,
   "metadata": {},
   "outputs": [
    {
     "name": "stdout",
     "output_type": "stream",
     "text": [
      "6\n",
      "Even Numbers is : [1, 2, 4, 8, 5, 6]\n",
      "[2, 4, 8, 6]\n"
     ]
    }
   ],
   "source": [
    "# Define Function\n",
    "def even(list):\n",
    "    new_list = []\n",
    "    for i in list:\n",
    "        if i % 2 == 0 :\n",
    "            new_list.append(i)\n",
    "    return new_list\n",
    "\n",
    "# Take a Input from The Users\n",
    "li = []\n",
    "n = int(input(\"Enter the list of Numbers :\"))\n",
    "print(n)\n",
    "for i in range(n):\n",
    "    m =  int(input(\"Enter elements of list : \"))\n",
    "    li.append(m)\n",
    "\n",
    "print(f\"Even Numbers is : {li}\")\n",
    "print(even(li))"
   ]
  },
  {
   "cell_type": "markdown",
   "metadata": {},
   "source": [
    "----------"
   ]
  },
  {
   "cell_type": "markdown",
   "metadata": {},
   "source": [
    "## Ques 8 = Write a Python program to print odd numbers in a List?"
   ]
  },
  {
   "cell_type": "code",
   "execution_count": 5,
   "metadata": {},
   "outputs": [
    {
     "name": "stdout",
     "output_type": "stream",
     "text": [
      "6\n",
      "odd Numbers is : [1, 5, 2, 8, 6, 9]\n",
      "[1, 5, 9]\n"
     ]
    }
   ],
   "source": [
    "# Define Function\n",
    "def odd(list):\n",
    "    new_list = []\n",
    "    for i in list:\n",
    "        if i % 2 != 0 :\n",
    "            new_list.append(i)\n",
    "    return new_list\n",
    "\n",
    "# Take a Input from The Users\n",
    "li = []\n",
    "n = int(input(\"Enter the list of Numbers :\"))\n",
    "print(n)\n",
    "for i in range(n):\n",
    "    m =  int(input(\"Enter elements of list : \"))\n",
    "    li.append(m)\n",
    "\n",
    "print(f\"odd Numbers is : {li}\")\n",
    "print(odd(li))"
   ]
  },
  {
   "cell_type": "markdown",
   "metadata": {},
   "source": [
    "-------"
   ]
  },
  {
   "cell_type": "markdown",
   "metadata": {},
   "source": [
    "## Ques 9 = Write a Python program to Remove empty List from List?"
   ]
  },
  {
   "cell_type": "code",
   "execution_count": 6,
   "metadata": {},
   "outputs": [
    {
     "name": "stdout",
     "output_type": "stream",
     "text": [
      "the list : [45, [], 89, 56, [], 213, [], 5465]\n",
      "The List after removing empth lists: [45, 89, 56, 213, 5465]\n"
     ]
    }
   ],
   "source": [
    "# Define the list \n",
    "list = [45,[],89,56,[],213,[],5465]\n",
    "print(\"the list :\",list)\n",
    "\n",
    "# Define The New List\n",
    "New_List = [item for item in list if item !=[]]\n",
    "print(\"The List after removing empth lists:\", New_List)\n"
   ]
  },
  {
   "cell_type": "markdown",
   "metadata": {},
   "source": [
    "-------"
   ]
  },
  {
   "cell_type": "markdown",
   "metadata": {},
   "source": [
    "## Ques 10 = Write a Python program to Cloning or Copying a list?"
   ]
  },
  {
   "cell_type": "code",
   "execution_count": 7,
   "metadata": {},
   "outputs": [
    {
     "name": "stdout",
     "output_type": "stream",
     "text": [
      "7\n",
      "2\n",
      "1\n",
      "5\n",
      "9\n",
      "8\n",
      "4\n",
      "6\n",
      "Original List : [2, 1, 5, 9, 8, 4, 6]\n",
      "After Cloning: [2, 1, 5, 9, 8, 4, 6]\n"
     ]
    }
   ],
   "source": [
    "li = [] \n",
    "# Take a Input From The users\n",
    "n = int(input(\"Enter the size of The list : \"))\n",
    "print(n)\n",
    "for i in range(n):\n",
    "    m  = int(input(\"Enter the Elements Of The List\"))\n",
    "    print(m)\n",
    "    li.append(m)\n",
    "print(f\"Original List : {li}\")\n",
    "\n",
    "# Cloning\n",
    "list_copy = []\n",
    "for num in li:\n",
    "    list_copy.append(num)\n",
    "\n",
    "print(f\"After Cloning: {list_copy}\" )"
   ]
  },
  {
   "cell_type": "markdown",
   "metadata": {},
   "source": [
    "--------"
   ]
  },
  {
   "cell_type": "markdown",
   "metadata": {},
   "source": [
    "## Ques 11 = Write a Python program to Count occurrences of an element in a list?"
   ]
  },
  {
   "cell_type": "code",
   "execution_count": 15,
   "metadata": {},
   "outputs": [
    {
     "name": "stdout",
     "output_type": "stream",
     "text": [
      "10\n",
      "1\n",
      "2\n",
      "3\n",
      "5\n",
      "5\n",
      "6\n",
      "8\n",
      "9\n",
      "5\n",
      "1\n",
      "Original List:  [1, 2, 3, 5, 5, 6, 8, 9, 5, 1]\n",
      "5\n",
      "5 has Occurred  3 times\n"
     ]
    }
   ],
   "source": [
    "# Take a Input From The Users\n",
    "li = []\n",
    "n = int(input(\"Enter the Size of List:\"))\n",
    "print(n)\n",
    "for i in range(0,n):\n",
    "    e = int(input(\"Enter elements of list : \"))\n",
    "    print(e)\n",
    "    li.append(e)\n",
    "print(\"Original List: \",li)\n",
    "\n",
    "n  = int(input(\"Enter The Elements to be checked in the list: \"))\n",
    "print(n)\n",
    "# using Count()\n",
    "\n",
    "print(n,\"has Occurred \" ,li.count(n),\"times\")"
   ]
  },
  {
   "cell_type": "markdown",
   "metadata": {},
   "source": [
    "---------"
   ]
  },
  {
   "cell_type": "markdown",
   "metadata": {},
   "source": [
    "                                                                    END"
   ]
  }
 ],
 "metadata": {
  "kernelspec": {
   "display_name": "Python 3",
   "language": "python",
   "name": "python3"
  },
  "language_info": {
   "codemirror_mode": {
    "name": "ipython",
    "version": 3
   },
   "file_extension": ".py",
   "mimetype": "text/x-python",
   "name": "python",
   "nbconvert_exporter": "python",
   "pygments_lexer": "ipython3",
   "version": "3.11.8"
  }
 },
 "nbformat": 4,
 "nbformat_minor": 2
}
