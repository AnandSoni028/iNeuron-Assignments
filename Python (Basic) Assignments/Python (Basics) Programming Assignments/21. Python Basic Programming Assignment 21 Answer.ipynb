{
 "cells": [
  {
   "cell_type": "markdown",
   "metadata": {},
   "source": [
    "## Ques 1 = Write a function that takes a list and a number as arguments. Add the number to the end of the list, then remove the first element of the list. The function should then return the updated list.\n",
    "\n",
    "Examples\n",
    "\n",
    "next_in_line([5, 6, 7, 8, 9], 1) ➞ [6, 7, 8, 9, 1]\n",
    "\n",
    "next_in_line([7, 6, 3, 23, 17], 10) ➞ [6, 3, 23, 17, 10]\n",
    "\n",
    "next_in_line([1, 10, 20, 42 ], 6) ➞ [10, 20, 42, 6]\n",
    "\n",
    "next_in_line([], 6) ➞ \"No list has been selected\"\n"
   ]
  },
  {
   "cell_type": "code",
   "execution_count": 12,
   "metadata": {},
   "outputs": [
    {
     "name": "stdout",
     "output_type": "stream",
     "text": [
      "next_in_line([6, 7, 8, 9, 1],1) -> [6, 7, 8, 9, 1]\n",
      "\n",
      "next_in_line([6, 3, 23, 17, 10],10) -> [6, 3, 23, 17, 10]\n",
      "\n",
      "next_in_line([10, 20, 42, 6],6) -> [10, 20, 42, 6]\n",
      "\n",
      "next_in_line([],6) - > No list has been selected\n"
     ]
    }
   ],
   "source": [
    "# Define The Funcitons\n",
    "def next_in_line(list,num):\n",
    "    \n",
    "    # Check The Conditions\n",
    "    if len(list) > 1:\n",
    "        list.append(num)  # Add the Number to the end\n",
    "        list.remove(list[0]) # Remove The First Elements\n",
    "        \n",
    "        # Print The Result\n",
    "        print(f\"next_in_line({list},{num}) -> {list}\\n\")\n",
    "    else:\n",
    "        print(f\"next_in_line({list},{num}) - > No list has been selected\")\n",
    "\n",
    "\n",
    "next_in_line([5, 6, 7, 8, 9], 1)\n",
    "next_in_line([7, 6, 3, 23, 17], 10) \n",
    "next_in_line([1, 10, 20, 42 ], 6)\n",
    "next_in_line([], 6)"
   ]
  },
  {
   "cell_type": "markdown",
   "metadata": {},
   "source": [
    "-----"
   ]
  },
  {
   "cell_type": "markdown",
   "metadata": {},
   "source": [
    "## Ques 2 = Create the function that takes a list of dictionaries and returns the sum of people's budgets.\n",
    "\n",
    "Examples\n",
    " \n",
    "get_budgets([\n",
    "  { \"name\": \"John\", \"age\": 21, \"budget\": 23000 },\n",
    "  { \"name\": \"Steve\",  \"age\": 32, \"budget\": 40000 },\n",
    "  { \"name\": \"Martin\",  \"age\": 16, \"budget\": 2700 }\n",
    " ]) ➞ 65700\n",
    "\n",
    "get_budgets([\n",
    "  { \"name\": \"John\",  \"age\": 21, \"budget\": 29000 },\n",
    "  { \"name\": \"Steve\",  \"age\": 32, \"budget\": 32000 },\n",
    "  { \"name\": \"Martin\",  \"age\": 16, \"budget\": 1600 }\n",
    "]) ➞ 62600\n",
    "\n"
   ]
  },
  {
   "cell_type": "code",
   "execution_count": 14,
   "metadata": {},
   "outputs": [
    {
     "name": "stdout",
     "output_type": "stream",
     "text": [
      "Sum of Budget -> 65700\n",
      "Sum of Budget -> 62600\n"
     ]
    }
   ],
   "source": [
    "# Define The Function\n",
    "def get_budgets(list):\n",
    "    \n",
    "    # intialize the budget\n",
    "    budget_sum  = 0 \n",
    "\n",
    "    # Check The Conditions\n",
    "    for i in list:\n",
    "        budget_sum += i[\"budget\"]\n",
    "    \n",
    "    # Print The Results\n",
    "    print(f\"Sum of Budget -> {budget_sum}\")\n",
    "\n",
    "get_budgets([\n",
    "  { \"name\": \"John\", \"age\": 21, \"budget\": 23000 },\n",
    "  { \"name\": \"Steve\",  \"age\": 32, \"budget\": 40000 },\n",
    "  { \"name\": \"Martin\",  \"age\": 16, \"budget\": 2700 }\n",
    " ]) \n",
    "\n",
    "get_budgets([\n",
    "  { \"name\": \"John\",  \"age\": 21, \"budget\": 29000 },\n",
    "  { \"name\": \"Steve\",  \"age\": 32, \"budget\": 32000 },\n",
    "  { \"name\": \"Martin\",  \"age\": 16, \"budget\": 1600 }\n",
    "])\n"
   ]
  },
  {
   "cell_type": "markdown",
   "metadata": {},
   "source": [
    "----"
   ]
  },
  {
   "cell_type": "markdown",
   "metadata": {},
   "source": [
    "## Ques 3 = Create a function that takes a string and returns a string with its letters in alphabetical order.\n",
    "\n",
    "Examples\n",
    "\n",
    "alphabet_soup(\"hello\") ➞ \"ehllo\"\n",
    "\n",
    "alphabet_soup(\"edabit\") ➞ \"abdeit\"\n",
    "\n",
    "alphabet_soup(\"hacker\") ➞ \"acehkr\"\n",
    "\n",
    "alphabet_soup(\"geek\") ➞ \"eegk\"\n",
    "\n",
    "alphabet_soup(\"javascript\") ➞ \"aacijprstv\"\n"
   ]
  },
  {
   "cell_type": "code",
   "execution_count": 21,
   "metadata": {},
   "outputs": [
    {
     "name": "stdout",
     "output_type": "stream",
     "text": [
      "alphabet_soup(hello) -> ehllo\n",
      "\n",
      "alphabet_soup(edabit) -> abdeit\n",
      "\n",
      "alphabet_soup(hacker) -> acehkr\n",
      "\n",
      "alphabet_soup(geek) -> eegk\n",
      "\n",
      "alphabet_soup(javascript) -> aacijprstv\n",
      "\n"
     ]
    }
   ],
   "source": [
    "# Define The Functions\n",
    "def alphabet_soup(in_str):\n",
    "\n",
    "    # Initialize The output string\n",
    "    out_str = ''\n",
    "\n",
    "    # Check The Conditions\n",
    "    for i in in_str:\n",
    "        out_str = ''.join(sorted(in_str))\n",
    "        \n",
    "    # Print The Results\n",
    "    print(f\"alphabet_soup({in_str}) -> {out_str}\\n\")\n",
    "\n",
    "alphabet_soup(\"hello\") \n",
    "alphabet_soup(\"edabit\") \n",
    "alphabet_soup(\"hacker\")\n",
    "alphabet_soup(\"geek\") \n",
    "alphabet_soup(\"javascript\") "
   ]
  },
  {
   "cell_type": "markdown",
   "metadata": {},
   "source": [
    "-----"
   ]
  },
  {
   "cell_type": "markdown",
   "metadata": {},
   "source": [
    "## Ques 4 = Suppose that you invest $10,000 for 10 years at an interest rate of 6% compounded monthly. What will be the value of your investment at the end of the 10 year period?\n",
    "\n",
    "Create a function that accepts the principal p, the term in years t, the interest rate r, and the number of compounding periods per year n. The function returns the value at the end of term rounded to the nearest cent.\n",
    "\n",
    "For the example above:\n",
    "\n",
    "compound_interest(10000, 10, 0.06, 12) ➞ 18193.97\n",
    "Note that the interest rate is given as a decimal and n=12 because with monthly compounding there are 12 periods per year. Compounding can also be done annually, quarterly, weekly, or daily.\n",
    "\n",
    "Examples\n",
    "\n",
    "compound_interest(100, 1, 0.05, 1) ➞ 105.0\n",
    "\n",
    "compound_interest(3500, 15, 0.1, 4) ➞ 15399.26\n",
    "\n",
    "compound_interest(100000, 20, 0.15, 365) ➞ 2007316.26\n"
   ]
  },
  {
   "cell_type": "code",
   "execution_count": 23,
   "metadata": {},
   "outputs": [
    {
     "name": "stdout",
     "output_type": "stream",
     "text": [
      "compound_interest((100, 1, 0.05, 1))- >105.00\n",
      "compound_interest((3500, 15, 0.1, 4))- >15399.26\n",
      "compound_interest((100000, 20, 0.15, 365))- >2007316.26\n"
     ]
    }
   ],
   "source": [
    "# Define The Functions\n",
    "def compound_interest(principal,years,roi,cp):\n",
    "\n",
    "    # Check The Conditions\n",
    "    ci = principal*(1+(roi/cp))**(cp*years)\n",
    "    \n",
    "    # Print The Results\n",
    "    print(f\"compound_interest({principal,years,roi,cp})- >{ci:.2f}\")\n",
    "\n",
    "compound_interest(100, 1, 0.05, 1)\n",
    "compound_interest(3500, 15, 0.1, 4)\n",
    "compound_interest(100000, 20, 0.15, 365)"
   ]
  },
  {
   "cell_type": "markdown",
   "metadata": {},
   "source": [
    "------"
   ]
  },
  {
   "cell_type": "markdown",
   "metadata": {},
   "source": [
    "## Ques 5 = Write a function that takes a list of elements and returns only the integers.\n",
    "\n",
    "Examples\n",
    "\n",
    "return_only_integer([9, 2, \"space\", \"car\", \"lion\", 16]) ➞ [9, 2, 16]\n",
    "\n",
    "return_only_integer([\"hello\", 81, \"basketball\", 123, \"fox\"]) ➞ [81, 123]\n",
    "\n",
    "return_only_integer([10, \"121\", 56, 20, \"car\", 3, \"lion\"]) ➞ [10, 56, 20, 3]\n",
    "\n",
    "return_only_integer([\"String\",  True,  3.3,  1]) ➞ [1]\n"
   ]
  },
  {
   "cell_type": "code",
   "execution_count": 26,
   "metadata": {},
   "outputs": [
    {
     "name": "stdout",
     "output_type": "stream",
     "text": [
      "return_only_val([9, 2, 'space', 'car', 'lion', 16]) -> [9, 2, 16]\n",
      "\n",
      "return_only_val(['hello', 81, 'basketball', 123, 'fox']) -> [81, 123]\n",
      "\n",
      "return_only_val([10, '121', 56, 20, 'car', 3, 'lion']) -> [10, 56, 20, 3]\n",
      "\n",
      "return_only_val(['String', True, 3.3, 1]) -> [1]\n",
      "\n"
     ]
    }
   ],
   "source": [
    "# Define The Functions\n",
    "def return_integer_val(ele_list):\n",
    "    # Initilize The Empty List\n",
    "    out_list = []\n",
    "\n",
    "    # Check The Conditions\n",
    "    for i in ele_list:\n",
    "        if type(i) == int:\n",
    "            out_list.append(i)\n",
    "\n",
    "    # Print The Result\n",
    "    print(f\"return_only_val({ele_list}) -> {out_list}\\n\")\n",
    "\n",
    "return_integer_val([9, 2, \"space\", \"car\", \"lion\", 16])\n",
    "return_integer_val([\"hello\", 81, \"basketball\", 123, \"fox\"])\n",
    "return_integer_val([10, \"121\", 56, 20, \"car\", 3, \"lion\"])\n",
    "return_integer_val([\"String\", True, 3.3, 1])"
   ]
  },
  {
   "cell_type": "markdown",
   "metadata": {},
   "source": [
    "----"
   ]
  },
  {
   "cell_type": "markdown",
   "metadata": {},
   "source": [
    "                                                                    END"
   ]
  }
 ],
 "metadata": {
  "kernelspec": {
   "display_name": "Python 3",
   "language": "python",
   "name": "python3"
  },
  "language_info": {
   "codemirror_mode": {
    "name": "ipython",
    "version": 3
   },
   "file_extension": ".py",
   "mimetype": "text/x-python",
   "name": "python",
   "nbconvert_exporter": "python",
   "pygments_lexer": "ipython3",
   "version": "3.11.8"
  }
 },
 "nbformat": 4,
 "nbformat_minor": 2
}
