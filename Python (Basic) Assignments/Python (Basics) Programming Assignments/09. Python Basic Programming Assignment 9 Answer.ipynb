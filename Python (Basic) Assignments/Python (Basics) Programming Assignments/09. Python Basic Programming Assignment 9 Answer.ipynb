{
 "cells": [
  {
   "cell_type": "markdown",
   "metadata": {},
   "source": [
    "## Ques 1 = Write a Python program to check if the given number is a Disarium Number?"
   ]
  },
  {
   "cell_type": "markdown",
   "metadata": {},
   "source": [
    "## A number is called a Disarium number if the sum of its digits raised to the power of their respective positions is equal to the number itself. For example, 175 is a Disarium number because 11 + 72 + 53 = 1 + 49 + 125 = 175."
   ]
  },
  {
   "cell_type": "code",
   "execution_count": 4,
   "metadata": {},
   "outputs": [
    {
     "name": "stdout",
     "output_type": "stream",
     "text": [
      "Enter no is :153\n",
      "This is not a Disarium Number.\n"
     ]
    }
   ],
   "source": [
    "# Take The Input From The Users\n",
    "num = input(\"Enter Your Number to check it Disarium :\")\n",
    "result = 0\n",
    "print(f\"Enter no is :{num}\")\n",
    "\n",
    "#checking the number is disarium or not\n",
    "for j, i in enumerate(num):\n",
    "    result += int(i) ** (j+1)\n",
    "\n",
    "if result == int(no):\n",
    "    print(\"This is a Disarium Number\")\n",
    "else:\n",
    "    print(\"This is not a Disarium Number.\")"
   ]
  },
  {
   "cell_type": "markdown",
   "metadata": {},
   "source": [
    "-------"
   ]
  },
  {
   "cell_type": "markdown",
   "metadata": {},
   "source": [
    "## Ques 2 = Write a Python program to print all disarium numbers between 1 to 100?"
   ]
  },
  {
   "cell_type": "code",
   "execution_count": 6,
   "metadata": {},
   "outputs": [
    {
     "name": "stdout",
     "output_type": "stream",
     "text": [
      "Disarium Number betweeen 1 to 100 is : [1, 2, 3, 4, 5, 6, 7, 8, 9, 89]\n"
     ]
    }
   ],
   "source": [
    "# Define the num function start = 0 and start = 100\n",
    "def num(start = 0 , end = 100):\n",
    "    # Define Empty String with output_num \n",
    "    output_num = []\n",
    "\n",
    "    # checking the number is disarium or not\n",
    "    for i in range(start , end+1 ):\n",
    "        sum = 0 \n",
    "        for j in range(len(str(i))):\n",
    "            sum += int(str(i)[j])**(j+1)\n",
    "        if sum == i:\n",
    "            output_num.append(i)\n",
    "            \n",
    "    # printing disarium numbers\n",
    "    return print(\"Disarium Number betweeen 1 to 100 is :\",output_num)\n",
    "\n",
    "num(1,100)\n"
   ]
  },
  {
   "cell_type": "markdown",
   "metadata": {},
   "source": [
    "-------"
   ]
  },
  {
   "cell_type": "markdown",
   "metadata": {},
   "source": [
    "## Ques 3 = Write a Python program to check if the given number is Happy Number?"
   ]
  },
  {
   "cell_type": "markdown",
   "metadata": {},
   "source": [
    "# A number is said to be happy if it yields 1 when replaced by the sum of squares of its digits repeatedly.\n",
    "# If this process results in an endless cycle of numbers containing 4, then the number will be an unhappy number. \n",
    "     "
   ]
  },
  {
   "cell_type": "code",
   "execution_count": 14,
   "metadata": {},
   "outputs": [
    {
     "name": "stdout",
     "output_type": "stream",
     "text": [
      "82\n",
      "82 is a Happy Number.\n"
     ]
    }
   ],
   "source": [
    "def HappyNumber(num):\n",
    "    sum = 0\n",
    "\n",
    "# Calculate the sum of squares of digits\n",
    "    while(num > 0):\n",
    "        digit = num % 10\n",
    "        sum = sum + digit**2\n",
    "        num = num//10\n",
    "    return sum\n",
    "# Take a input From the User\n",
    "num = int(input(\"Enter your number to check whether is a Happy No or not :\"))\n",
    "print(num)\n",
    "result = num\n",
    "\n",
    "#Happy number always ends with 1\n",
    "while (result !=1 and result != 4 ):\n",
    "    result = HappyNumber(result)\n",
    "\n",
    "if result == 1:\n",
    "    print(num,\"is a Happy Number.\")\n",
    "else:\n",
    "    print(num,\"is Not a Happy Number\")"
   ]
  },
  {
   "cell_type": "markdown",
   "metadata": {},
   "source": [
    "--------"
   ]
  },
  {
   "cell_type": "markdown",
   "metadata": {},
   "source": [
    "## Ques 4 = Write a Python program to print all happy numbers between 1 and 100?"
   ]
  },
  {
   "cell_type": "code",
   "execution_count": 16,
   "metadata": {},
   "outputs": [
    {
     "name": "stdout",
     "output_type": "stream",
     "text": [
      "Happy Number in range of 1 to 100 : \n",
      "[1, 7, 10, 13, 19, 23, 28, 31, 32, 44, 49, 68, 70, 79, 82, 86, 91, 94, 97]\n"
     ]
    }
   ],
   "source": [
    "def HappyNumber(num):\n",
    "    sum = 0\n",
    "    \n",
    "    # Calculate the sum of squares of digits\n",
    "    while(num > 0):\n",
    "        digit = num % 10\n",
    "        sum = sum + digit**2\n",
    "        num = num//10\n",
    "    return sum\n",
    "\n",
    "#Displays all happy numbers between 1 and 100 \n",
    "print(\"Happy Number in range of 1 to 100 : \")\n",
    "result = num = i = 0\n",
    "\n",
    "Happynumber = []\n",
    "\n",
    "for i in range(1,100):\n",
    "    result = i \n",
    "    while (result !=1 and result!=4):\n",
    "        result = HappyNumber(result)\n",
    "    if result == 1 :\n",
    "        Happynumber.append(i)\n",
    "print(Happynumber)\n"
   ]
  },
  {
   "cell_type": "markdown",
   "metadata": {},
   "source": [
    "--------"
   ]
  },
  {
   "cell_type": "markdown",
   "metadata": {},
   "source": [
    "## Ques 5 = Write a Python program to determine whether the given number is a Harshad Number?"
   ]
  },
  {
   "cell_type": "markdown",
   "metadata": {},
   "source": [
    "Answer - A Harshad Number (also known as a Niven number) is an integer that is divisible by the sum of its digits in a given base. A harshad number in base n is called an n-harshad number."
   ]
  },
  {
   "cell_type": "code",
   "execution_count": 24,
   "metadata": {},
   "outputs": [
    {
     "name": "stdout",
     "output_type": "stream",
     "text": [
      "156\n",
      "156 is a Harshad Number\n"
     ]
    }
   ],
   "source": [
    "num = int(input(\"Enter a number to check it is Harshad Number or not :\"))\n",
    "print(num)\n",
    "# Make a copy of num and store it in variable n\n",
    "n = num \n",
    "sum = 0 \n",
    "\n",
    "# Calculates sum of digits\n",
    "while(n > 0):\n",
    "    rem =  n % 10\n",
    "    sum = sum + rem \n",
    "    n = n //10\n",
    "\n",
    "# Check Whether the number is divisible by the sum of digits\n",
    "if (num % sum == 0 ):\n",
    "    print(num, \"is a Harshad Number\")\n",
    "else:\n",
    "    print(num, \"is a not Harshad Number\")"
   ]
  },
  {
   "cell_type": "markdown",
   "metadata": {},
   "source": [
    "-------"
   ]
  },
  {
   "cell_type": "markdown",
   "metadata": {},
   "source": [
    "## Ques 6 = Write a Python program to print all pronic numbers between 1 and 100?"
   ]
  },
  {
   "cell_type": "markdown",
   "metadata": {},
   "source": [
    "Answer - A Pronic Number is a number which is the product of two consecutive integers, that is, a number of the form n(n + 1)."
   ]
  },
  {
   "cell_type": "code",
   "execution_count": 25,
   "metadata": {},
   "outputs": [
    {
     "name": "stdout",
     "output_type": "stream",
     "text": [
      "Pronic Number between 1 to 100 is:\n",
      "[2, 6, 12, 20, 30, 42, 56, 72, 90]\n"
     ]
    }
   ],
   "source": [
    "def Pronic(num):\n",
    "    flag = 0\n",
    "    for i in range(1, num+1):\n",
    "         #Checks for pronic number by multiplying consecutive numbers    \n",
    "        if (i*(i+1)==num):\n",
    "            flag = 1 \n",
    "            break\n",
    "    return flag\n",
    "\n",
    "#Displays pronic numbers between 1 and 100  \n",
    "print(\"Pronic Number between 1 to 100 is:\")\n",
    "\n",
    "Pronicno = []\n",
    "\n",
    "for i in range(1,101):\n",
    "    if Pronic(i):\n",
    "        Pronicno.append(i)\n",
    "print(Pronicno)"
   ]
  },
  {
   "cell_type": "markdown",
   "metadata": {},
   "source": [
    "-------"
   ]
  },
  {
   "cell_type": "markdown",
   "metadata": {},
   "source": [
    "                                                                    END"
   ]
  }
 ],
 "metadata": {
  "kernelspec": {
   "display_name": "Python 3",
   "language": "python",
   "name": "python3"
  },
  "language_info": {
   "codemirror_mode": {
    "name": "ipython",
    "version": 3
   },
   "file_extension": ".py",
   "mimetype": "text/x-python",
   "name": "python",
   "nbconvert_exporter": "python",
   "pygments_lexer": "ipython3",
   "version": "3.11.8"
  }
 },
 "nbformat": 4,
 "nbformat_minor": 2
}
