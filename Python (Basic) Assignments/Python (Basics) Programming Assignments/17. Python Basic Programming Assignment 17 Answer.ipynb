{
 "cells": [
  {
   "cell_type": "markdown",
   "metadata": {},
   "source": [
    "## Ques 1 = Create a function that takes three arguments a, b, c and returns the sum of the numbers that are evenly divided by c from the range a, b inclusive.\n",
    "\n",
    "Examples\n",
    "evenly_divisible(1, 10, 20) ➞ 0\n",
    "\n",
    "## No number between 1 and 10 can be evenly divided by 20.\n",
    "\n",
    "evenly_divisible(1, 10, 2) ➞ 30\n",
    "##  2 + 4 + 6 + 8 + 10 = 30\n",
    "\n",
    "evenly_divisible(1, 10, 3) ➞ 18\n",
    "## 3 + 6 + 9 = 18\n"
   ]
  },
  {
   "cell_type": "code",
   "execution_count": 4,
   "metadata": {},
   "outputs": [
    {
     "name": "stdout",
     "output_type": "stream",
     "text": [
      "1\n",
      "10\n",
      "20\n",
      "divisible number are : []\n",
      "No number between 1 and 10 can be evently divided by 20\n",
      "\n",
      "1\n",
      "10\n",
      "2\n",
      "divisible number are : [2, 4, 6, 8, 10]\n",
      "evenly_divisible((1, 10, 2)) -> 30\n",
      "\n",
      "1\n",
      "10\n",
      "3\n",
      "divisible number are : [3, 6, 9]\n",
      "evenly_divisible((1, 10, 3)) -> 18\n",
      "\n"
     ]
    }
   ],
   "source": [
    "# Difine The Functions\n",
    "def evenly_divisible():\n",
    "    # Take The Input From The Users\n",
    "    a =int(input(\"Enter The Number a : \"))\n",
    "    print(a)\n",
    "    b =int(input(\"Enter The Number b : \"))\n",
    "    print(b)\n",
    "    c =int(input(\"Enter The Number c : \"))\n",
    "    print(c)\n",
    "\n",
    "    # Define The Empty List\n",
    "    empty_list = []\n",
    "    # Check The Conditions\n",
    "    for i in range(a,b+1):\n",
    "        if i % c == 0:\n",
    "            empty_list.append(i)\n",
    "    print(f\"divisible number are : {empty_list}\")\n",
    "\n",
    "    list_sum = sum(empty_list)\n",
    "    if list_sum == 0 :\n",
    "        print(f\"No number between {a} and {b} can be evently divided by {c}\\n\")\n",
    "    else:\n",
    "        print(f\"evenly_divisible({a,b,c}) -> {list_sum}\\n\")\n",
    "    \n",
    "# Take Input A,B,C \n",
    "for j in range(3):\n",
    "    evenly_divisible()\n"
   ]
  },
  {
   "cell_type": "markdown",
   "metadata": {},
   "source": [
    "-----"
   ]
  },
  {
   "cell_type": "markdown",
   "metadata": {},
   "source": [
    "## Ques 2 = Create a function that returns True if a given inequality expression is correct and False otherwise.\n",
    "Examples\n",
    "correct_signs(\"3 < 7 < 11\") ➞ True\n",
    "\n",
    "correct_signs(\"13 > 44 > 33 > 1\") ➞ False\n",
    "\n",
    "correct_signs(\"1 < 2 < 6 < 9 > 3\") ➞ True\n"
   ]
  },
  {
   "cell_type": "code",
   "execution_count": 5,
   "metadata": {},
   "outputs": [
    {
     "name": "stdout",
     "output_type": "stream",
     "text": [
      "3<7<11\n",
      "correct_sign(3<7<11) -> True\n",
      "\n",
      "13>44>33>1\n",
      "correct_sign(13>44>33>1) -> False\n",
      "\n",
      "1<2<6<9>3\n",
      "correct_sign(1<2<6<9>3) -> True\n",
      "\n"
     ]
    }
   ],
   "source": [
    "# Define The Functions \n",
    "def inequality_exp():\n",
    "\n",
    "    # Take The Input From The Users\n",
    "    Exp = input(\"Enter The Inequality :\")\n",
    "    print(Exp)\n",
    "    out_exp = eval(Exp)\n",
    "    \n",
    "    # Print The Result\n",
    "    print(f\"correct_sign({Exp}) -> {out_exp}\\n\")\n",
    "\n",
    "for i in range(3):\n",
    "    inequality_exp()"
   ]
  },
  {
   "cell_type": "markdown",
   "metadata": {},
   "source": [
    "---"
   ]
  },
  {
   "cell_type": "markdown",
   "metadata": {},
   "source": [
    "## Ques 3 = Create a function that replaces all the vowels in a string with a specified character.\n",
    "Examples\n",
    "\n",
    "replace_vowels(\"the aardvark\", \"#\") ➞ \"th# ##rdv#rk\"\n",
    "\n",
    "replace_vowels(\"minnie mouse\", \"?\") ➞ \"m?nn?? m??s?\"\n",
    "\n",
    "replace_vowels(\"shakespeare\", \"*\") ➞ \"sh*k*sp**r*\"\n",
    "\n"
   ]
  },
  {
   "cell_type": "code",
   "execution_count": 13,
   "metadata": {},
   "outputs": [
    {
     "name": "stdout",
     "output_type": "stream",
     "text": [
      "the aardvark\n",
      "#\n",
      "rep_vowels(th# ##rdv#rk,#) -> th# ##rdv#rk\n",
      "\n",
      "minnie mouse\n",
      "?\n",
      "rep_vowels(m?nn?? m??s?,?) -> m?nn?? m??s?\n",
      "\n",
      "shakespeare\n",
      "*\n",
      "rep_vowels(sh*k*sp**r*,*) -> sh*k*sp**r*\n",
      "\n"
     ]
    }
   ],
   "source": [
    "# Define The Function\n",
    "def rep_vowels():\n",
    "\n",
    "    # Define The Vowels\n",
    "    vowels = \"AEIOUaeiou\"\n",
    "    \n",
    "    # Take The Input From The Users\n",
    "    input_str = input(\"Enter First String :\")\n",
    "    print(input_str)\n",
    "    \n",
    "    # Take The Input From The Users\n",
    "    replace_char = (input(\"Enter Replacement Characters : \"))\n",
    "    print(replace_char)\n",
    "    \n",
    "    # Check The Condition \n",
    "    for i in input_str:\n",
    "        if i in vowels:\n",
    "            input_str = input_str.replace(i,replace_char)\n",
    "    \n",
    "    # Print The Result\n",
    "    print(f\"rep_vowels({input_str},{replace_char}) -> {input_str}\\n\")\n",
    "\n",
    "for i in range(3):\n",
    "    rep_vowels()    "
   ]
  },
  {
   "cell_type": "markdown",
   "metadata": {},
   "source": [
    "--------"
   ]
  },
  {
   "cell_type": "markdown",
   "metadata": {},
   "source": [
    "## Ques 4 = Write a function that calculates the factorial of a number recursively.\n",
    "Examples\n",
    "\n",
    "factorial(5) ➞ 120\n",
    "\n",
    "factorial(3) ➞ 6\n",
    "\n",
    "factorial(1) ➞ 1\n",
    "\n",
    "factorial(0) ➞ 1\n",
    "\n"
   ]
  },
  {
   "cell_type": "code",
   "execution_count": 18,
   "metadata": {},
   "outputs": [
    {
     "name": "stdout",
     "output_type": "stream",
     "text": [
      "Enter the Number :5 \n",
      "Factorial(5) -> 120\n",
      "\n",
      "Enter the Number :3 \n",
      "Factorial(3) -> 6\n",
      "\n",
      "Enter the Number :1 \n",
      "Factorial(1) -> 1\n",
      "\n",
      "Enter the Number :0 \n",
      "Factorial(0) -> 1\n",
      "\n"
     ]
    }
   ],
   "source": [
    "# Define The Functions\n",
    "def factorial():\n",
    "    fact = int(input(\"Enter The No : \"))\n",
    "    print(f\"Enter the Number :{fact} \")\n",
    "    a = 1\n",
    "    # Check The Condition \n",
    "    for i in range(1 , fact+1):\n",
    "        a = a * i\n",
    "        \n",
    "     # Print The Result  \n",
    "    print(f\"Factorial({fact}) -> {a}\\n\")\n",
    "\n",
    "for i in range(4):\n",
    "    factorial()"
   ]
  },
  {
   "cell_type": "markdown",
   "metadata": {},
   "source": [
    "----"
   ]
  },
  {
   "cell_type": "markdown",
   "metadata": {},
   "source": [
    "## Ques 5 = Hamming distance is the number of characters that differ between two strings.\n",
    "To illustrate:\n",
    "String1: \"abcbba\"\n",
    "String2: \"abcbda\"\n",
    "\n",
    "Hamming Distance: 1 - \"b\" vs. \"d\" is the only difference.\n",
    "\n",
    "Create a function that computes the hamming distance between two strings.\n",
    "\n",
    "Examples\n",
    "\n",
    "hamming_distance(\"abcde\", \"bcdef\") ➞ 5\n",
    "\n",
    "hamming_distance(\"abcde\", \"abcde\") ➞ 0\n",
    "\n",
    "hamming_distance(\"strong\", \"strung\") ➞ 1\n",
    "\n"
   ]
  },
  {
   "cell_type": "code",
   "execution_count": 19,
   "metadata": {},
   "outputs": [
    {
     "name": "stdout",
     "output_type": "stream",
     "text": [
      "string are : abcde\n",
      "string are : bcdef\n",
      "Hamming-Distance(abcde,bcdef) -> 5\n",
      "\n",
      "string are : abcde\n",
      "string are : abcde\n",
      "Hamming-Distance(abcde,abcde) -> 0\n",
      "\n",
      "string are : strong\n",
      "string are : strung\n",
      "Hamming-Distance(strong,strung) -> 1\n",
      "\n"
     ]
    }
   ],
   "source": [
    "# Define The Functions \n",
    "def harmming_distance():\n",
    "    # Take The Input Form The Users\n",
    "    str1 = input(\"Enter string 1 :\")\n",
    "    print(f\"string are : {str1}\")\n",
    "    str2 = input(\"Enter string 2 :\")\n",
    "    print(f\"string are : {str2}\")\n",
    "\n",
    "    #Check if the strings have the same length\n",
    "    if len(str1) == len(str2):\n",
    "        count = 0\n",
    "\n",
    "        for i in range(len(str1)):\n",
    "            if str1[i] != str2[i]:\n",
    "                count = count + 1 \n",
    "        # Print The Result\n",
    "        print(f\"Hamming-Distance({str1},{str2}) -> {count}\\n\")\n",
    "    else:\n",
    "        print(\"Both String is Same Length\")\n",
    "\n",
    "for i in range(3):\n",
    "    harmming_distance()\n"
   ]
  },
  {
   "cell_type": "markdown",
   "metadata": {},
   "source": [
    "----"
   ]
  },
  {
   "cell_type": "markdown",
   "metadata": {},
   "source": [
    "                                                                    END"
   ]
  }
 ],
 "metadata": {
  "kernelspec": {
   "display_name": "Python 3",
   "language": "python",
   "name": "python3"
  },
  "language_info": {
   "codemirror_mode": {
    "name": "ipython",
    "version": 3
   },
   "file_extension": ".py",
   "mimetype": "text/x-python",
   "name": "python",
   "nbconvert_exporter": "python",
   "pygments_lexer": "ipython3",
   "version": "3.11.8"
  }
 },
 "nbformat": 4,
 "nbformat_minor": 2
}
