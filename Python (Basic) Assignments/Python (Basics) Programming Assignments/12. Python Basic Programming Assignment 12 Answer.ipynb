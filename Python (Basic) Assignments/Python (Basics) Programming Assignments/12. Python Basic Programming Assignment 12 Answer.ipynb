{
 "cells": [
  {
   "cell_type": "markdown",
   "metadata": {},
   "source": [
    "## Ques 1 = Write a Python program to Extract Unique values dictionary values?"
   ]
  },
  {
   "cell_type": "code",
   "execution_count": 13,
   "metadata": {},
   "outputs": [
    {
     "name": "stdout",
     "output_type": "stream",
     "text": [
      "Dictionary Values :dict_values(['Italy', 'Germany', 'USA', 'Japan', 'Italy', 'Germany'])\n",
      "Unique Values : ['Japan', 'Italy', 'Germany', 'USA']\n"
     ]
    }
   ],
   "source": [
    "# Define Dictionary with Values\n",
    "dict = {\"Lamborghini\" : \"Italy\",\"Mercedes\" : \"Germany\" , \"Ford\" : \"USA\" , \"Lexus\" : \"Japan\", \"Farrai\" : \"Italy\" , \"Porsche\" : \"Germany\"}\n",
    "\n",
    "# Print Dictionary and Unique Value\n",
    "print(f\"Dictionary Values :{dict.values()}\")\n",
    "print(f\"Unique Values : {list(set(dict.values()))}\")\n",
    " "
   ]
  },
  {
   "cell_type": "markdown",
   "metadata": {},
   "source": [
    "-------"
   ]
  },
  {
   "cell_type": "markdown",
   "metadata": {},
   "source": [
    "## Ques 2 = Write a Python program to find the sum of all items in a dictionary?"
   ]
  },
  {
   "cell_type": "code",
   "execution_count": 16,
   "metadata": {},
   "outputs": [
    {
     "name": "stdout",
     "output_type": "stream",
     "text": [
      "Dictionary :{'x': 32, 'y': 54, 'z': 86, 'w': 51} \n",
      "Sum of Item :223\n"
     ]
    }
   ],
   "source": [
    "# Initialisation Dictionary\n",
    "dict = {'x' : 32, 'y': 54,'z': 86, 'w': 51}\n",
    "\n",
    "# Print The dict       \n",
    "print(f\"Dictionary :{dict} \")\n",
    "\n",
    "# using Sum() and Value()\n",
    "print(f\"Sum of Item :{sum(dict.values())}\")"
   ]
  },
  {
   "cell_type": "markdown",
   "metadata": {},
   "source": [
    "-----"
   ]
  },
  {
   "cell_type": "markdown",
   "metadata": {},
   "source": [
    "## Ques 3 = Write a Python program to Merging two Dictionaries?"
   ]
  },
  {
   "cell_type": "code",
   "execution_count": 17,
   "metadata": {},
   "outputs": [
    {
     "name": "stdout",
     "output_type": "stream",
     "text": [
      "Merged  Dictionary are : {'batsman': 'Dhoni', 'Bolwer': 'Bumrah'}\n"
     ]
    }
   ],
   "source": [
    "# Initiallise the Dictionaries\n",
    "dict_1 = {'batsman': 'Dhoni'}\n",
    "dict_2 = {'Bolwer' : 'Bumrah'}\n",
    "\n",
    "# use Update Method\n",
    "dict_1.update(dict_2)\n",
    "# Print The Result\n",
    "print(f\"Merged  Dictionary are : {dict_1}\")\n"
   ]
  },
  {
   "cell_type": "markdown",
   "metadata": {},
   "source": [
    "------"
   ]
  },
  {
   "cell_type": "markdown",
   "metadata": {},
   "source": [
    "## Ques 4 = Write a Python program to convert key-values list to flat dictionary?"
   ]
  },
  {
   "cell_type": "code",
   "execution_count": 36,
   "metadata": {},
   "outputs": [
    {
     "name": "stdout",
     "output_type": "stream",
     "text": [
      "List before Converting : [('A', 1), ('B', 2), ('C', 3), ('D', 4), ('E', 5), ('F', 6), ('G', 7), ('H', 8), ('I', 9), ('J', 10)]\n",
      "\n",
      "After Converting : {'A': 1, 'B': 2, 'C': 3, 'D': 4, 'E': 5, 'F': 6, 'G': 7, 'H': 8, 'I': 9, 'J': 10}\n"
     ]
    }
   ],
   "source": [
    "# Intiaization The List\n",
    "li = [('A',1), ('B',2), ('C',3), ('D',4), ('E',5), ('F',6), ('G',7), ('H',8), ('I',9), ('J',10)]\n",
    "print(f\"List before Converting : {li}\\n\")\n",
    "\n",
    "output_dict = {}\n",
    "for ele in li:\n",
    "  output_dict[ele[0]] = ele[1]\n",
    "\n",
    "# Print The Rrsult\n",
    "print(f\"After Converting : {output_dict}\")"
   ]
  },
  {
   "cell_type": "markdown",
   "metadata": {},
   "source": [
    "------"
   ]
  },
  {
   "cell_type": "markdown",
   "metadata": {},
   "source": [
    "## Ques 5 = Write a Python program to insertion at the beginning in OrderedDict?"
   ]
  },
  {
   "cell_type": "code",
   "execution_count": 14,
   "metadata": {},
   "outputs": [
    {
     "name": "stdout",
     "output_type": "stream",
     "text": [
      "OrderedDict([('Cricket', 'M.S.Dhoni'), ('Football', 'Messi'), ('Hockey', 'Manpreet Singh'), ('Badminton', 'PV Sindhu')])\n",
      "OrderedDict([('Cricket', 'M.S.Dhoni'), ('Football', 'Messi'), ('Hockey', 'Manpreet Singh'), ('Badminton', 'PV Sindhu'), ('Kabaddi', 'Pardeep Narwal')])\n",
      "Resulttant Dictionary : \n",
      "OrderedDict([('Kabaddi', 'Pardeep Narwal'), ('Cricket', 'M.S.Dhoni'), ('Football', 'Messi'), ('Hockey', 'Manpreet Singh'), ('Badminton', 'PV Sindhu')])\n"
     ]
    }
   ],
   "source": [
    "# Import OrderedDict \n",
    "from collections import OrderedDict\n",
    "# initialise dictionary with items\n",
    "dict1 = OrderedDict({'Cricket' : 'M.S.Dhoni', 'Football' : 'Messi','Hockey' : 'Manpreet Singh','Badminton' : 'PV Sindhu'})\n",
    "print(dict1)\n",
    "\n",
    "# Use update() to add the new item in the dictionary\n",
    "dict1.update({\"Kabaddi\":'Pardeep Narwal'})\n",
    "print(dict1)\n",
    "\n",
    "#Use move_to_end() to move the inserted item at the beginning\n",
    "dict1.move_to_end('Kabaddi',last=False)\n",
    "# Print The Result\n",
    "print(\"Resulttant Dictionary : \")\n",
    "print(dict1)"
   ]
  },
  {
   "cell_type": "markdown",
   "metadata": {},
   "source": [
    "------"
   ]
  },
  {
   "cell_type": "markdown",
   "metadata": {},
   "source": [
    "## Ques 6 = Write a Python program to check order of character in string using OrderedDict()?"
   ]
  },
  {
   "cell_type": "code",
   "execution_count": 15,
   "metadata": {},
   "outputs": [
    {
     "name": "stdout",
     "output_type": "stream",
     "text": [
      "OrderedDict([('a', None), ('n', None), ('d', None)])\n",
      "Pattern matched\n"
     ]
    }
   ],
   "source": [
    "from collections import OrderedDict\n",
    "\n",
    "def checkOrderofString(str,pattern):\n",
    "\n",
    "    # Create Empty OrderredDict\n",
    "    dict = OrderedDict.fromkeys(str)\n",
    "    print(dict)\n",
    "    ptrlen = 0 \n",
    "    for key,value in dict.items():\n",
    "\n",
    "        if (key == pattern[ptrlen]):\n",
    "            ptrlen = ptrlen + 1 \n",
    "\n",
    "        # Check if we have traverse complete pattern string\n",
    "        if (ptrlen == (len(pattern))):\n",
    "            return 'true'\n",
    "        \n",
    "    # if we come out from for loop that means order was mismatched\n",
    "    return 'false'\n",
    "\n",
    "string = input(\"Enter String :\")\n",
    "pattern = input(\"Enter Pattern : \")\n",
    "if checkOrderofString(string,pattern):\n",
    "    print(\"Pattern matched\")\n",
    "else:\n",
    "    print(\"Pattern not Matched\")\n"
   ]
  },
  {
   "cell_type": "markdown",
   "metadata": {},
   "source": [
    "-----"
   ]
  },
  {
   "cell_type": "markdown",
   "metadata": {},
   "source": [
    "## Ques 7 = Write a Python program to sort Python Dictionaries by Key or Value?"
   ]
  },
  {
   "cell_type": "code",
   "execution_count": 17,
   "metadata": {},
   "outputs": [
    {
     "name": "stdout",
     "output_type": "stream",
     "text": [
      "Dictionary : [(1, 10), (2, 99), (3, 66), (4, 25), (5, 12), (6, 87)]\n",
      "Sort bt key : [1, 2, 3, 4, 5, 6]\n",
      "Sort by Vales : [10, 12, 25, 66, 87, 99]\n"
     ]
    }
   ],
   "source": [
    "## initialise dictionary with items\n",
    "a = {1:10,4:25,3:66,2:99,6:87,5:12}\n",
    "\n",
    "# Print the Results\n",
    "print(f\"Dictionary : {sorted(a.items())}\")\n",
    "print(f\"Sort bt key : {sorted(a.keys())}\")\n",
    "print(f\"Sort by Vales : {sorted(a.values())}\")"
   ]
  },
  {
   "cell_type": "markdown",
   "metadata": {},
   "source": [
    "-----"
   ]
  },
  {
   "cell_type": "markdown",
   "metadata": {},
   "source": [
    "                                                                    END"
   ]
  }
 ],
 "metadata": {
  "kernelspec": {
   "display_name": "Python 3",
   "language": "python",
   "name": "python3"
  },
  "language_info": {
   "codemirror_mode": {
    "name": "ipython",
    "version": 3
   },
   "file_extension": ".py",
   "mimetype": "text/x-python",
   "name": "python",
   "nbconvert_exporter": "python",
   "pygments_lexer": "ipython3",
   "version": "3.11.8"
  }
 },
 "nbformat": 4,
 "nbformat_minor": 2
}
