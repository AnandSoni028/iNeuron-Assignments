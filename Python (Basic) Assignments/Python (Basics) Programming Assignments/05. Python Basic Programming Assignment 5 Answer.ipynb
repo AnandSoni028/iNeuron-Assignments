{
 "cells": [
  {
   "cell_type": "markdown",
   "metadata": {},
   "source": [
    "## Ques 1 = Write a Python Program to Find LCM?"
   ]
  },
  {
   "cell_type": "code",
   "execution_count": 3,
   "metadata": {},
   "outputs": [
    {
     "name": "stdout",
     "output_type": "stream",
     "text": [
      "The L.C.M of 4 and 5 is : 20\n"
     ]
    }
   ],
   "source": [
    "# Define a function to calculate the lcm\n",
    "def lcm(a,b):\n",
    "\n",
    "# Choose the greatest number\n",
    "    if a > b:\n",
    "        greater = a \n",
    "    else:\n",
    "        greater = b \n",
    "\n",
    "    while(True):\n",
    "        if ((greater % x == 0)) & ((greater % b == 0)):\n",
    "            lcm = greater\n",
    "            break\n",
    "        greater += 1\n",
    "\n",
    "    return lcm\n",
    "\n",
    "# taking the input from user \n",
    "x = int(input(\"Enter The First Number1 \"))\n",
    "y = int(input(\"Enter The Second Number\"))\n",
    "\n",
    "# Print the results for users\n",
    "print(f\"The L.C.M of {x} and {y} is : {lcm(x , y )}\" )\n",
    "\n"
   ]
  },
  {
   "cell_type": "markdown",
   "metadata": {},
   "source": [
    "--------"
   ]
  },
  {
   "cell_type": "markdown",
   "metadata": {},
   "source": [
    "## Ques 2 = Write a Python Program to Find HCF?"
   ]
  },
  {
   "cell_type": "code",
   "execution_count": 7,
   "metadata": {},
   "outputs": [
    {
     "name": "stdout",
     "output_type": "stream",
     "text": [
      "HCF of 75 and 15 is : 15\n"
     ]
    }
   ],
   "source": [
    "# Take The Input From The User \n",
    "num1 = int(input(\"Enter The First Number : \"))\n",
    "num2 = int(input(\"Enter The Second Nunber : \"))\n",
    "\n",
    "# Select the Smaest Number\n",
    "if num2 > num1:\n",
    "    min = num1\n",
    "else:\n",
    "    min = num2\n",
    "\n",
    "for i in range(1,min+1):\n",
    "    if num1 % i ==0 and num2 % i ==0:\n",
    "        hcf = i\n",
    "\n",
    "# Print the results for the users\n",
    "print(f\"HCF of {num1} and {num2} is : {hcf}\")\n"
   ]
  },
  {
   "cell_type": "markdown",
   "metadata": {},
   "source": [
    "-------"
   ]
  },
  {
   "cell_type": "markdown",
   "metadata": {},
   "source": [
    "## Ques 3 = 3.\tWrite a Python Program to Convert Decimal to Binary, Octal and Hexadecimal?"
   ]
  },
  {
   "cell_type": "code",
   "execution_count": 8,
   "metadata": {},
   "outputs": [
    {
     "name": "stdout",
     "output_type": "stream",
     "text": [
      "The Conversion of Decimal Number 20 is : \n",
      "\n",
      "      In Binary : 0b10100\n",
      "      In Octal : 0o24\n",
      "      In Hexadecimal : 0x14\n",
      "      \n"
     ]
    }
   ],
   "source": [
    "# Taking The Input From The User.\n",
    "decimal = int(input(\"Enter The Decimal Number \"))\n",
    "\n",
    "# Print the results for the users\n",
    "print(f\"The Conversion of Decimal Number {decimal} is : \")\n",
    "\n",
    "print(f\"\"\"\n",
    "      In Binary : {bin(decimal)}\n",
    "      In Octal : {oct(decimal)}\n",
    "      In Hexadecimal : {hex(decimal)}\n",
    "      \"\"\")"
   ]
  },
  {
   "cell_type": "markdown",
   "metadata": {},
   "source": [
    "----"
   ]
  },
  {
   "cell_type": "markdown",
   "metadata": {},
   "source": [
    "## Ques 4 = Write a Python Program To Find ASCII value of a character?"
   ]
  },
  {
   "cell_type": "code",
   "execution_count": 11,
   "metadata": {},
   "outputs": [
    {
     "name": "stdout",
     "output_type": "stream",
     "text": [
      "ASCII value of Characters A is : 65\n"
     ]
    }
   ],
   "source": [
    "# Take The Input From The Uses\n",
    "\n",
    "Ascll = input(\"Enter The Characters : \")\n",
    "\n",
    "# Print The Results For The Users\n",
    "print(f\"ASCII value of Characters {Ascll} is : {ord(Ascll)}\")\n"
   ]
  },
  {
   "cell_type": "markdown",
   "metadata": {},
   "source": [
    "------"
   ]
  },
  {
   "cell_type": "markdown",
   "metadata": {},
   "source": [
    "## Ques 5 = Write a Python Program to Make a Simple Calculator with 4 basic mathematical operations?"
   ]
  },
  {
   "cell_type": "code",
   "execution_count": 16,
   "metadata": {},
   "outputs": [
    {
     "name": "stdout",
     "output_type": "stream",
     "text": [
      "\n",
      "    Operation of given Numbers 25 and 5 are :\n",
      "    A   dditon : 30)\n",
      "    Subtraction : 20\n",
      "    Multification : 125\n",
      "    Division : 5.0\n",
      "    \n"
     ]
    }
   ],
   "source": [
    "# Define the function calc \n",
    "def calc():\n",
    "\n",
    "# Taking The Input From The Users\n",
    "    \n",
    "    a = int(input(\"Enter The First Number : \"))\n",
    "    b = int(input(\"Enter The Second Number : \")) \n",
    "\n",
    "    add = a + b\n",
    "    sub = a - b\n",
    "    multi = a * b\n",
    "    div = a / b\n",
    "\n",
    "    return print(f\"\"\"\n",
    "    Operation of given Numbers {a} and {b} are :\n",
    "    A   dditon : {add})\n",
    "    Subtraction : {sub}\n",
    "    Multification : {multi}\n",
    "    Division : {div}\n",
    "    \"\"\")\n",
    "\n",
    "calc()"
   ]
  },
  {
   "cell_type": "markdown",
   "metadata": {},
   "source": [
    "-----"
   ]
  },
  {
   "cell_type": "markdown",
   "metadata": {},
   "source": [
    "                                                                        END"
   ]
  }
 ],
 "metadata": {
  "kernelspec": {
   "display_name": "Python 3",
   "language": "python",
   "name": "python3"
  },
  "language_info": {
   "codemirror_mode": {
    "name": "ipython",
    "version": 3
   },
   "file_extension": ".py",
   "mimetype": "text/x-python",
   "name": "python",
   "nbconvert_exporter": "python",
   "pygments_lexer": "ipython3",
   "version": "3.11.8"
  }
 },
 "nbformat": 4,
 "nbformat_minor": 2
}
