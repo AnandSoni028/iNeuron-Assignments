{
 "cells": [
  {
   "cell_type": "markdown",
   "metadata": {},
   "source": [
    "## Ques 1 = Write a Python program to print \"Hello Python\"?"
   ]
  },
  {
   "cell_type": "code",
   "execution_count": 1,
   "metadata": {},
   "outputs": [
    {
     "name": "stdout",
     "output_type": "stream",
     "text": [
      "Hello Python\n"
     ]
    }
   ],
   "source": [
    "print(\"Hello Python\")"
   ]
  },
  {
   "cell_type": "markdown",
   "metadata": {},
   "source": [
    "--------"
   ]
  },
  {
   "cell_type": "markdown",
   "metadata": {},
   "source": [
    "## Ques 2 = Write a Python program to do arithmetical operations addition and division.?"
   ]
  },
  {
   "cell_type": "code",
   "execution_count": 7,
   "metadata": {},
   "outputs": [
    {
     "name": "stdout",
     "output_type": "stream",
     "text": [
      "Addition : 60\n",
      "Diviosn : 5.0\n"
     ]
    }
   ],
   "source": [
    "# Take a input to the user\n",
    "a = int(input(\"Enter a number of first elements\"))\n",
    "b = int(input(\"Enter a number of second elements\"))\n",
    "\n",
    "# Perform the Arithmetical operation\n",
    "print(f\"Addition : {a+b}\")\n",
    "print(f\"Diviosn : {a/b}\")"
   ]
  },
  {
   "cell_type": "markdown",
   "metadata": {},
   "source": [
    "--------"
   ]
  },
  {
   "cell_type": "markdown",
   "metadata": {},
   "source": [
    "## Ques 3 = Write a Python program to find the area of a triangle?"
   ]
  },
  {
   "cell_type": "code",
   "execution_count": 12,
   "metadata": {},
   "outputs": [
    {
     "name": "stdout",
     "output_type": "stream",
     "text": [
      "The area of the triangle is : 220.0\n"
     ]
    }
   ],
   "source": [
    "# TAke the Input From The User\n",
    "a = int(input(\"Enter a First Number : \"))\n",
    "b = int(input(\"Enter a Second Number : \"))\n",
    "c = int(input(\"Enter a Third Number : \"))\n",
    "\n",
    "# Calulate the semi-perimeter\n",
    "s = (a + b +c ) / 2 \n",
    "\n",
    "# Calculate the area \n",
    "area = (s*(s-a) * (s-b) * (s-c)) * 0.5\n",
    "print(f\"The area of the triangle is : {area}\")"
   ]
  },
  {
   "cell_type": "markdown",
   "metadata": {},
   "source": [
    "-----"
   ]
  },
  {
   "cell_type": "markdown",
   "metadata": {},
   "source": [
    "## Ques 4 = Write a Python program to swap two variables?"
   ]
  },
  {
   "cell_type": "code",
   "execution_count": 18,
   "metadata": {},
   "outputs": [
    {
     "name": "stdout",
     "output_type": "stream",
     "text": [
      "Before swapping : x = 5 , y = 10\n",
      "After swapping : x = 10 , y = 5\n"
     ]
    }
   ],
   "source": [
    "# Intialize of Two Variable\n",
    "x = 5 \n",
    "y = 10 \n",
    "\n",
    "# Print the values of the variables before swapping\n",
    "print(\"Before swapping : x = {} , y = {}\".format(x,y))\n",
    "\n",
    "# Swap the value of the variables using the temporary variables\n",
    "temp = x\n",
    "x = y\n",
    "y = temp\n",
    "\n",
    "# print the values of the variables after swapping\n",
    "print(\"After swapping : x = {} , y = {}\".format(x,y))   "
   ]
  },
  {
   "cell_type": "markdown",
   "metadata": {},
   "source": [
    "----"
   ]
  },
  {
   "cell_type": "markdown",
   "metadata": {},
   "source": [
    "## Ques 5 = Write a Python program to generate a random number?"
   ]
  },
  {
   "cell_type": "code",
   "execution_count": 20,
   "metadata": {},
   "outputs": [
    {
     "name": "stdout",
     "output_type": "stream",
     "text": [
      "41\n"
     ]
    }
   ],
   "source": [
    "import random\n",
    "print(random.randint(0,100))"
   ]
  },
  {
   "cell_type": "markdown",
   "metadata": {},
   "source": [
    "-----------"
   ]
  },
  {
   "cell_type": "markdown",
   "metadata": {},
   "source": [
    "                                                                        #END"
   ]
  }
 ],
 "metadata": {
  "kernelspec": {
   "display_name": "Python 3",
   "language": "python",
   "name": "python3"
  },
  "language_info": {
   "codemirror_mode": {
    "name": "ipython",
    "version": 3
   },
   "file_extension": ".py",
   "mimetype": "text/x-python",
   "name": "python",
   "nbconvert_exporter": "python",
   "pygments_lexer": "ipython3",
   "version": "3.11.8"
  }
 },
 "nbformat": 4,
 "nbformat_minor": 2
}
