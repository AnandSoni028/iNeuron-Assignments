{
 "cells": [
  {
   "cell_type": "markdown",
   "metadata": {},
   "source": [
    "## Ques 1 = Create a function that takes a list of non-negative integers and strings and return a new list without the strings.\n",
    "\n",
    "Examples\n",
    "\n",
    "filter_list([1, 2, \"a\", \"b\"]) ➞ [1, 2]\n",
    "\n",
    "filter_list([1, \"a\", \"b\", 0, 15]) ➞ [1, 0, 15]\n",
    "\n",
    "filter_list([1, 2, \"aasf\", \"1\", \"123\", 123]) ➞ [1, 2, 123]\n"
   ]
  },
  {
   "cell_type": "code",
   "execution_count": 2,
   "metadata": {},
   "outputs": [
    {
     "name": "stdout",
     "output_type": "stream",
     "text": [
      "filter_list([1, 2, \"a\", \"b\"]) ➞ [1, 2]\n",
      "\n",
      "filter_list([1, \"a\", \"b\", 0, 15]) ➞ [1, 0, 15]\n",
      "\n",
      "filter_list([1, 2, \"aasf\", \"1\", \"123\", 123]) ➞ [1, 2, 123]\n",
      "\n"
     ]
    }
   ],
   "source": [
    "# Defint The Function\n",
    "def filter_list(list):\n",
    "    # Create The Empty List\n",
    "    result = []\n",
    "    # Check The Conditions\n",
    "    for i in list:\n",
    "        if type(i) == int and i>= 0 :\n",
    "            result.append(i)\n",
    "    return result\n",
    "\n",
    "# Print The Results\n",
    "print(f'filter_list([1, 2, \"a\", \"b\"]) ➞ {filter_list([1, 2, \"a\", \"b\"])}\\n')\n",
    "print(f'filter_list([1, \"a\", \"b\", 0, 15]) ➞ {filter_list([1, \"a\", \"b\", 0, 15])}\\n')\n",
    "print(f'filter_list([1, 2, \"aasf\", \"1\", \"123\", 123]) ➞ {filter_list([1, 2, \"aasf\", \"1\", \"123\", 123])}\\n')\n"
   ]
  },
  {
   "cell_type": "markdown",
   "metadata": {},
   "source": [
    "----"
   ]
  },
  {
   "cell_type": "markdown",
   "metadata": {},
   "source": [
    "## Ques 2 = The \"Reverser\" takes a string as input and returns that string in reverse order, with the opposite case.\n",
    "\n",
    "Examples\n",
    "\n",
    "reverse(\"Hello World\") ➞ \"DLROw OLLEh\"\n",
    "\n",
    "reverse(\"ReVeRsE\") ➞ \"eSrEvEr\"\n",
    "\n",
    "reverse(\"Radar\") ➞ \"RADAr\"\n",
    "\n"
   ]
  },
  {
   "cell_type": "code",
   "execution_count": 4,
   "metadata": {},
   "outputs": [
    {
     "name": "stdout",
     "output_type": "stream",
     "text": [
      "reversed(Hello World) - >DLROw OLLEh\n",
      "reversed(ReVeRsE) - >eSrEvEr\n",
      "reversed(Radar) - >RADAr\n"
     ]
    }
   ],
   "source": [
    "# Define The Function\n",
    "def reverse(input_str):\n",
    "    # Reverse the String and swap the case of the characters\n",
    "    print(f'reversed({input_str}) - >{input_str[::-1].swapcase()}')\n",
    " \n",
    "# Print The results\n",
    "reverse(\"Hello World\")\n",
    "reverse(\"ReVeRsE\")\n",
    "reverse(\"Radar\")"
   ]
  },
  {
   "cell_type": "markdown",
   "metadata": {},
   "source": [
    "-----"
   ]
  },
  {
   "cell_type": "markdown",
   "metadata": {},
   "source": [
    "## Ques 3 = You can assign variables from lists like this:\n",
    "lst = [1, 2, 3, 4, 5, 6],\n",
    "\n",
    "first = lst[0],\n",
    "\n",
    "middle = lst[1:-1],\n",
    "\n",
    "last = lst[-1]\n",
    "\n",
    "print(first) ➞ outputs 1\n",
    "\n",
    "print(middle) ➞ outputs [2, 3, 4, 5]\n",
    "\n",
    "print(last) ➞ outputs 6\n",
    "\n",
    "With Python 3, you can assign variables from lists in a much more succinct way. Create variables first, middle and last from the given list using destructuring assignment (check the Resources tab for some examples), where:\n",
    "\n",
    "first  ➞ 1\n",
    "\n",
    "middle ➞ [2, 3, 4, 5]\n",
    "\n",
    "last ➞ 6\n",
    "Your task is to unpack the list writeyourcodehere into three variables, being first, middle, and last, with middle being everything in between the first and last element. Then print all three variables.\n",
    "\n"
   ]
  },
  {
   "cell_type": "code",
   "execution_count": 5,
   "metadata": {},
   "outputs": [
    {
     "name": "stdout",
     "output_type": "stream",
     "text": [
      "first -> 1\n",
      "middle -> [2, 3, 4, 5]\n",
      "last -> 6\n"
     ]
    }
   ],
   "source": [
    "# Define The Variable With Value\n",
    "first,*middle, last = [1,2,3,4,5,6]\n",
    "\n",
    "# Print The Result\n",
    "print(f'first -> {first}')\n",
    "print(f'middle -> {middle}')\n",
    "print(f'last -> {last}')\n"
   ]
  },
  {
   "cell_type": "markdown",
   "metadata": {},
   "source": [
    "------"
   ]
  },
  {
   "cell_type": "markdown",
   "metadata": {},
   "source": [
    "## Ques 4 = Write a function that calculates the factorial of a number recursively.\n",
    "\n",
    "Examples\n",
    "\n",
    "factorial(5) ➞ 120\n",
    "\n",
    "factorial(3) ➞ 6\n",
    "\n",
    "factorial(1) ➞ 1\n",
    "\n",
    "factorial(0) ➞ 1\n"
   ]
  },
  {
   "cell_type": "code",
   "execution_count": 6,
   "metadata": {},
   "outputs": [
    {
     "name": "stdout",
     "output_type": "stream",
     "text": [
      "Enter the Number :5 \n",
      "Factorial(5) -> 120\n",
      "\n",
      "Enter the Number :3 \n",
      "Factorial(3) -> 6\n",
      "\n",
      "Enter the Number :1 \n",
      "Factorial(1) -> 1\n",
      "\n",
      "Enter the Number :0 \n",
      "Factorial(0) -> 1\n",
      "\n"
     ]
    }
   ],
   "source": [
    "# Define The Functions\n",
    "def factorial():\n",
    "    # Take The Input From The Users\n",
    "    fact = int(input(\"Enter The No : \"))\n",
    "    print(f\"Enter the Number :{fact} \")\n",
    "    a = 1\n",
    "    # Check The Condition \n",
    "    for i in range(1 , fact+1):\n",
    "        a = a * i\n",
    "        \n",
    "     # Print The Result  \n",
    "    print(f\"Factorial({fact}) -> {a}\\n\")\n",
    "\n",
    "for i in range(4):\n",
    "    factorial()"
   ]
  },
  {
   "cell_type": "markdown",
   "metadata": {},
   "source": [
    "----"
   ]
  },
  {
   "cell_type": "markdown",
   "metadata": {},
   "source": [
    "## Ques 5 = Write a function that moves all elements of one type to the end of the list.\n",
    "\n",
    "Examples\n",
    "\n",
    "move_to_end([1, 3, 2, 4, 4, 1], 1) ➞ [3, 2, 4, 4, 1, 1]\n",
    "\n",
    "Move all the 1s to the end of the array.\n",
    "\n",
    "move_to_end([7, 8, 9, 1, 2, 3, 4], 9) ➞ [7, 8, 1, 2, 3, 4, 9]\n",
    "\n",
    "move_to_end([\"a\", \"a\", \"a\", \"b\"], \"a\") ➞ [\"b\", \"a\", \"a\", \"a\"]\n"
   ]
  },
  {
   "cell_type": "code",
   "execution_count": 11,
   "metadata": {},
   "outputs": [
    {
     "name": "stdout",
     "output_type": "stream",
     "text": [
      "move_to_end([1, 3, 2, 4, 4, 1], 1) ➞ [3, 2, 4, 4, 1, 1]\n",
      "move_to_end([7, 8, 9, 1, 2, 3, 4], 9) ➞ [7, 8, 1, 2, 3, 4, 9]\n",
      "move_to_end([\"a\", \"a\", \"a\", \"b\"], \"a\") ➞ ['b', 'a', 'a', 'a']\n"
     ]
    }
   ],
   "source": [
    "# Define The Function \n",
    "def move_to_end(list,num):\n",
    "\n",
    "  # Create The Empty List\n",
    "  first_end = []\n",
    "  second_end = []\n",
    "  \n",
    "  # Check The Conditions\n",
    "  for i in list:\n",
    "    if i == num:\n",
    "      second_end.append(i)\n",
    "    else:\n",
    "      first_end.append(i)\n",
    "  first_end.extend(second_end)\n",
    "\n",
    "  return first_end\n",
    "\n",
    "# Print The Results\n",
    "print(f'move_to_end([1, 3, 2, 4, 4, 1], 1) ➞ {move_to_end([1, 3, 2, 4, 4, 1], 1)}')\n",
    "print(f'move_to_end([7, 8, 9, 1, 2, 3, 4], 9) ➞ {move_to_end([7, 8, 9, 1, 2, 3, 4], 9)}')\n",
    "print(f'move_to_end([\"a\", \"a\", \"a\", \"b\"], \"a\") ➞ {move_to_end([\"a\", \"a\", \"a\", \"b\"], \"a\")}')"
   ]
  },
  {
   "cell_type": "markdown",
   "metadata": {},
   "source": [
    "----"
   ]
  },
  {
   "cell_type": "markdown",
   "metadata": {},
   "source": [
    "                                                                    END"
   ]
  }
 ],
 "metadata": {
  "kernelspec": {
   "display_name": "Python 3",
   "language": "python",
   "name": "python3"
  },
  "language_info": {
   "codemirror_mode": {
    "name": "ipython",
    "version": 3
   },
   "file_extension": ".py",
   "mimetype": "text/x-python",
   "name": "python",
   "nbconvert_exporter": "python",
   "pygments_lexer": "ipython3",
   "version": "3.11.8"
  }
 },
 "nbformat": 4,
 "nbformat_minor": 2
}
