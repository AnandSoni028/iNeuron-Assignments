{
 "cells": [
  {
   "cell_type": "markdown",
   "metadata": {},
   "source": [
    "## Ques 1 = Create a function that takes three integer arguments (a, b, c) and returns the amount of integers which are of equal value.\n",
    "\n",
    "Examples\n",
    "\n",
    "equal(3, 4, 3) ➞ 2\n",
    "\n",
    "equal(1, 1, 1) ➞ 3\n",
    "\n",
    "equal(3, 4, 1) ➞ 0 \n",
    "\n",
    "Notes\n",
    "\n",
    "Your function must return 0, 2 or 3.\n"
   ]
  },
  {
   "cell_type": "code",
   "execution_count": 1,
   "metadata": {},
   "outputs": [
    {
     "name": "stdout",
     "output_type": "stream",
     "text": [
      "equal(3, 4, 3) ➞ 2\n",
      "equal(1, 1, 1) ➞ 3\n",
      "equal(3, 4, 1) ➞ 0\n"
     ]
    }
   ],
   "source": [
    "# Define The Function\n",
    "def equal(a,b,c):\n",
    "\n",
    "    # Check Tha Conditions\n",
    "    if a == b == c:\n",
    "        return 3 \n",
    "    elif a == b or b == c or a == c:\n",
    "        return 2 \n",
    "    else:\n",
    "        return 0 \n",
    "    \n",
    "print(f\"equal(3, 4, 3) ➞\" , equal(3, 4, 3))\n",
    "print(f\"equal(1, 1, 1) ➞\" , equal(1, 1, 1))\n",
    "print(f\"equal(3, 4, 1) ➞\" , equal(3, 4, 1))\n",
    "     "
   ]
  },
  {
   "cell_type": "markdown",
   "metadata": {},
   "source": [
    "-------"
   ]
  },
  {
   "cell_type": "markdown",
   "metadata": {},
   "source": [
    "## Ques 2 = Write a function that converts a dictionary into a list of keys-values tuples.\n",
    "\n",
    "Examples\n",
    "\n",
    "dict_to_list({\n",
    "\n",
    "  \"D\": 1,\n",
    "\n",
    "  \"B\": 2,\n",
    "\n",
    "  \"C\": 3\n",
    "  \n",
    "}) ➞ [(\"B\", 2), (\"C\", 3), (\"D\", 1)]\n",
    "\n",
    "dict_to_list({\n",
    "  \n",
    "  \"likes\": 2,\n",
    "\n",
    "  \"dislikes\": 3,\n",
    "\n",
    "  \"followers\": 10\n",
    "\n",
    "}) ➞ [(\"dislikes\", 3), (\"followers\", 10), (\"likes\", 2)]\n",
    "\n",
    "Notes\n",
    "\n",
    "Return the elements in the list in alphabetical order.\n"
   ]
  },
  {
   "cell_type": "code",
   "execution_count": 2,
   "metadata": {},
   "outputs": [
    {
     "name": "stdout",
     "output_type": "stream",
     "text": [
      "{'D': 1, 'B': 2, 'C': 3} -> [('B', 2), ('C', 3), ('D', 1)]\n",
      "\n",
      "{'likes': 2, 'dislikes': 3, 'followers': 10} -> [('dislikes', 3), ('followers', 10), ('likes', 2)]\n",
      "\n"
     ]
    }
   ],
   "source": [
    "# Define The Functions\n",
    "def dict_to_list(input_dict):\n",
    "    output_list = []\n",
    "\n",
    "    # Check The Conditions\n",
    "    for keys,values in sorted(input_dict.items()):\n",
    "        output_list.append((keys,values))\n",
    "\n",
    "    # Print The Results\n",
    "    print(f\"{input_dict} -> {output_list}\\n\")\n",
    "\n",
    "dict_to_list({\"D\": 1,\"B\": 2,\"C\": 3})\n",
    "dict_to_list({\"likes\": 2,\"dislikes\": 3,\"followers\": 10})"
   ]
  },
  {
   "cell_type": "markdown",
   "metadata": {},
   "source": [
    "--------"
   ]
  },
  {
   "cell_type": "markdown",
   "metadata": {},
   "source": [
    "## Ques 3 = Write a function that creates a dictionary with each (key, value) pair being the (lower case, upper case) versions of a letter, respectively.\n",
    "\n",
    "Examples\n",
    "\n",
    "mapping([\"p\", \"s\"]) ➞ { \"p\": \"P\", \"s\": \"S\" }\n",
    "\n",
    "mapping([\"a\", \"b\", \"c\"]) ➞ { \"a\": \"A\", \"b\": \"B\", \"c\": \"C\" }\n",
    "\n",
    "mapping([\"a\", \"v\", \"y\", \"z\"]) ➞ { \"a\": \"A\", \"v\": \"V\", \"y\": \"Y\", \"z\": \"Z\" }\n",
    "\n",
    "Notes\n",
    "\n",
    "All of the letters in the input list will always be lowercase.\n"
   ]
  },
  {
   "cell_type": "code",
   "execution_count": 3,
   "metadata": {},
   "outputs": [
    {
     "name": "stdout",
     "output_type": "stream",
     "text": [
      "mapping(['p', 's']) -> {'p': 'P', 's': 'S'}'n\n",
      "mapping(['a', 'b', 'c']) -> {'a': 'A', 'b': 'B', 'c': 'C'}'n\n",
      "mapping(['a', 'v', 'y', 'z']) -> {'a': 'A', 'v': 'V', 'y': 'Y', 'z': 'Z'}'n\n"
     ]
    }
   ],
   "source": [
    "# Define The Function\n",
    "def mapping(input_list):\n",
    "    \n",
    "    # Initialize the Dictionary\n",
    "    output_dict = {}\n",
    "\n",
    "    # Check The Conditions\n",
    "    for ele in input_list:\n",
    "        output_dict[ele] = ele.upper()\n",
    "\n",
    "    # Print The Results\n",
    "    print(f\"mapping({input_list}) -> {output_dict}'n\")\n",
    "\n",
    "mapping([\"p\", \"s\"])\n",
    "mapping([\"a\", \"b\", \"c\"])\n",
    "mapping([\"a\", \"v\", \"y\", \"z\"])\n",
    "     "
   ]
  },
  {
   "cell_type": "markdown",
   "metadata": {},
   "source": [
    "--------"
   ]
  },
  {
   "cell_type": "markdown",
   "metadata": {},
   "source": [
    "## Ques 4 = Write a function, that replaces all vowels in a string with a specified vowel.\n",
    "\n",
    "Examples\n",
    "\n",
    "vow_replace(\"apples and bananas\", \"u\") ➞ \"upplus und bununus\"\n",
    "\n",
    "vow_replace(\"cheese casserole\", \"o\") ➞ \"chooso cossorolo\"\n",
    "\n",
    "vow_replace(\"stuffed jalapeno poppers\", \"e\") ➞ \"steffed jelepene peppers\"\n",
    "\n",
    "Notes\n",
    "\n",
    "All words will be lowercase. Y is not considered a vowel.\n"
   ]
  },
  {
   "cell_type": "code",
   "execution_count": 5,
   "metadata": {},
   "outputs": [
    {
     "name": "stdout",
     "output_type": "stream",
     "text": [
      "vow_replace(apples and bananas, u) ➞ upplus und bununus \n",
      "\n",
      "vow_replace(cheese casserole, o) ➞ chooso cossorolo \n",
      "\n",
      "vow_replace(stuffed jalapeno poppers, e) ➞ steffed jelepene peppers \n",
      "\n"
     ]
    }
   ],
   "source": [
    "# Define The Functions\n",
    "def vow_replace(input_string,replacable_string):\n",
    "    \n",
    "    # Define The Vowels\n",
    "    vowels = ['a','e','i','o','u']\n",
    "\n",
    "    # Initialize The Empty String\n",
    "    output_string =\"\"\n",
    "\n",
    "    # Checj The Conditions\n",
    "    for i in input_string:\n",
    "        if i in vowels:\n",
    "            output_string += replacable_string\n",
    "        else:\n",
    "            output_string += i\n",
    "\n",
    "    # Print The result\n",
    "    print(f\"vow_replace({input_string}, {replacable_string}) ➞ {output_string} \\n\")\n",
    "\n",
    "\n",
    "vow_replace(\"apples and bananas\", \"u\")\n",
    "vow_replace(\"cheese casserole\", \"o\")\n",
    "vow_replace(\"stuffed jalapeno poppers\", \"e\")\n",
    "\n",
    "\n"
   ]
  },
  {
   "cell_type": "markdown",
   "metadata": {},
   "source": [
    "---------"
   ]
  },
  {
   "cell_type": "markdown",
   "metadata": {},
   "source": [
    "## Ques 5 = Create a function that takes a string as input and capitalizes a letter if its ASCII code is even and returns its lower case version if its ASCII code is odd.\n",
    "\n",
    "Examples\n",
    "\n",
    "ascii_capitalize(\"to be or not to be!\") ➞ \"To Be oR NoT To Be!\"\n",
    "\n",
    "ascii_capitalize(\"THE LITTLE MERMAID\") ➞ \"THe LiTTLe meRmaiD\"\n",
    "\n",
    "ascii_capitalize(\"Oh what a beautiful morning.\") ➞ \"oH wHaT a BeauTiFuL moRNiNg.\"\n",
    "\n"
   ]
  },
  {
   "cell_type": "code",
   "execution_count": 6,
   "metadata": {},
   "outputs": [
    {
     "name": "stdout",
     "output_type": "stream",
     "text": [
      "ascii_capitalize(to be or not to be!) ➞ To Be oR NoT To Be! \n",
      "\n",
      "ascii_capitalize(THE LITTLE MERMAID) ➞ THe LiTTLe meRmaiD \n",
      "\n",
      "ascii_capitalize(Oh what a beautiful morning.) ➞ oH wHaT a BeauTiFuL moRNiNg. \n",
      "\n"
     ]
    }
   ],
   "source": [
    "# Define The Functions\n",
    "def ascii_capitalize(inp_str):\n",
    "    \n",
    "    # Initialize The Empty String\n",
    "    out_str = \"\"\n",
    "\n",
    "     # Checj The Conditions \n",
    "    for i in inp_str.lower():\n",
    "        if (ord(i) % 2 == 0):\n",
    "            out_str += i.upper()\n",
    "        else:\n",
    "            out_str += i\n",
    "    \n",
    "    # Print The Results\n",
    "    print(f\"ascii_capitalize({inp_str}) ➞ {out_str} \\n\")\n",
    "\n",
    "ascii_capitalize(\"to be or not to be!\")\n",
    "ascii_capitalize(\"THE LITTLE MERMAID\")\n",
    "ascii_capitalize(\"Oh what a beautiful morning.\")\n",
    "    "
   ]
  },
  {
   "cell_type": "markdown",
   "metadata": {},
   "source": [
    "---------"
   ]
  },
  {
   "cell_type": "markdown",
   "metadata": {},
   "source": [
    "                                                                    END"
   ]
  }
 ],
 "metadata": {
  "kernelspec": {
   "display_name": "Python 3",
   "language": "python",
   "name": "python3"
  },
  "language_info": {
   "codemirror_mode": {
    "name": "ipython",
    "version": 3
   },
   "file_extension": ".py",
   "mimetype": "text/x-python",
   "name": "python",
   "nbconvert_exporter": "python",
   "pygments_lexer": "ipython3",
   "version": "3.11.8"
  }
 },
 "nbformat": 4,
 "nbformat_minor": 2
}
