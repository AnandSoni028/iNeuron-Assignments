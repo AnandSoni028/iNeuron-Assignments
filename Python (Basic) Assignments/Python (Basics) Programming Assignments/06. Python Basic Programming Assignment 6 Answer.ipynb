{
 "cells": [
  {
   "cell_type": "markdown",
   "metadata": {},
   "source": [
    "## Ques 1 = Write a Python Program to Display Fibonacci Sequence Using Recursion?"
   ]
  },
  {
   "cell_type": "code",
   "execution_count": 9,
   "metadata": {},
   "outputs": [
    {
     "name": "stdout",
     "output_type": "stream",
     "text": [
      "fibonacci Sequence is \n",
      "0 1 1 2 3 5 8 13 21 34 "
     ]
    }
   ],
   "source": [
    "# define the function with n parameters.\n",
    "def fibonacci(n):\n",
    "    if n <= 1 :\n",
    "        return n\n",
    "    else:\n",
    "        return fibonacci(n-1) + fibonacci(n-2)\n",
    "\n",
    "# Take a Input From The Users     \n",
    "n = int(input(\"Enter the length of the sequence\"))\n",
    "\n",
    "# Check if the number of terms in valid.\n",
    "if n <=0:\n",
    "    print(\"Please Enter a Positive Interger\")\n",
    "else:\n",
    "    print(\"fibonacci Sequence is \")\n",
    "    for i in range(n):\n",
    "        print(fibonacci(i) ,end= \" \")\n"
   ]
  },
  {
   "cell_type": "markdown",
   "metadata": {},
   "source": [
    "------"
   ]
  },
  {
   "cell_type": "markdown",
   "metadata": {},
   "source": [
    "## Ques 2 = Write a Python Program to Find Factorial of Number Using Recursion?"
   ]
  },
  {
   "cell_type": "code",
   "execution_count": 17,
   "metadata": {},
   "outputs": [
    {
     "name": "stdout",
     "output_type": "stream",
     "text": [
      "The Factorial of 5 is 120\n"
     ]
    }
   ],
   "source": [
    "def factorial(n):\n",
    "    if n == 1:\n",
    "        return n \n",
    "    else:\n",
    "        return n*factorial(n-1)\n",
    "    \n",
    "# Take The Input From The User\n",
    "\n",
    "num =  int(input(\"Enter The Number : \"))\n",
    "\n",
    "# Check is the Number is Negative\n",
    "\n",
    "if num < 0 :\n",
    "    print(\"factorial does not exist for negative numbers\")\n",
    "elif num == 0:\n",
    "    print(\"The Factorial is 0 is 1\")\n",
    "else:\n",
    "    print(f\"The Factorial of\", num , \"is\",factorial(num))"
   ]
  },
  {
   "cell_type": "markdown",
   "metadata": {},
   "source": [
    "-------"
   ]
  },
  {
   "cell_type": "markdown",
   "metadata": {},
   "source": [
    "## Ques 3 = Write a Python Program to calculate your Body Mass Index?"
   ]
  },
  {
   "cell_type": "code",
   "execution_count": 23,
   "metadata": {},
   "outputs": [
    {
     "name": "stdout",
     "output_type": "stream",
     "text": [
      "\n",
      " Your BMI(Body Mass Index) for weight '65.0 kg'.and height '175.0 cm.' is : 21.224489795918366\n",
      "\n",
      "You are Healthy.\n"
     ]
    }
   ],
   "source": [
    "# Taking The Input From Users\n",
    "height = float(input(\"Enter the height in cm: \"))\n",
    "weight = float(input(\"Enter the Weight in kg: \"))\n",
    "\n",
    "# Define a function for BMI\n",
    "bmi = weight/(height/100)**2\n",
    "\n",
    "print(f\"\\n Your BMI(Body Mass Index) for weight '{weight} kg'.and height '{height} cm.' is : {bmi}\\n\")\n",
    "\n",
    "# Using the if-elif-else condition\n",
    "if bmi >0 and bmi < 18.5:\n",
    "    print(\"You are underweight.\")\n",
    "elif bmi >= 18.5 and bmi <= 24.9:\n",
    "    print(\"You are Healthy.\")\n",
    "elif bmi >= 24.9 and bmi <= 29.9:\n",
    "    print(\"You are Overweight.\")\n",
    "else:\n",
    "    print(\"You are obese\")"
   ]
  },
  {
   "cell_type": "markdown",
   "metadata": {},
   "source": [
    "--------"
   ]
  },
  {
   "cell_type": "markdown",
   "metadata": {},
   "source": [
    "## Ques 4 = Write a Python Program to calculate the natural logarithm of any number?"
   ]
  },
  {
   "cell_type": "code",
   "execution_count": 24,
   "metadata": {},
   "outputs": [
    {
     "name": "stdout",
     "output_type": "stream",
     "text": [
      "Your calculated of natural logarithm of number 5 is : 1.6094379124341003\n"
     ]
    }
   ],
   "source": [
    "import math\n",
    "# Take the Input From User\n",
    "n =  int(input(\"Enter the number : \"))\n",
    "result = math.log(n)\n",
    "# Print the Result\n",
    "print(f\"Your calculated of natural logarithm of number {num} is : {result}\")"
   ]
  },
  {
   "cell_type": "markdown",
   "metadata": {},
   "source": [
    "----"
   ]
  },
  {
   "cell_type": "markdown",
   "metadata": {},
   "source": [
    "## Ques 5 = Write a Python Program for cube sum of first n natural numbers?"
   ]
  },
  {
   "cell_type": "code",
   "execution_count": 1,
   "metadata": {},
   "outputs": [
    {
     "name": "stdout",
     "output_type": "stream",
     "text": [
      "0 1 2 3 4 5 6 7 8 9 10 \n",
      " Cube Sum of first 10 Natural is : 3025\n"
     ]
    }
   ],
   "source": [
    "# Take the Input from The User\n",
    "Num =  int(input(\"Enter the number you want the cube sum of  : \"))\n",
    "# Define a and temp = 0\n",
    "a = 0\n",
    "temp = 0\n",
    "# Check The condition\n",
    "for i in range(0,Num+1):\n",
    "    print(i ,end = \" \")\n",
    "    a = i**3\n",
    "    temp = temp + a\n",
    "# Print the result for the User\n",
    "print(f\"\\n Cube Sum of first {Num} Natural is : {temp}\")"
   ]
  },
  {
   "cell_type": "markdown",
   "metadata": {},
   "source": [
    "---------"
   ]
  },
  {
   "cell_type": "markdown",
   "metadata": {},
   "source": [
    "                                                                    END"
   ]
  }
 ],
 "metadata": {
  "kernelspec": {
   "display_name": "Python 3",
   "language": "python",
   "name": "python3"
  },
  "language_info": {
   "codemirror_mode": {
    "name": "ipython",
    "version": 3
   },
   "file_extension": ".py",
   "mimetype": "text/x-python",
   "name": "python",
   "nbconvert_exporter": "python",
   "pygments_lexer": "ipython3",
   "version": "3.11.8"
  }
 },
 "nbformat": 4,
 "nbformat_minor": 2
}
