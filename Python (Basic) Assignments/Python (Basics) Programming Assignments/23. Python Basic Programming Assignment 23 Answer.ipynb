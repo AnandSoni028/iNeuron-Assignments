{
 "cells": [
  {
   "cell_type": "markdown",
   "metadata": {},
   "source": [
    "## Ques 1 = Create a function that takes a number as an argument and returns True or False depending on whether the number is symmetrical or not. A number is symmetrical when it is the same as its reverse.\n",
    "\n",
    "Examples\n",
    "\n",
    "is_symmetrical(7227) ➞ True\n",
    "\n",
    "is_symmetrical(12567) ➞ False\n",
    "\n",
    "is_symmetrical(44444444) ➞ True\n",
    "\n",
    "is_symmetrical(9939) ➞ False\n",
    "\n",
    "is_symmetrical(1112111) ➞ True\n"
   ]
  },
  {
   "cell_type": "code",
   "execution_count": 5,
   "metadata": {},
   "outputs": [
    {
     "name": "stdout",
     "output_type": "stream",
     "text": [
      "is_symmetrical(7227) -> True\n",
      "\n",
      "is_symmetrical(12567) -> False\n",
      "\n",
      "is_symmetrical(44444444) -> True\n",
      "\n",
      "is_symmetrical(9939) -> False\n",
      "\n",
      "is_symmetrical(1112111) -> True\n",
      "\n"
     ]
    }
   ],
   "source": [
    "# Define The Functions\n",
    "def is_symmetrical(num):\n",
    "\n",
    "    # Check The Condtitions\n",
    "    if str(num) == str(num)[::-1]:\n",
    "        \n",
    "        # Print The Result\n",
    "        print(f\"is_symmetrical({num}) -> True\\n\")\n",
    "    else:\n",
    "        print(f\"is_symmetrical({num}) -> False\\n\")\n",
    "\n",
    "is_symmetrical(7227)\n",
    "is_symmetrical(12567)\n",
    "is_symmetrical(44444444)\n",
    "is_symmetrical(9939)\n",
    "is_symmetrical(1112111)"
   ]
  },
  {
   "cell_type": "markdown",
   "metadata": {},
   "source": [
    "------"
   ]
  },
  {
   "cell_type": "markdown",
   "metadata": {},
   "source": [
    "## Ques 2 = Given a string of numbers separated by a comma and space, return the product of the numbers.\n",
    "\n",
    "Examples\n",
    "\n",
    "multiply_nums(\"2, 3\") ➞ 6\n",
    "\n",
    "multiply_nums(\"1, 2, 3, 4\") ➞ 24\n",
    "\n",
    "multiply_nums(\"54, 75, 453, 0\") ➞ 0\n",
    "\n",
    "multiply_nums(\"10, -2\") ➞ -20\n"
   ]
  },
  {
   "cell_type": "code",
   "execution_count": 7,
   "metadata": {},
   "outputs": [
    {
     "name": "stdout",
     "output_type": "stream",
     "text": [
      "multiply_nums(2, 3) -> 6\n",
      "\n",
      "multiply_nums(1, 2, 3, 4) -> 24\n",
      "\n",
      "multiply_nums(54, 75, 453, 0) -> 0\n",
      "\n",
      "multiply_nums(10, -2) -> -20\n",
      "\n"
     ]
    }
   ],
   "source": [
    "# Define The Functions\n",
    "def multiply_nums(num):\n",
    "    \n",
    "    # Check The Conditions\n",
    "    out_string = num.replace(' ', '').split(',')\n",
    "    \n",
    "    # Initialize The Output = 1 \n",
    "    output = 1 \n",
    "    for i in out_string:\n",
    "        output *= int(i)\n",
    "\n",
    "    # Pirnt The Result\n",
    "    print(f\"multiply_nums({num}) -> {output}\\n\")\n",
    "\n",
    "multiply_nums(\"2, 3\")\n",
    "multiply_nums(\"1, 2, 3, 4\")\n",
    "multiply_nums(\"54, 75, 453, 0\")\n",
    "multiply_nums(\"10, -2\")"
   ]
  },
  {
   "cell_type": "markdown",
   "metadata": {},
   "source": [
    "------"
   ]
  },
  {
   "cell_type": "markdown",
   "metadata": {},
   "source": [
    "## Ques 3 = Create a function that squares every digit of a number.\n",
    "\n",
    "Examples\n",
    "\n",
    "square_digits(9119) ➞ 811181\n",
    "\n",
    "square_digits(2483) ➞ 416649\n",
    "\n",
    "square_digits(3212) ➞ 9414\n",
    "\n",
    "Notes\n",
    "\n",
    "The function receives an integer and must return an integer.\n"
   ]
  },
  {
   "cell_type": "code",
   "execution_count": 12,
   "metadata": {},
   "outputs": [
    {
     "name": "stdout",
     "output_type": "stream",
     "text": [
      "square_digits(9119) -> 811181\n",
      "\n",
      "square_digits(2483) -> 416649\n",
      "\n",
      "square_digits(3212) -> 9414\n",
      "\n"
     ]
    }
   ],
   "source": [
    "# Define The Functions\n",
    "def square_digits(num):\n",
    "\n",
    "    # Check The Conditions\n",
    "    int_digits = [str(int(digit) **2) for digit in str(num)]\n",
    "    out_digits = int(''.join(int_digits))\n",
    "    \n",
    "    # Print The Results\n",
    "    print(f\"square_digits({num}) -> {out_digits}\\n\")\n",
    "\n",
    "square_digits(9119)\n",
    "square_digits(2483)\n",
    "square_digits(3212) "
   ]
  },
  {
   "cell_type": "markdown",
   "metadata": {},
   "source": [
    "--------"
   ]
  },
  {
   "cell_type": "markdown",
   "metadata": {},
   "source": [
    "## Ques 4 = Create a function that sorts a list and removes all duplicate items from it.\n",
    "\n",
    "Examples\n",
    "\n",
    "setify([1, 3, 3, 5, 5]) ➞ [1, 3, 5]\n",
    "\n",
    "setify([4, 4, 4, 4]) ➞ [4]\n",
    "\n",
    "setify([5, 7, 8, 9, 10, 15]) ➞ [5, 7, 8, 9, 10, 15]\n",
    "\n",
    "setify([3, 3, 3, 2, 1]) ➞ [1, 2, 3]\n"
   ]
  },
  {
   "cell_type": "code",
   "execution_count": 13,
   "metadata": {},
   "outputs": [
    {
     "name": "stdout",
     "output_type": "stream",
     "text": [
      "setify([1, 3, 3, 5, 5]) -> [1, 3, 5]\n",
      "\n",
      "setify([4, 4, 4, 4]) -> [4]\n",
      "\n",
      "setify([5, 7, 8, 9, 10, 15]) -> [5, 7, 8, 9, 10, 15]\n",
      "\n",
      "setify([3, 3, 3, 2, 1]) -> [1, 2, 3]\n",
      "\n"
     ]
    }
   ],
   "source": [
    "# Define The Function\n",
    "def setify(list):\n",
    "    \n",
    "    # Check The Conditions\n",
    "    sorted_list = sorted(set(list))\n",
    "\n",
    "    # Print The Results\n",
    "    print(f\"setify({list}) -> {sorted_list}\\n\")\n",
    "\n",
    "setify([1, 3, 3, 5, 5])\n",
    "setify([4, 4, 4, 4])\n",
    "setify([5, 7, 8, 9, 10, 15])\n",
    "setify([3, 3, 3, 2, 1])"
   ]
  },
  {
   "cell_type": "markdown",
   "metadata": {},
   "source": [
    "------"
   ]
  },
  {
   "cell_type": "markdown",
   "metadata": {},
   "source": [
    "## Ques 5 = Create a function that returns the mean of all digits.\n",
    "\n",
    "Examples\n",
    "\n",
    "mean(42) ➞ 3\n",
    "\n",
    "mean(12345) ➞ 3\n",
    "\n",
    "mean(666) ➞ 6\n",
    "\n",
    "Notes\n",
    "\n",
    "•\tThe mean of all digits is the sum of digits / how many digits there are (e.g. mean of digits in 512 is (5+1+2)/3(number of digits) = 8/3=2).\n",
    "\n",
    "•\tThe mean will always be an integer.\n"
   ]
  },
  {
   "cell_type": "code",
   "execution_count": 15,
   "metadata": {},
   "outputs": [
    {
     "name": "stdout",
     "output_type": "stream",
     "text": [
      "mean(42) -> 3\n",
      "\n",
      "mean(12345) -> 3\n",
      "\n",
      "mean(666) -> 6\n",
      "\n"
     ]
    }
   ],
   "source": [
    "# Define The Functions\n",
    "def mean(num):\n",
    "    num_str = str(num)\n",
    "\n",
    "    # Check The Conditions\n",
    "    digit_sum = sum(int(digit) for digit in num_str)\n",
    "    digit_count = len(num_str)\n",
    "\n",
    "    mean = digit_sum / digit_count\n",
    "\n",
    "    # Print The Result\n",
    "    print(f\"mean({num}) -> {int(mean)}\\n\")\n",
    "\n",
    "mean(42)\n",
    "mean(12345)\n",
    "mean(666)"
   ]
  },
  {
   "cell_type": "markdown",
   "metadata": {},
   "source": [
    "--------"
   ]
  },
  {
   "cell_type": "markdown",
   "metadata": {},
   "source": [
    "                                                                    END"
   ]
  }
 ],
 "metadata": {
  "kernelspec": {
   "display_name": "Python 3",
   "language": "python",
   "name": "python3"
  },
  "language_info": {
   "codemirror_mode": {
    "name": "ipython",
    "version": 3
   },
   "file_extension": ".py",
   "mimetype": "text/x-python",
   "name": "python",
   "nbconvert_exporter": "python",
   "pygments_lexer": "ipython3",
   "version": "3.11.8"
  }
 },
 "nbformat": 4,
 "nbformat_minor": 2
}
