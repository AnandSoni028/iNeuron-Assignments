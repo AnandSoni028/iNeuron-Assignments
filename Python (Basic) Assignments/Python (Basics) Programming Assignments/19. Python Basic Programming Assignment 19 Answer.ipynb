{
 "cells": [
  {
   "cell_type": "markdown",
   "metadata": {},
   "source": [
    "## Ques 1 = Create a function that takes a string and returns a string in which each character is repeated once.\n",
    "\n",
    "Examples\n",
    "\n",
    "double_char(\"String\") ➞ \"SSttrriinngg\"\n",
    "\n",
    "double_char(\"Hello World!\") ➞ \"HHeelllloo  WWoorrlldd!!\"\n",
    "\n",
    "double_char(\"1234!_ \") ➞ \"11223344!!__  \"\n",
    "\n"
   ]
  },
  {
   "cell_type": "code",
   "execution_count": 17,
   "metadata": {},
   "outputs": [
    {
     "name": "stdout",
     "output_type": "stream",
     "text": [
      "String is : String\n",
      "double_char(String) -> SSttrriinngg\n",
      "\n",
      "String is : Hello World!\n",
      "double_char(Hello World!) -> HHeelllloo  WWoorrlldd!!\n",
      "\n",
      "String is : 1234!_\n",
      "double_char(1234!_) -> 11223344!!__\n",
      "\n"
     ]
    }
   ],
   "source": [
    "# Define The Function \n",
    "def double_char():\n",
    "\n",
    "    # Take The Input From The Users\n",
    "    in_str = input(\"Enter The String : \")\n",
    "    print(f\"String is : {in_str}\")\n",
    "    \n",
    "    # Define The Empty String\n",
    "    result = \"\"\n",
    "    \n",
    "    # Check The Condition \n",
    "    for i in in_str:\n",
    "        result += i * 2\n",
    "\n",
    "    # Print The Result\n",
    "    print(f\"double_char({in_str}) -> {result}\\n\")\n",
    "\n",
    "for i in range(3):\n",
    "    double_char()  "
   ]
  },
  {
   "cell_type": "markdown",
   "metadata": {},
   "source": [
    "-----"
   ]
  },
  {
   "cell_type": "markdown",
   "metadata": {},
   "source": [
    "## Ques 2 = Create a function that reverses a boolean value and returns the string \"boolean expected\" if another variable type is given.\n",
    "\n",
    "Examples\n",
    "\n",
    "reverse(True) ➞ False\n",
    "\n",
    "reverse(False) ➞ True\n",
    "\n",
    "reverse(0) ➞ \"boolean expected\"\n",
    "\n",
    "reverse(None) ➞ \"boolean expected\"\n",
    "\n"
   ]
  },
  {
   "cell_type": "code",
   "execution_count": 22,
   "metadata": {},
   "outputs": [
    {
     "name": "stdout",
     "output_type": "stream",
     "text": [
      "reverse(True) ➞ False\n",
      "reverse(False) ➞ True\n",
      "reverse(0) ➞ boolean excepted\n",
      "reverse(None) ➞ boolean excepted\n"
     ]
    }
   ],
   "source": [
    "# Define The Function\n",
    "def reverse(in_bool):\n",
    "\n",
    "    # Check The Conditions\n",
    "    if type(in_bool)  == bool:\n",
    "        return not in_bool\n",
    "    else:\n",
    "        return \"boolean excepted\"\n",
    "    \n",
    " # Print The Result   \n",
    "print(f'reverse(True) ➞ {reverse(True)}')\n",
    "print(f'reverse(False) ➞ {reverse(False)}')\n",
    "print(f'reverse(0) ➞ {reverse(0)}')\n",
    "print(f'reverse(None) ➞ {reverse(None)}')"
   ]
  },
  {
   "cell_type": "markdown",
   "metadata": {},
   "source": [
    "-----"
   ]
  },
  {
   "cell_type": "markdown",
   "metadata": {},
   "source": [
    "## Ques 3 = Create a function that returns the thickness (in meters) of a piece of paper after folding it n number of times. The paper starts off with a thickness of 0.5mm.\n",
    "\n",
    "Examples\n",
    "\n",
    "num_layers(1) ➞ \"0.001m\"\n",
    "# Paper folded once is 1mm (equal to 0.001m)\n",
    "\n",
    "num_layers(4) ➞ \"0.008m\"\n",
    "# Paper folded 4 times is 8mm (equal to 0.008m)\n",
    "\n",
    "num_layers(21) ➞ \"1048.576m\"\n",
    "# Paper folded 21 times is 1048576mm (equal to 1048.576m)\n"
   ]
  },
  {
   "cell_type": "code",
   "execution_count": 34,
   "metadata": {},
   "outputs": [
    {
     "name": "stdout",
     "output_type": "stream",
     "text": [
      "num_layers(1) -> 0.001m\n",
      "num_layers(4) -> 0.008m\n",
      "num_layers(21) -> 1048.576m\n"
     ]
    }
   ],
   "source": [
    "# Define The Function\n",
    "def num_layers(n):\n",
    "\n",
    "    # Initialize The thickness With Value\n",
    "    thickness = 0.5\n",
    "    \n",
    "    # Check The Conditions\n",
    "    for i in range(n):\n",
    "        thickness *= 2\n",
    "    print(f'num_layers({n}) -> {thickness/1000}m')\n",
    "\n",
    "\n",
    "num_layers(1)\n",
    "num_layers(4)\n",
    "num_layers(21)\n"
   ]
  },
  {
   "cell_type": "markdown",
   "metadata": {},
   "source": [
    "-------"
   ]
  },
  {
   "cell_type": "markdown",
   "metadata": {},
   "source": [
    "## Ques 4 = Create a function that takes a single string as argument and returns an ordered list containing the indices of all capital letters in the string.\n",
    "\n",
    "Examples\n",
    "\n",
    "index_of_caps(\"eDaBiT\") ➞ [1, 3, 5]\n",
    "\n",
    "index_of_caps(\"eQuINoX\") ➞ [1, 3, 4, 6]\n",
    "\n",
    "index_of_caps(\"determine\") ➞ []\n",
    "\n",
    "index_of_caps(\"STRIKE\") ➞ [0, 1, 2, 3, 4, 5]\n",
    "\n",
    "index_of_caps(\"sUn\") ➞ [1]\n",
    "\n"
   ]
  },
  {
   "cell_type": "code",
   "execution_count": 35,
   "metadata": {},
   "outputs": [
    {
     "name": "stdout",
     "output_type": "stream",
     "text": [
      "String Are : eDaBiT\n",
      "index_of_caps(eDaBiT) -> [1, 3, 5]\n",
      "\n",
      "String Are : eQuINox\n",
      "index_of_caps(eQuINox) -> [1, 3, 4]\n",
      "\n",
      "String Are : determine\n",
      "index_of_caps(determine) -> []\n",
      "\n",
      "String Are : STRIKE\n",
      "index_of_caps(STRIKE) -> [0, 1, 2, 3, 4, 5]\n",
      "\n",
      "String Are : sUn\n",
      "index_of_caps(sUn) -> [1]\n",
      "\n"
     ]
    }
   ],
   "source": [
    "# Define The Functions\n",
    "def ordered_list():\n",
    "\n",
    "    # Take The Input From The Users\n",
    "    int_str = input(\"Enter The String : \")\n",
    "    print(f\"String Are : {int_str}\")\n",
    "    \n",
    "    # Initialize The Empty List\n",
    "    output_list = []\n",
    "\n",
    "    # Check The Conditions\n",
    "    for i in int_str:\n",
    "        if i.isupper():\n",
    "            output_list.append(int_str.index(i))\n",
    "    \n",
    "    # Print The Conditions\n",
    "    print(f\"index_of_caps({int_str}) -> {output_list}\\n\")\n",
    "\n",
    "for i in range(5):\n",
    "    ordered_list()\n"
   ]
  },
  {
   "cell_type": "markdown",
   "metadata": {},
   "source": [
    "----"
   ]
  },
  {
   "cell_type": "markdown",
   "metadata": {},
   "source": [
    "## Ques 5 = Using list comprehensions, create a function that finds all even numbers from 1 to the given number.\n",
    "\n",
    "Examples\n",
    "\n",
    "find_even_nums(8) ➞ [2, 4, 6, 8]\n",
    "\n",
    "find_even_nums(4) ➞ [2, 4]\n",
    "\n",
    "find_even_nums(2) ➞ [2]\n"
   ]
  },
  {
   "cell_type": "code",
   "execution_count": 36,
   "metadata": {},
   "outputs": [
    {
     "name": "stdout",
     "output_type": "stream",
     "text": [
      "Number is : 8\n",
      "find_even_nums(8) -> [2, 4, 6, 8]\n",
      "\n",
      "Number is : 4\n",
      "find_even_nums(4) -> [2, 4]\n",
      "\n",
      "Number is : 2\n",
      "find_even_nums(2) -> [2]\n",
      "\n"
     ]
    }
   ],
   "source": [
    "# Define The Functions\n",
    "def even():\n",
    "    no = int(input(\"Enter The Number : \"))\n",
    "    print(f\"Number is : {no}\")\n",
    "\n",
    "    # Initialize The Empty list\n",
    "    output = []\n",
    "\n",
    "    # Check The Conditions\n",
    "    for i in range(1 , no+1):\n",
    "        if i % 2 == 0:\n",
    "            output.append(i)\n",
    "\n",
    "    # Print The Result\n",
    "    print(f\"find_even_nums({no}) -> {output}\\n\")\n",
    "\n",
    "for i in range(3):\n",
    "    even()"
   ]
  },
  {
   "cell_type": "markdown",
   "metadata": {},
   "source": [
    "----"
   ]
  },
  {
   "cell_type": "markdown",
   "metadata": {},
   "source": [
    "                                                                    END"
   ]
  }
 ],
 "metadata": {
  "kernelspec": {
   "display_name": "Python 3",
   "language": "python",
   "name": "python3"
  },
  "language_info": {
   "codemirror_mode": {
    "name": "ipython",
    "version": 3
   },
   "file_extension": ".py",
   "mimetype": "text/x-python",
   "name": "python",
   "nbconvert_exporter": "python",
   "pygments_lexer": "ipython3",
   "version": "3.11.8"
  }
 },
 "nbformat": 4,
 "nbformat_minor": 2
}
