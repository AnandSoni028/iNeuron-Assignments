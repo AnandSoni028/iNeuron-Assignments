{
 "cells": [
  {
   "cell_type": "markdown",
   "metadata": {},
   "source": [
    "## Ques 1 = Please write a program using generator to print the numbers which can be divisible by 5 and 7 between 0 and n in comma separated form while n is input by console.\n",
    "Example:\n",
    "\n",
    "If the following n is given as input to the program:\n",
    "100\n",
    "\n",
    "Then, the output of the program should be:\n",
    "0,35,70\n"
   ]
  },
  {
   "cell_type": "code",
   "execution_count": 1,
   "metadata": {},
   "outputs": [
    {
     "name": "stdout",
     "output_type": "stream",
     "text": [
      "100\n",
      "0,35,70\n"
     ]
    }
   ],
   "source": [
    "# Define The Function\n",
    "def calc(n):\n",
    "    # Check i in divisible by 5 and 7\n",
    "    for i in range(0,n):\n",
    "        if (i % 5 == 0) and (i % 7 == 0):\n",
    "            yield i \n",
    "\n",
    "# Take The Input From The Users\n",
    "n = int(input(\"Enter a Number : \"))\n",
    "print(n)\n",
    "result = \",\".join(str(num) for num in calc(n))\n",
    "\n",
    "# Print The Result\n",
    "print(result)"
   ]
  },
  {
   "cell_type": "markdown",
   "metadata": {},
   "source": [
    "--------"
   ]
  },
  {
   "cell_type": "markdown",
   "metadata": {},
   "source": [
    "## Ques 2 = Please write a program using generator to print the even numbers between 0 and n in comma separated form while n is input by console.\n",
    "Example:\n",
    "\n",
    "If the following n is given as input to the program:\n",
    "10\n",
    "\n",
    "Then, the output of the program should be:\n",
    "0,2,4,6,8,10\n"
   ]
  },
  {
   "cell_type": "code",
   "execution_count": 2,
   "metadata": {},
   "outputs": [
    {
     "name": "stdout",
     "output_type": "stream",
     "text": [
      "10\n",
      "0,2,4,6,8,10\n"
     ]
    }
   ],
   "source": [
    "# Define The Function\n",
    "def calc(n):\n",
    "    # Check i in divisible by 5 and 7\n",
    "    for i in range(0,n+1):\n",
    "        if (i % 2 == 0):\n",
    "            yield i \n",
    "\n",
    "# Take The Input From The Users\n",
    "n = int(input(\"Enter a Number : \"))\n",
    "print(n)\n",
    "result = \",\".join(str(num) for num in calc(n))\n",
    "\n",
    "# Print The Result\n",
    "print(result)"
   ]
  },
  {
   "cell_type": "markdown",
   "metadata": {},
   "source": [
    "--------"
   ]
  },
  {
   "cell_type": "markdown",
   "metadata": {},
   "source": [
    "## Ques 3 = The Fibonacci Sequence is computed based on the following formula:\n",
    "f(n)=0 if n=0\n",
    "\n",
    "f(n)=1 if n=1\n",
    "\n",
    "f(n)=f(n-1)+f(n-2) if n>1\n",
    "\n",
    "Please write a program using list comprehension to print the Fibonacci Sequence in comma separated form with a given n input by console.\n",
    "\n",
    "Example:\n",
    "If the following n is given as input to the program:\n",
    "7\n",
    "\n",
    "Then, the output of the program should be:\n",
    "0,1,1,2,3,5,8,13\n"
   ]
  },
  {
   "cell_type": "code",
   "execution_count": 7,
   "metadata": {},
   "outputs": [
    {
     "name": "stdout",
     "output_type": "stream",
     "text": [
      "7\n",
      "0,1,1,2,3,5,8,13\n"
     ]
    }
   ],
   "source": [
    "# Define The Function\n",
    "def fib(n):\n",
    "    if n == 0 :\n",
    "        return 0\n",
    "    elif n == 1 :\n",
    "        return 1\n",
    "    else:\n",
    "            return fib(n-1)+fib(n-2)\n",
    "# Take The Input From The Users    \n",
    "m = int(input(\"Enter The Number :\"))\n",
    "print(m)\n",
    "\n",
    "value = [str(fib(x)) for x in range(0 , m+1)]\n",
    "# Print The Result\n",
    "print(\",\".join(value))"
   ]
  },
  {
   "cell_type": "markdown",
   "metadata": {},
   "source": [
    "-----"
   ]
  },
  {
   "cell_type": "markdown",
   "metadata": {},
   "source": [
    "## Ques 4 = Assuming that we have some email addresses in the \"username@companyname.com\" format, please write program to print the user name of a given email address. Both user names and company names are composed of letters only.\n",
    "Example:\n",
    "\n",
    "If the following email address is given as input to the program:\n",
    "john@google.com\n",
    "\n",
    "Then, the output of the program should be:\n",
    "john\n",
    "\n"
   ]
  },
  {
   "cell_type": "code",
   "execution_count": 61,
   "metadata": {},
   "outputs": [
    {
     "name": "stdout",
     "output_type": "stream",
     "text": [
      "['john', 'google.com']\n",
      "User name :  john\n",
      "Company name :  google\n"
     ]
    }
   ],
   "source": [
    "# Take The Input From The Users\n",
    "email = input(\"Enter the email address : \").split(\"@\")\n",
    "print(email)\n",
    "\n",
    "company = str(email[1]).split('.')\n",
    "# Print The Results\n",
    "print(\"User name : \",n[0])\n",
    "print(\"Company name : \",company[0])"
   ]
  },
  {
   "cell_type": "markdown",
   "metadata": {},
   "source": [
    "-----"
   ]
  },
  {
   "cell_type": "markdown",
   "metadata": {},
   "source": [
    "## Ques 5 = Define a class named Shape and its subclass Square. The Square class has an init function which takes a length as argument. Both classes have a area function which can print the area of the shape where Shape's area is 0 by default."
   ]
  },
  {
   "cell_type": "code",
   "execution_count": 63,
   "metadata": {},
   "outputs": [
    {
     "name": "stdout",
     "output_type": "stream",
     "text": [
      "625\n"
     ]
    }
   ],
   "source": [
    "# Define The Class\n",
    "class Shape():\n",
    "    # Define The Function\n",
    "    def area(self):\n",
    "        return 0 \n",
    "    \n",
    "# Define The Class    \n",
    "class Square(Shape):\n",
    "    # Define The Init Function\n",
    "    def __init__(self,length):\n",
    "        self.length = length\n",
    "    def area(self):\n",
    "        return self.length * self.length\n",
    "\n",
    "# Defien The Value OF Square\n",
    "Square = Square(25)\n",
    "# Print The Result\n",
    "print(Square.area())"
   ]
  },
  {
   "cell_type": "markdown",
   "metadata": {},
   "source": [
    "-----"
   ]
  },
  {
   "cell_type": "markdown",
   "metadata": {},
   "source": [
    "                                                                    END"
   ]
  },
  {
   "cell_type": "markdown",
   "metadata": {},
   "source": []
  }
 ],
 "metadata": {
  "kernelspec": {
   "display_name": "Python 3",
   "language": "python",
   "name": "python3"
  },
  "language_info": {
   "codemirror_mode": {
    "name": "ipython",
    "version": 3
   },
   "file_extension": ".py",
   "mimetype": "text/x-python",
   "name": "python",
   "nbconvert_exporter": "python",
   "pygments_lexer": "ipython3",
   "version": "3.11.8"
  }
 },
 "nbformat": 4,
 "nbformat_minor": 2
}
