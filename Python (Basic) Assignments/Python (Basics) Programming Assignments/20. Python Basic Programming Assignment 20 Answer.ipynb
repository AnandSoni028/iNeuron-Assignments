{
 "cells": [
  {
   "cell_type": "markdown",
   "metadata": {},
   "source": [
    "## Ques 1 = Create a function that takes a list of strings and integers, and filters out the list so that it returns a list of integers only.\n",
    "\n",
    "Examples\n",
    "\n",
    "filter_list([1, 2, 3, \"a\", \"b\", 4]) ➞ [1, 2, 3, 4]\n",
    "\n",
    "filter_list([\"A\", 0, \"Edabit\", 1729, \"Python\", \"1729\"]) ➞ [0, 1729]\n",
    "\n",
    "filter_list([\"Nothing\", \"here\"]) ➞ []\n"
   ]
  },
  {
   "cell_type": "code",
   "execution_count": 1,
   "metadata": {},
   "outputs": [
    {
     "name": "stdout",
     "output_type": "stream",
     "text": [
      "filter_list([1, 2, 3, 'a', 'b', 4]) -> [1, 2, 3, 4]\n",
      "\n",
      "filter_list(['A', 0, 'Edabit', 1729, 'Python', '1729']) -> [0, 1729]\n",
      "\n",
      "filter_list(['Nothing', 'here']) -> []\n",
      "\n"
     ]
    }
   ],
   "source": [
    "# Define The Functions\n",
    "def filter_list(list):\n",
    "\n",
    "    # initialize the Empty list\n",
    "    out_list = []\n",
    "\n",
    "    # Check The Conditions\n",
    "    for i in list:\n",
    "        if type(i) == int:\n",
    "            out_list.append(i)\n",
    "\n",
    "    # Print The Results\n",
    "    print(f\"filter_list({list}) -> {out_list}\\n\")\n",
    "\n",
    "filter_list([1,2,3,\"a\",\"b\",4])\n",
    "filter_list([\"A\",0,\"Edabit\",1729,\"Python\",\"1729\"])\n",
    "filter_list([\"Nothing\",\"here\"])\n"
   ]
  },
  {
   "cell_type": "markdown",
   "metadata": {},
   "source": [
    "----"
   ]
  },
  {
   "cell_type": "markdown",
   "metadata": {},
   "source": [
    "## Ques 2 = Given a list of numbers, create a function which returns the list but with each element's index in the list added to itself. This means you add 0 to the number at index 0, add 1 to the number at index 1, etc...\n",
    "\n",
    "Examples\n",
    "\n",
    "add_indexes([0, 0, 0, 0, 0]) ➞ [0, 1, 2, 3, 4]\n",
    "\n",
    "add_indexes([1, 2, 3, 4, 5]) ➞ [1, 3, 5, 7, 9]\n",
    "\n",
    "add_indexes([5, 4, 3, 2, 1]) ➞ [5, 5, 5, 5, 5]\n"
   ]
  },
  {
   "cell_type": "code",
   "execution_count": 8,
   "metadata": {},
   "outputs": [
    {
     "name": "stdout",
     "output_type": "stream",
     "text": [
      "add_indexes(<class 'list'>) ➞ [0, 1, 2, 3, 4]\n",
      "\n",
      "add_indexes(<class 'list'>) ➞ [1, 3, 5, 7, 9]\n",
      "\n",
      "add_indexes(<class 'list'>) ➞ [5, 5, 5, 5, 5]\n",
      "\n"
     ]
    }
   ],
   "source": [
    "# Define The Functions\n",
    "def add_indexes(int_index):\n",
    "    \n",
    "    # Initialize index with Empty List\n",
    "    output_index = []\n",
    "\n",
    "    # Check The Conditions\n",
    "    for i in range(len(int_index)):\n",
    "        output_index.append(i + int_index[i])\n",
    "\n",
    "    # Print The Results\n",
    "    print(f\"add_indexes({list}) ➞ {output_index}\\n\")\n",
    "\n",
    "\n",
    "add_indexes([0, 0, 0, 0, 0])\n",
    "add_indexes([1, 2, 3, 4, 5]) \n",
    "add_indexes([5, 4, 3, 2, 1]) \n"
   ]
  },
  {
   "cell_type": "markdown",
   "metadata": {},
   "source": [
    "-----"
   ]
  },
  {
   "cell_type": "markdown",
   "metadata": {},
   "source": [
    "## Ques 3 = Create a function that takes the height and radius of a cone as arguments and returns the volume of the cone rounded to the nearest hundredth. See the resources tab for the formula.\n",
    " \n",
    "Examples\n",
    "\n",
    "cone_volume(3, 2) ➞ 12.57\n",
    "\n",
    "cone_volume(15, 6) ➞ 565.49\n",
    "\n",
    "cone_volume(18, 0) ➞ 0\n"
   ]
  },
  {
   "cell_type": "code",
   "execution_count": 10,
   "metadata": {},
   "outputs": [
    {
     "name": "stdout",
     "output_type": "stream",
     "text": [
      "Height of Cone : 3\n",
      "Radius of Cone :2\n",
      "Cone_Volume((2, 3)) -> 12.57\n",
      "\n",
      "Height of Cone : 15\n",
      "Radius of Cone :6\n",
      "Cone_Volume((6, 15)) -> 565.49\n",
      "\n",
      "Height of Cone : 18\n",
      "Radius of Cone :0\n",
      "Cone_Volume((0, 18)) -> 0.00\n",
      "\n"
     ]
    }
   ],
   "source": [
    "# Import The Math\n",
    "import math\n",
    "\n",
    "# Define The Functions\n",
    "def cone_volume():\n",
    "\n",
    "    # Take The Input From The Users\n",
    "    h = int(input(\"Enter The Height Of cone :\"))\n",
    "    print(f\"Height of Cone : {h}\")\n",
    "    r = int(input(\"Enter The radius of cone : \"))\n",
    "    print(f\"Radius of Cone :{r}\")\n",
    "\n",
    "    # Define The Formula\n",
    "    volume = (1/3) * (math.pi) * (r**2) * h\n",
    "\n",
    "    # Print The Results\n",
    "    print(f\"Cone_Volume({r,h}) -> {volume:.2f}\\n\")\n",
    "\n",
    "for i in range(3):\n",
    "    cone_volume()"
   ]
  },
  {
   "cell_type": "markdown",
   "metadata": {},
   "source": [
    "----"
   ]
  },
  {
   "cell_type": "markdown",
   "metadata": {},
   "source": [
    "## Ques 4 = This Triangular Number Sequence is generated from a pattern of dots that form a triangle. The first 5 numbers of the sequence, or dots, are: \n",
    "\n",
    "1, 3, 6, 10, 15\n",
    "\n",
    "This means that the first triangle has just one dot, the second one has three dots, the third one has 6 dots and so on.\n",
    "\n",
    "Write a function that gives the number of dots with its corresponding triangle number of the sequence.\n",
    "\n",
    "Examples\n",
    "\n",
    "triangle(1) ➞ 1\n",
    "\n",
    "triangle(6) ➞ 21\n",
    "\n",
    "triangle(215) ➞ 23220\n"
   ]
  },
  {
   "cell_type": "code",
   "execution_count": 11,
   "metadata": {},
   "outputs": [
    {
     "name": "stdout",
     "output_type": "stream",
     "text": [
      "Triangle(1) -> 1\n",
      "\n",
      "Triangle(6) -> 21\n",
      "\n",
      "Triangle(215) -> 23220\n",
      "\n"
     ]
    }
   ],
   "source": [
    "# Define a Function\n",
    "def triangle(dots):\n",
    "    \n",
    "    # Check The Conditions\n",
    "    print(f\"Triangle({dots}) -> {int((dots)*((dots+1)/2))}\\n\")\n",
    "\n",
    "triangle(1)\n",
    "triangle(6)\n",
    "triangle(215)"
   ]
  },
  {
   "cell_type": "markdown",
   "metadata": {},
   "source": [
    "-----"
   ]
  },
  {
   "cell_type": "markdown",
   "metadata": {},
   "source": [
    "## Ques 5 = Create a function that takes a list of numbers between 1 and 10 (excluding one number) and returns the missing number.\n",
    "\n",
    "Examples\n",
    "\n",
    "missing_num([1, 2, 3, 4, 6, 7, 8, 9, 10]) ➞ 5\n",
    "\n",
    "missing_num([7, 2, 3, 6, 5, 9, 1, 4, 8]) ➞ 10\n",
    "\n",
    "missing_num([10, 5, 1, 2, 4, 6, 8, 3, 9]) ➞ 7\n"
   ]
  },
  {
   "cell_type": "code",
   "execution_count": 12,
   "metadata": {},
   "outputs": [
    {
     "name": "stdout",
     "output_type": "stream",
     "text": [
      "missing_nim([1, 2, 3, 4, 6, 7, 8, 9, 10]) -> 5\n",
      "\n",
      "missing_nim([7, 2, 3, 6, 5, 9, 1, 4, 8]) -> 10\n",
      "\n",
      "missing_nim([10, 5, 1, 2, 4, 6, 8, 3, 9]) -> 7\n",
      "\n"
     ]
    }
   ],
   "source": [
    "# Define The Function\n",
    "def missing_num(input_list):\n",
    "\n",
    "    # Check The Conditions\n",
    "    for i in range(1,11):\n",
    "        if i not in input_list:\n",
    "            # Print The results\n",
    "            print(f\"missing_nim({input_list}) -> {i}\\n\")\n",
    "\n",
    "missing_num([1, 2, 3, 4, 6, 7, 8, 9, 10])\n",
    "missing_num([7, 2, 3, 6, 5, 9, 1, 4, 8])\n",
    "missing_num([10, 5, 1, 2, 4, 6, 8, 3, 9])"
   ]
  },
  {
   "cell_type": "markdown",
   "metadata": {},
   "source": [
    "------"
   ]
  },
  {
   "cell_type": "markdown",
   "metadata": {},
   "source": [
    "                                                                    END"
   ]
  }
 ],
 "metadata": {
  "kernelspec": {
   "display_name": "Python 3",
   "language": "python",
   "name": "python3"
  },
  "language_info": {
   "codemirror_mode": {
    "name": "ipython",
    "version": 3
   },
   "file_extension": ".py",
   "mimetype": "text/x-python",
   "name": "python",
   "nbconvert_exporter": "python",
   "pygments_lexer": "ipython3",
   "version": "3.11.8"
  }
 },
 "nbformat": 4,
 "nbformat_minor": 2
}
