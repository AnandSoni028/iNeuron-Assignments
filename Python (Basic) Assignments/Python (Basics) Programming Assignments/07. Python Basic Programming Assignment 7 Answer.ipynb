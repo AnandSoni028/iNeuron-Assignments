{
 "cells": [
  {
   "cell_type": "markdown",
   "metadata": {},
   "source": [
    "## Ques 1 = Write a Python Program to find sum of array?"
   ]
  },
  {
   "cell_type": "code",
   "execution_count": 3,
   "metadata": {},
   "outputs": [
    {
     "name": "stdout",
     "output_type": "stream",
     "text": [
      "Sum of all the elements of array is : 55\n"
     ]
    }
   ],
   "source": [
    "# Initialize array\n",
    "array = [1,2,3,4,5,6,7,8,9,10]\n",
    "sum = 0\n",
    "\n",
    "# Calculate sum of ekements\n",
    "for i in range (0,len(array)):\n",
    "    sum = sum + array[i]\n",
    "\n",
    "print(f\"Sum of all the elements of array is : {sum}\")"
   ]
  },
  {
   "cell_type": "markdown",
   "metadata": {},
   "source": [
    "-----"
   ]
  },
  {
   "cell_type": "markdown",
   "metadata": {},
   "source": [
    "## Ques 2 = Write a Python Program to find largest element in an array?"
   ]
  },
  {
   "cell_type": "code",
   "execution_count": 4,
   "metadata": {},
   "outputs": [
    {
     "name": "stdout",
     "output_type": "stream",
     "text": [
      "Largest element In given array : 6599\n"
     ]
    }
   ],
   "source": [
    "# Initialize array\n",
    "array = [1,25,4,3,99,45,854,6599,44,4555]\n",
    "\n",
    "# Initialize max with first elements of array.\n",
    "max = array[0]\n",
    "\n",
    "# Loop through the array\n",
    "for i in range(0,len(array)):\n",
    "    # Compare elements of array with max\n",
    "    if array[i] > max:\n",
    "        max = array[i]\n",
    "\n",
    "print(f\"Largest element In given array : {max}\")"
   ]
  },
  {
   "cell_type": "markdown",
   "metadata": {},
   "source": [
    "-----"
   ]
  },
  {
   "cell_type": "markdown",
   "metadata": {},
   "source": [
    "## Ques 3 = Write a Python Program for array rotation?"
   ]
  },
  {
   "cell_type": "code",
   "execution_count": 6,
   "metadata": {},
   "outputs": [
    {
     "name": "stdout",
     "output_type": "stream",
     "text": [
      "4 5 6 7 8 9 10 1 2 3 "
     ]
    }
   ],
   "source": [
    "# Initialize array\n",
    "array = [1,2,3,4,5,6,7,8,9,10]\n",
    "\n",
    "# Take a Input From The User\n",
    "shift = int(input(\"Enter how many elements of the array you want the rotation : \" ))\n",
    "\n",
    "# Left Rotate arr[] of size j by 1\n",
    "for i in range (0,shift):\n",
    "    temp = array[0]\n",
    "\n",
    "    for j in range(0, len(array)-1):\n",
    "        array[j] = array[j+1]\n",
    "    array[len(array)-1] = temp\n",
    "\n",
    "for k in range(0,len(array)):\n",
    "    print(array[k],end = \" \")\n"
   ]
  },
  {
   "cell_type": "markdown",
   "metadata": {},
   "source": [
    "--------"
   ]
  },
  {
   "cell_type": "markdown",
   "metadata": {},
   "source": [
    "## Ques 4 = Write a Python Program to Split the array and add the first part to the end?"
   ]
  },
  {
   "cell_type": "code",
   "execution_count": 10,
   "metadata": {},
   "outputs": [
    {
     "name": "stdout",
     "output_type": "stream",
     "text": [
      "3 4 5 6 7 8 1 2 "
     ]
    }
   ],
   "source": [
    "# Initialize the array\n",
    "array = [1,2,3,4,5,6,7,8]\n",
    "n = len(array)\n",
    "position = 2\n",
    "x = array[:position]\n",
    "y = array[position:]\n",
    "y.extend(x)\n",
    "for i in y:\n",
    "    print(i, end=\" \")"
   ]
  },
  {
   "cell_type": "markdown",
   "metadata": {},
   "source": [
    "------"
   ]
  },
  {
   "cell_type": "markdown",
   "metadata": {},
   "source": [
    "## Ques 5 = Write a Python Program to check if given array is Monotonic?"
   ]
  },
  {
   "cell_type": "code",
   "execution_count": 4,
   "metadata": {},
   "outputs": [
    {
     "name": "stdout",
     "output_type": "stream",
     "text": [
      "True\n",
      "False\n",
      "True\n",
      "True\n"
     ]
    }
   ],
   "source": [
    "# Function Definitions\n",
    "def ismonotone(a):\n",
    "    n = len(a) # Size of array\n",
    "    if n == 1:\n",
    "        return True\n",
    "    else:\n",
    "        # Check For Monotone Behavior\n",
    "        if all(a[i]>=a[i+1] for i in range(0,n-1) or a[i]<=a[i+1] for i in range(0,n-1)):\n",
    "            return True\n",
    "        else:\n",
    "            return False\n",
    "        \n",
    "A = [5,4,3,2,1]\n",
    "print(ismonotone(A))\n",
    "\n",
    "b = [5,6,2,1]\n",
    "print(ismonotone(b))\n",
    "\n",
    "c = [3,2,1]\n",
    "print(ismonotone(c))\n",
    "\n",
    "d = [1]\n",
    "print(ismonotone(d))"
   ]
  },
  {
   "cell_type": "markdown",
   "metadata": {},
   "source": [
    "---------"
   ]
  },
  {
   "cell_type": "markdown",
   "metadata": {},
   "source": [
    "                                                                    END"
   ]
  }
 ],
 "metadata": {
  "kernelspec": {
   "display_name": "Python 3",
   "language": "python",
   "name": "python3"
  },
  "language_info": {
   "codemirror_mode": {
    "name": "ipython",
    "version": 3
   },
   "file_extension": ".py",
   "mimetype": "text/x-python",
   "name": "python",
   "nbconvert_exporter": "python",
   "pygments_lexer": "ipython3",
   "version": "3.11.8"
  }
 },
 "nbformat": 4,
 "nbformat_minor": 2
}
