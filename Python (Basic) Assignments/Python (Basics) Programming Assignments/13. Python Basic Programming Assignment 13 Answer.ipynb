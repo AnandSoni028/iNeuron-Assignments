{
 "cells": [
  {
   "cell_type": "markdown",
   "metadata": {},
   "source": [
    "## Ques 1 = Write a program that calculates and prints the value according to the given formula:\n",
    "\n",
    "Q = Square root of [(2 * C * D)/H]\n",
    "\n",
    "Following are the fixed values of C and H:\n",
    "\n",
    "C is 50. H is 30.\n",
    "\n",
    "D is the variable whose values should be input to your program in a comma-separated sequence.\n",
    "\n",
    "Example\n",
    "\n",
    "Let us assume the following comma separated input sequence is given to the program:\n",
    "\n",
    "100,150,180\n",
    "\n",
    "The output of the program should be:\n",
    "\n",
    "18,22,24\n"
   ]
  },
  {
   "cell_type": "code",
   "execution_count": 10,
   "metadata": {},
   "outputs": [
    {
     "name": "stdout",
     "output_type": "stream",
     "text": [
      "(100, 150, 180)\n",
      "Output is : 18,22,24\n"
     ]
    }
   ],
   "source": [
    "# Import sqrt from math \n",
    "from math import sqrt\n",
    "# Define a Function Calc \n",
    "def calc():\n",
    "    # C,H Pre defined Variable\n",
    "    C = 50\n",
    "    H = 30\n",
    "    # Take A Input From The Users\n",
    "    D = eval(input(\"Enter The Value of D : \"))\n",
    "    print(D)\n",
    "    output =[]\n",
    "\n",
    "    for i in D:\n",
    "        a = str(int(sqrt((2 * C * i) / H)))\n",
    "        output.append(a)\n",
    "    \n",
    "    # Print The Result\n",
    "    print(\"Output is : {}\".format(','.join(output)))\n",
    "\n",
    "calc()"
   ]
  },
  {
   "cell_type": "markdown",
   "metadata": {},
   "source": [
    "--------"
   ]
  },
  {
   "cell_type": "markdown",
   "metadata": {},
   "source": [
    "## Ques 2 = Write a program which takes 2 digits, X,Y as input and generates a 2-dimensional array. The element value in the i-th row and j-th column of the array should be i*j.\n",
    "\n",
    "Note: i=0,1.., X-1; j=0,1,¡¬Y-1.\n",
    "\n",
    "Example\n",
    "\n",
    "Suppose the following inputs are given to the program:\n",
    "\n",
    "3,5\n",
    "\n",
    "Then, the output of the program should be:\n",
    "\n",
    "[[0, 0, 0, 0, 0], [0, 1, 2, 3, 4], [0, 2, 4, 6, 8]] \n",
    "\n"
   ]
  },
  {
   "cell_type": "code",
   "execution_count": 16,
   "metadata": {},
   "outputs": [
    {
     "name": "stdout",
     "output_type": "stream",
     "text": [
      "[[0, 0, 0, 0, 0], [0, 1, 2, 3, 4], [0, 2, 4, 6, 8]]\n"
     ]
    }
   ],
   "source": [
    "# Define the Functiona name Array\n",
    "def array():\n",
    "    # Take The Input From The Users\n",
    "    Raw= int(input(\"Enter the no.of Raw :\"))\n",
    "    print(f\"Raw is : {Raw}\")\n",
    "    Col = int(input(\"Enter The no.of Column : \"))\n",
    "    print(f\"Column is : {Col}\")\n",
    "    #Define the Empty List\n",
    "    out_array = []\n",
    "\n",
    "    for i in range(Raw):\n",
    "        out_array.insert(Raw,[])\n",
    "        for j in range(Col):\n",
    "            out_array[i].append(i*j)\n",
    "    print(out_array)\n",
    "\n",
    "array()"
   ]
  },
  {
   "cell_type": "markdown",
   "metadata": {},
   "source": [
    "--------"
   ]
  },
  {
   "cell_type": "markdown",
   "metadata": {},
   "source": [
    "## Ques 3 = Write a program that accepts a comma separated sequence of words as input and prints the words in a comma-separated sequence after sorting them alphabetically.\n",
    "\n",
    "Suppose the following input is supplied to the program:\n",
    "\n",
    "without,hello,bag,world\n",
    "\n",
    "Then, the output should be:\n",
    "\n",
    "bag,hello,without,world\n"
   ]
  },
  {
   "cell_type": "code",
   "execution_count": 17,
   "metadata": {},
   "outputs": [
    {
     "name": "stdout",
     "output_type": "stream",
     "text": [
      "without,hello,bag,world\n",
      "Output is : bag,hello,without,world\n"
     ]
    }
   ],
   "source": [
    "# Take The Input From The Users\n",
    "n = input(\"Enter comm separated sequence of words : \")\n",
    "print(n)\n",
    "\n",
    "# sorted and comma-separated list of unique words\n",
    "m = ','.join(sorted(n.split(',')))\n",
    "# Print The Results\n",
    "print(f\"Output is : {m}\")"
   ]
  },
  {
   "cell_type": "markdown",
   "metadata": {},
   "source": [
    "----"
   ]
  },
  {
   "cell_type": "markdown",
   "metadata": {},
   "source": [
    "## Ques 4 = Write a program that accepts a sequence of whitespace separated words as input and prints the words after removing all duplicate words and sorting them alphanumerically.\n",
    "\n",
    "Suppose the following input is supplied to the program:\n",
    "\n",
    "hello world and practice makes perfect and hello world again\n",
    "\n",
    "Then, the output should be:\n",
    "\n",
    "again and hello makes perfect practice world\n",
    "\n"
   ]
  },
  {
   "cell_type": "code",
   "execution_count": 21,
   "metadata": {},
   "outputs": [
    {
     "name": "stdout",
     "output_type": "stream",
     "text": [
      "hello world and practice makes perfect and hello world again\n",
      "output is : again and hello makes perfect practice world\n"
     ]
    }
   ],
   "source": [
    "# Take The Input From The Users\n",
    "n = input(\"Enter word with space : \")\n",
    "print(n)\n",
    "# sorted and whitespace-separated list of words\n",
    "m = \" \".join(sorted(set(n.split(\" \"))))\n",
    "# Print The Results\n",
    "print(f\"output is : {m}\")"
   ]
  },
  {
   "cell_type": "markdown",
   "metadata": {},
   "source": [
    "-----"
   ]
  },
  {
   "cell_type": "markdown",
   "metadata": {},
   "source": [
    "## Ques 5 = Write a program that accepts a sentence and calculate the number of letters and digits.\n",
    "\n",
    "Suppose the following input is supplied to the program:\n",
    "\n",
    "hello world! 123\n",
    "\n",
    "Then, the output should be:\n",
    "\n",
    "LETTERS 10\n",
    "\n",
    "DIGITS 3\n"
   ]
  },
  {
   "cell_type": "code",
   "execution_count": 23,
   "metadata": {},
   "outputs": [
    {
     "name": "stdout",
     "output_type": "stream",
     "text": [
      "hello world! 123\n",
      "Letters are : 10\n",
      "Digits are : 3\n"
     ]
    }
   ],
   "source": [
    "# Take The Input From The USers\n",
    "a = input(\"Enter The String : \")\n",
    "print(a)\n",
    "# Digits and letters initalize with 0\n",
    "digits = 0 \n",
    "letters = 0\n",
    "\n",
    "# Check the digits and Letters\n",
    "for i in a :\n",
    "    if i.isdigit():\n",
    "        digits += 1 \n",
    "    elif i.isalpha():\n",
    "        letters += 1 \n",
    "    else:\n",
    "        pass\n",
    "\n",
    "# Print The results\n",
    "print(f\"Letters are : {letters}\")\n",
    "print(f\"Digits are : {digits}\")"
   ]
  },
  {
   "cell_type": "markdown",
   "metadata": {},
   "source": [
    "----"
   ]
  },
  {
   "cell_type": "markdown",
   "metadata": {},
   "source": [
    "## Ques 6 = A website requires the users to input username and password to register. Write a program to check the validity of password input by users.\n",
    "\n",
    "Following are the criteria for checking the password:\n",
    "\n",
    "1. At least 1 letter between [a-z]\n",
    "\n",
    "2. At least 1 number between [0-9]\n",
    "\n",
    "1. At least 1 letter between [A-Z]\n",
    "\n",
    "3. At least 1 character from [$#@]\n",
    "\n",
    "4. Minimum length of transaction password: 6\n",
    "\n",
    "5. Maximum length of transaction password: 12\n",
    "\n",
    "Your program should accept a sequence of comma separated passwords and will check them according to the above criteria. Passwords that match the criteria are to be printed, each separated by a comma.\n",
    "\n",
    "Example\n",
    "\n",
    "If the following passwords are given as input to the program:\n",
    "\n",
    "ABd1234@1,a F1#,2w3E*,2We3345\n",
    "\n",
    "Then, the output of the program should be:\n",
    "\n",
    "ABd1234@1\n"
   ]
  },
  {
   "cell_type": "code",
   "execution_count": 27,
   "metadata": {},
   "outputs": [
    {
     "name": "stdout",
     "output_type": "stream",
     "text": [
      "ABd1234@1,a F1#,2w3E*,2We3345\n",
      "Correct Password is : ABd1234@1\n"
     ]
    }
   ],
   "source": [
    "# Define the Function\n",
    "def password_check():\n",
    "  # Take The Input Form The Users\n",
    "  password = input(\"Enter your passwords : \")\n",
    "  print(password)\n",
    "  special_char_list = \"@#$\"\n",
    "  # Check The Condition\n",
    "  for elem in password.split(\",\"):\n",
    "    if len(elem) <=12 and len(elem) >=6:\n",
    "      if any(i.isupper() for i in elem):\n",
    "        if any(i.islower() for i in elem):\n",
    "          if any(i for i in elem if i in special_char_list):\n",
    "            print(f\"Correct Password is : {elem}\")\n",
    "\n",
    "password_check()"
   ]
  },
  {
   "cell_type": "markdown",
   "metadata": {},
   "source": [
    "-------"
   ]
  },
  {
   "cell_type": "markdown",
   "metadata": {},
   "source": [
    "                                                                    END"
   ]
  }
 ],
 "metadata": {
  "kernelspec": {
   "display_name": "Python 3",
   "language": "python",
   "name": "python3"
  },
  "language_info": {
   "codemirror_mode": {
    "name": "ipython",
    "version": 3
   },
   "file_extension": ".py",
   "mimetype": "text/x-python",
   "name": "python",
   "nbconvert_exporter": "python",
   "pygments_lexer": "ipython3",
   "version": "3.11.8"
  }
 },
 "nbformat": 4,
 "nbformat_minor": 2
}
