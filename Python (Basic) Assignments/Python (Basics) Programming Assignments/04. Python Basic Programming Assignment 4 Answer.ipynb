{
 "cells": [
  {
   "cell_type": "markdown",
   "metadata": {},
   "source": [
    "## Ques 1 = Write a Python Program to Find the Factorial of a Number?"
   ]
  },
  {
   "cell_type": "code",
   "execution_count": 1,
   "metadata": {},
   "outputs": [
    {
     "name": "stdout",
     "output_type": "stream",
     "text": [
      "Factorial is : 120\n"
     ]
    }
   ],
   "source": [
    "# Taking The Input From The User\n",
    "i =  int(input(\"Enter a number to find the Factorial : \"))\n",
    "\n",
    "# Define The Fact = 1\n",
    "fact = 1\n",
    "# check The Conditons\n",
    "while (i > 0):\n",
    "    fact = fact * i\n",
    "    i = i-1\n",
    "\n",
    "# Print The Value Of For The Users\n",
    "print(f\"Factorial is : {fact}\")"
   ]
  },
  {
   "cell_type": "code",
   "execution_count": 2,
   "metadata": {},
   "outputs": [
    {
     "name": "stdout",
     "output_type": "stream",
     "text": [
      "Factorial of 5 is 120\n"
     ]
    }
   ],
   "source": [
    "# Taking The Input From The User\n",
    "x = int(input(\"Enter a number \"))\n",
    "\n",
    "# Define The Fact = 1\n",
    "factorial = 1\n",
    "\n",
    "# check The Conditons\n",
    "if x < 0:\n",
    "    print(\"Can not calculate Factorial of a negative numbers\")\n",
    "elif x == 0:\n",
    "    print(\"Factorial of zero is 1\")\n",
    "else:\n",
    "    for i in range(1,x+1):\n",
    "        factorial = factorial * i\n",
    "\n",
    "# Print The Value Of For The Users\n",
    "print(\"Factorial of {} is {}\".format(x,factorial))"
   ]
  },
  {
   "cell_type": "markdown",
   "metadata": {},
   "source": [
    "## Ques 2 = Write a Python Program to Display the multiplication Table?"
   ]
  },
  {
   "cell_type": "markdown",
   "metadata": {},
   "source": [
    "-------"
   ]
  },
  {
   "cell_type": "code",
   "execution_count": 3,
   "metadata": {},
   "outputs": [
    {
     "name": "stdout",
     "output_type": "stream",
     "text": [
      "Table of 15 is :\n",
      "15 * 1 = 15\n",
      "15 * 2 = 30\n",
      "15 * 3 = 45\n",
      "15 * 4 = 60\n",
      "15 * 5 = 75\n",
      "15 * 6 = 90\n",
      "15 * 7 = 105\n",
      "15 * 8 = 120\n",
      "15 * 9 = 135\n",
      "15 * 10 = 150\n"
     ]
    }
   ],
   "source": [
    "# Take The Input From The Users\n",
    "i = int(input(\"Enter a number to display the multiplication table \"))\n",
    "j = 1\n",
    "\n",
    "# Print The Value for The Users\n",
    "print(F\"Table of {i} is :\")\n",
    "while j<=10:\n",
    "    print(f\"{i} * {j} = {i*j}\")\n",
    "    j = j+1"
   ]
  },
  {
   "cell_type": "code",
   "execution_count": 4,
   "metadata": {},
   "outputs": [
    {
     "name": "stdout",
     "output_type": "stream",
     "text": [
      "Multiplication table of  11\n",
      "11 X 1 = 11\n",
      "11 X 2 = 22\n",
      "11 X 3 = 33\n",
      "11 X 4 = 44\n",
      "11 X 5 = 55\n",
      "11 X 6 = 66\n",
      "11 X 7 = 77\n",
      "11 X 8 = 88\n",
      "11 X 9 = 99\n",
      "11 X 10 = 110\n"
     ]
    }
   ],
   "source": [
    "# Take The Input From The Users\n",
    "num = int(input(\"Enter the number\"))\n",
    "\n",
    "# Print The Value for The Users\n",
    "print(\"Multiplication table of \",num)\n",
    "\n",
    "for i in range(1,11):\n",
    "    print(num,\"X\",i, \"=\" ,num*i)"
   ]
  },
  {
   "cell_type": "markdown",
   "metadata": {},
   "source": [
    "-------"
   ]
  },
  {
   "cell_type": "markdown",
   "metadata": {},
   "source": [
    "## Ques 3 = Write a Python Program to Print the Fibonacci sequence?"
   ]
  },
  {
   "cell_type": "code",
   "execution_count": 6,
   "metadata": {},
   "outputs": [
    {
     "name": "stdout",
     "output_type": "stream",
     "text": [
      "Fibonacci Sequence is : \n",
      "0 1 1 2 3 5 8 13 21 34 55 89 144 233 377 "
     ]
    }
   ],
   "source": [
    "# Program to display the Fibonacci sequence up to num.\n",
    "num = int(input(\"Enter a numbers how many terms you want : \"))\n",
    "\n",
    "# First two num\n",
    "n1 = 0\n",
    "n2 = 1\n",
    "nth = 0\n",
    "\n",
    "# Check if the numbers is valid\n",
    "if num<=0:\n",
    "  print(\"Please Enter positive number!\")\n",
    "\n",
    "# If there is only one num,return n1\n",
    "elif num==1:\n",
    "  print(f\"Fibonacci Series till {num} terms is : \")\n",
    "  print(n1)\n",
    "\n",
    "# generate fibonacci sequence\n",
    "else:\n",
    "  print(\"Fibonacci Sequence is : \")\n",
    "  while nth < num:\n",
    "    print(n1, end = \" \")\n",
    "    total = n1 + n2\n",
    "    # update values\n",
    "    n1 = n2\n",
    "    n2 = total\n",
    "    nth += 1"
   ]
  },
  {
   "cell_type": "markdown",
   "metadata": {},
   "source": [
    "-------"
   ]
  },
  {
   "cell_type": "markdown",
   "metadata": {},
   "source": [
    "## Ques 4 = Write a Python Program to Check Armstrong Number?"
   ]
  },
  {
   "cell_type": "code",
   "execution_count": 7,
   "metadata": {},
   "outputs": [
    {
     "name": "stdout",
     "output_type": "stream",
     "text": [
      "153 is an Armstrong Number\n"
     ]
    }
   ],
   "source": [
    "## Take a input from user \n",
    "num = int(input(\"Enter a numbers \"))\n",
    "\n",
    "# initialize sum \n",
    "sum = 0 \n",
    "\n",
    "# Changed num variable to string, and calculated the length (number of digits)\n",
    "order = len(str(num))\n",
    "\n",
    "# find sum of the cube of each digit\n",
    "temp = num\n",
    "while temp > 0 :\n",
    "    digit = temp % 10\n",
    "    sum += digit **order\n",
    "    temp //= 10\n",
    "\n",
    "# display the result\n",
    "if num == sum:\n",
    "    print(num, \"is an Armstrong Number\")\n",
    "else:\n",
    "    print(num,\"is not an Armstrong Number\")\n"
   ]
  },
  {
   "cell_type": "markdown",
   "metadata": {},
   "source": [
    "------"
   ]
  },
  {
   "cell_type": "markdown",
   "metadata": {},
   "source": [
    "## Ques 5 = Write a Python Program to Find Armstrong Number in an Interval"
   ]
  },
  {
   "cell_type": "code",
   "execution_count": 19,
   "metadata": {},
   "outputs": [
    {
     "name": "stdout",
     "output_type": "stream",
     "text": [
      "153\n",
      "370\n",
      "371\n",
      "407\n",
      "1634\n"
     ]
    }
   ],
   "source": [
    "# Take the input from user.\n",
    "lower = int(input(\"Enter lower limit number :  \"))\n",
    "upper = int(input(\"Enter upper limit number :  \"))\n",
    "\n",
    "for num in range(lower,upper + 1 ):\n",
    "\n",
    "# order of number\n",
    "    order = len(str(num))\n",
    "\n",
    "# Initialize sum\n",
    "    sum = 0 \n",
    "\n",
    "    temp = num\n",
    "    while temp > 0:\n",
    "        digit = temp % 10\n",
    "        sum += digit ** order\n",
    "        temp //= 10 \n",
    "\n",
    "    if num == sum :\n",
    "        print(num)"
   ]
  },
  {
   "cell_type": "markdown",
   "metadata": {},
   "source": [
    "----"
   ]
  },
  {
   "cell_type": "markdown",
   "metadata": {},
   "source": [
    "## Ques 6 = Write a Python Program to Find the Sum of Natural Numbers?"
   ]
  },
  {
   "cell_type": "code",
   "execution_count": 22,
   "metadata": {},
   "outputs": [
    {
     "name": "stdout",
     "output_type": "stream",
     "text": [
      "The Sum is 210\n"
     ]
    }
   ],
   "source": [
    "# Take the input from user\n",
    "num = int(input(\"Enter a Number \"))\n",
    "\n",
    "if num < 0 :\n",
    "    print(\"enter a positive number\")\n",
    "else:\n",
    "    sum = 0\n",
    "    # use while loop to iterate untill zero\n",
    "    while(num > 0) :\n",
    "        sum += num\n",
    "        num -= 1 \n",
    "    print(f\"The Sum is {sum}\")\n"
   ]
  },
  {
   "cell_type": "markdown",
   "metadata": {},
   "source": [
    "-----------"
   ]
  },
  {
   "cell_type": "markdown",
   "metadata": {},
   "source": [
    "                                                                        END"
   ]
  }
 ],
 "metadata": {
  "kernelspec": {
   "display_name": "Python 3",
   "language": "python",
   "name": "python3"
  },
  "language_info": {
   "codemirror_mode": {
    "name": "ipython",
    "version": 3
   },
   "file_extension": ".py",
   "mimetype": "text/x-python",
   "name": "python",
   "nbconvert_exporter": "python",
   "pygments_lexer": "ipython3",
   "version": "3.11.8"
  }
 },
 "nbformat": 4,
 "nbformat_minor": 2
}
