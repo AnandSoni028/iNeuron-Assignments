{
 "cells": [
  {
   "cell_type": "markdown",
   "metadata": {},
   "source": [
    " ## Ques 1 = To what does a relative path refer?"
   ]
  },
  {
   "cell_type": "markdown",
   "metadata": {},
   "source": [
    "Answer - A Relative path describe the location of a file or directory relative to the current working directory.\n",
    "\n",
    "Ex- if your documents are in C:\\Sample\\Documents and your index is in C:\\Sample\\index the absolute path for the documents world be C:\\Sample\\Documents.\n",
    "\n",
    "Relative paths are used when learning to access data files through programming.They can also be used to move a workflow from one location to another.As Long as the same data-to-workflow structure is preserved,the workflow will run successfully in the new location."
   ]
  },
  {
   "cell_type": "markdown",
   "metadata": {},
   "source": [
    "----"
   ]
  },
  {
   "cell_type": "markdown",
   "metadata": {},
   "source": [
    "## Ques 2 = What does an absolute path start with your operating system?"
   ]
  },
  {
   "cell_type": "markdown",
   "metadata": {},
   "source": [
    "Answer - An absolute path makes no assumptions about your current location in relation to the locations of the file or directory.An absolute path always begins from the absolute start of your hard drive and discribes every step you must take through the filessystem to end up at the target location."
   ]
  },
  {
   "cell_type": "markdown",
   "metadata": {},
   "source": [
    "------------"
   ]
  },
  {
   "cell_type": "markdown",
   "metadata": {},
   "source": [
    "## Ques 3 = What do the functions os.getcwd() and os.chdir() do?"
   ]
  },
  {
   "cell_type": "markdown",
   "metadata": {},
   "source": [
    "Answer - In Python the function os.getcwd() and os.chdir() work with the file system.\n",
    "\n",
    "os.getcwd() = The current working directory can be printed using the os.getcwd() method.\n",
    "\n",
    "os.chdir() = This method changes the current working directory to a specific path."
   ]
  },
  {
   "cell_type": "markdown",
   "metadata": {},
   "source": [
    "-----"
   ]
  },
  {
   "cell_type": "markdown",
   "metadata": {},
   "source": [
    "## Ques 4 = What are the . and .. folders?"
   ]
  },
  {
   "cell_type": "markdown",
   "metadata": {},
   "source": [
    "Answer - = '.' represent the current directory \n",
    "           '..' represent the parent directory."
   ]
  },
  {
   "cell_type": "markdown",
   "metadata": {},
   "source": [
    "----"
   ]
  },
  {
   "cell_type": "markdown",
   "metadata": {},
   "source": [
    "## Ques 5 = In C:\\bacon\\eggs\\spam.txt, which part is the dir name, and which part is the base name?"
   ]
  },
  {
   "cell_type": "markdown",
   "metadata": {},
   "source": [
    "Answer - In C:\\bacon\\eggs\\spam.txt, the dir name is C:\\bacon\\eggs which specifies the location of the file spam.txt.and the base name is spam.txt,which is the name of the file itself.\n",
    "\n",
    "Here the dir name is the part of the path that specifies the location of the file while the base name is the name of the file itself. On windows paths are written using backslashes(\\)as the separator between folder name.A single period (.) for a folder name is shorthand for \"this directory\".Two periods(..) means \"the parent folder\"."
   ]
  },
  {
   "cell_type": "markdown",
   "metadata": {},
   "source": [
    "----"
   ]
  },
  {
   "cell_type": "markdown",
   "metadata": {},
   "source": [
    "## Ques 6 = What are the three “mode” arguments that can be passed to the open() function?"
   ]
  },
  {
   "cell_type": "markdown",
   "metadata": {},
   "source": [
    "Answer - The Three mode argument that can be passed to the open() function are - \n",
    "\n",
    "1. \"r\" - open the file for reading.\n",
    "\n",
    "2.\"w\" - Open the file for writing. IF the file exists,its content are overwritten.\n",
    "\n",
    "3.\"a\" - Open the file for written.if the file exists,its contents are appended."
   ]
  },
  {
   "cell_type": "markdown",
   "metadata": {},
   "source": [
    "---"
   ]
  },
  {
   "cell_type": "markdown",
   "metadata": {},
   "source": [
    "## Ques 7 = What happens if an existing file is opened in write mode?"
   ]
  },
  {
   "cell_type": "markdown",
   "metadata": {},
   "source": [
    "Answer - Opening an exisiting file in write mode then it delete its contents and allows new data to be added. Or we can say that its contents are discarded and the file is treated as a new empty file.\n",
    "\n",
    "Ex - If there is a text file called \"test.txt\" with the content \"Hello world\" and its opened in write mode,the file will be emptied and the new content can be written to it."
   ]
  },
  {
   "cell_type": "markdown",
   "metadata": {},
   "source": [
    "----"
   ]
  },
  {
   "cell_type": "markdown",
   "metadata": {},
   "source": [
    "## Ques 8 = How do you tell the difference between read() and readlines()?"
   ]
  },
  {
   "cell_type": "markdown",
   "metadata": {},
   "source": [
    "Answer - The read() and readlines() Methods in python are both used to read data from a file.\n",
    "\n",
    "The read() method reads a specified numbers of bytes from the file,starting at the current position of the file pointer.\n",
    "\n",
    "The readlines() method reads a single line from the file,starting at the current position of the file pointer. "
   ]
  },
  {
   "cell_type": "markdown",
   "metadata": {},
   "source": [
    "----"
   ]
  },
  {
   "cell_type": "markdown",
   "metadata": {},
   "source": [
    "## Ques 9 = What data structure does a shelf value resemble?"
   ]
  },
  {
   "cell_type": "markdown",
   "metadata": {},
   "source": [
    "Answer - A Shelf value resembles a dictionary value. It has keys and values along with keys() and value() Method that work similarly to the dicitionary methods of the same names."
   ]
  },
  {
   "cell_type": "markdown",
   "metadata": {},
   "source": [
    "-----"
   ]
  },
  {
   "cell_type": "markdown",
   "metadata": {},
   "source": [
    "                                                                    END\n",
    "                                                                    "
   ]
  }
 ],
 "metadata": {
  "kernelspec": {
   "display_name": "base",
   "language": "python",
   "name": "python3"
  },
  "language_info": {
   "codemirror_mode": {
    "name": "ipython",
    "version": 3
   },
   "file_extension": ".py",
   "mimetype": "text/x-python",
   "name": "python",
   "nbconvert_exporter": "python",
   "pygments_lexer": "ipython3",
   "version": "3.9.13"
  }
 },
 "nbformat": 4,
 "nbformat_minor": 2
}
