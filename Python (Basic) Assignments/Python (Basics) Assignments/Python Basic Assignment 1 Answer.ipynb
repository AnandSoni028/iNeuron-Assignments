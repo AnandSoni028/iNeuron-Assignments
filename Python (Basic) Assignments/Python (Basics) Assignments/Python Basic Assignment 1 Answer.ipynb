{
 "cells": [
  {
   "cell_type": "markdown",
   "metadata": {},
   "source": [
    "### Ques 1 = \n",
    "1. In the below elements which of them are values or an expression? eg:- values can be integer or string and expressions will be mathematical operators.\n",
    "* \n",
    "'hello'\n",
    "-87.8\n",
    "- \n",
    "/ \n",
    "6 \n"
   ]
  },
  {
   "cell_type": "markdown",
   "metadata": {},
   "source": [
    "Answer- \n",
    "* = Expression\n",
    "'hello' =  value\n",
    "-87.8 = M= value.\n",
    "- = Expression.\n",
    "/ = Expression.\n",
    "+ = Expression.\n",
    "6 =  Value"
   ]
  },
  {
   "cell_type": "markdown",
   "metadata": {},
   "source": [
    "---------"
   ]
  },
  {
   "cell_type": "markdown",
   "metadata": {},
   "source": [
    "## Ques 2 = What is the difference between string and variable?"
   ]
  },
  {
   "cell_type": "markdown",
   "metadata": {},
   "source": [
    "Answer -\n",
    "\n",
    "String - \n",
    " String is a data structure in python that represent a squence of characters.\n",
    " string is a collection of alphabers,words and other characters.\n",
    " it is a single quote which is used for characters,double quote is used for words and sentence and triple quote is used for multi-line words and sentence.\n",
    " a string value representing text.\n",
    "\n",
    " Variable = Variable is a reserved memory location to store values.\n",
    " or we can say that variable is gives data to the computer for processing in python.\n",
    " A variable is a name that can refer to any value.\n",
    "    "
   ]
  },
  {
   "cell_type": "markdown",
   "metadata": {},
   "source": [
    "-------"
   ]
  },
  {
   "cell_type": "markdown",
   "metadata": {},
   "source": [
    "## Ques 3 = Describe three different data types."
   ]
  },
  {
   "cell_type": "markdown",
   "metadata": {},
   "source": [
    "Answer -  \n",
    "\n",
    "WE Discribe in any there datatype.\n",
    "\n",
    "1. Numeric Data Type = Numeric Data Type means that it contain a data item is a numeric value ia a number or we can say that it hold the numeric values.\n",
    "\n",
    "Numeric data type is 3 type -\n",
    "1. Integer = It accecpt the both positive and negative numbers. and there is no limit to how long an integer value accecpt. Ex - 1,25,555,etc.\n",
    "2. Float =  It accecpt the floating decimal points.Ex- 1.25,5.5,99.9 etc.\n",
    "3. Complex = It accecpt the complex number.Ex- 1+2j,4+5j etc.\n",
    "4. Boolean = It accecpt the Boolean type means that 'True' and 'False' value.or integer 1 and 0 respectively.\n",
    "\n",
    "2. Dictionart Data type = It is also called as mapping type. mapping means that maps value of one object with another. it have pair of word and it meaning. 2 parts of pair are key(word) and value(meaning).(key:value).\n",
    "Ex - {class:'python',company:'ineuron'}\n",
    "\n",
    "3. Set Data type = set is a implementation of sets defined in mathematics.it is a collection but not an indexed or ordered collection as string list or tuple.An object cannot appear more than once in a set whenever in list ot tuple but same object can appear more than once.\n",
    "Ex - {2023,\"Python\",5.2,2+3j}\n",
    "     {(2+3j),5.2,'Python',2023}\n"
   ]
  },
  {
   "cell_type": "markdown",
   "metadata": {},
   "source": [
    "--------"
   ]
  },
  {
   "cell_type": "markdown",
   "metadata": {},
   "source": [
    "## Ques 4 = What is an expression made up of? What do all expressions do?"
   ]
  },
  {
   "cell_type": "markdown",
   "metadata": {},
   "source": [
    "Answer -\n",
    "\n",
    "An expression is a construct made up of variables, operators, and method invocations, which are constructed according to the syntax of the language, that evaluates to a single value.If you print an expression then the interpreter evaluates the expression and displays the result.\n",
    "string is also an expressions since it represents the value of the string as well.\n",
    "for Ex = \n",
    "        x = 25   # It is statement\n",
    "        x= x + 25 # it is experssion \n",
    "        print(x)\n",
    "\n",
    "Output - x =50 "
   ]
  },
  {
   "cell_type": "markdown",
   "metadata": {},
   "source": [
    "------"
   ]
  },
  {
   "cell_type": "markdown",
   "metadata": {},
   "source": [
    "## Ques 5 = This assignment statements, like spam = 10. What is the difference between an expression and a statement?"
   ]
  },
  {
   "cell_type": "markdown",
   "metadata": {},
   "source": [
    "Answer - \n",
    "\n",
    "Expression can be assigned or used as operands while statements can be only declared.\n",
    "Expression are value or execute to values but Statements creates side effects to be useful.\n",
    "An Experssion evaluates to a single value. but a Statement does not evaluates a single value.\n",
    "\n",
    "Example -\n",
    "\n",
    "        spam = 10   # it is a statements where a is statements and 10 is value.\n",
    "    \n",
    "        spam = spam + 25 ## It is a Experssion.\n"
   ]
  },
  {
   "cell_type": "markdown",
   "metadata": {},
   "source": [
    "--------"
   ]
  },
  {
   "cell_type": "markdown",
   "metadata": {},
   "source": [
    "## Ques 6 = . After running the following code, what does the variable bacon contain?\n",
    "## bacon = 22\n",
    "## bacon + 1\n"
   ]
  },
  {
   "cell_type": "markdown",
   "metadata": {},
   "source": [
    "Answer - 23 "
   ]
  },
  {
   "cell_type": "code",
   "execution_count": 2,
   "metadata": {},
   "outputs": [
    {
     "data": {
      "text/plain": [
       "23"
      ]
     },
     "execution_count": 2,
     "metadata": {},
     "output_type": "execute_result"
    }
   ],
   "source": [
    "bacon = 22\n",
    "bacon + 1"
   ]
  },
  {
   "cell_type": "markdown",
   "metadata": {},
   "source": [
    "------"
   ]
  },
  {
   "cell_type": "markdown",
   "metadata": {},
   "source": [
    "## Ques 7 = What should the values of the following two terms be?\n",
    "## 'spam' + 'spamspam'\n",
    "## 'spam' * 3\n"
   ]
  },
  {
   "cell_type": "markdown",
   "metadata": {},
   "source": [
    "Answer -"
   ]
  },
  {
   "cell_type": "code",
   "execution_count": 4,
   "metadata": {},
   "outputs": [
    {
     "data": {
      "text/plain": [
       "'spamspamspam'"
      ]
     },
     "execution_count": 4,
     "metadata": {},
     "output_type": "execute_result"
    }
   ],
   "source": [
    "'spam' + 'spamspam'"
   ]
  },
  {
   "cell_type": "code",
   "execution_count": 5,
   "metadata": {},
   "outputs": [
    {
     "data": {
      "text/plain": [
       "'spamspamspam'"
      ]
     },
     "execution_count": 5,
     "metadata": {},
     "output_type": "execute_result"
    }
   ],
   "source": [
    "'spam' * 3"
   ]
  },
  {
   "cell_type": "markdown",
   "metadata": {},
   "source": [
    "----"
   ]
  },
  {
   "cell_type": "markdown",
   "metadata": {},
   "source": [
    "## Ques 8 = Why is eggs a valid variable name while 100 is invalid? "
   ]
  },
  {
   "cell_type": "markdown",
   "metadata": {},
   "source": [
    "Answer - \n",
    "\n",
    "Because variable names cannot begin with a number."
   ]
  },
  {
   "cell_type": "markdown",
   "metadata": {},
   "source": [
    "---------"
   ]
  },
  {
   "cell_type": "markdown",
   "metadata": {},
   "source": [
    "## Ques 9 = What three functions can be used to get the integer, floating-point number, or string version of a value? "
   ]
  },
  {
   "cell_type": "markdown",
   "metadata": {},
   "source": [
    "Answer - \n",
    "\n",
    "The int(),float(),str() functions can be used to evaluate to the integer,floating-point number, and string version of the value."
   ]
  },
  {
   "cell_type": "markdown",
   "metadata": {},
   "source": [
    "------"
   ]
  },
  {
   "cell_type": "markdown",
   "metadata": {},
   "source": [
    "## Ques 10 = Why does this expression cause an error? How can you fix it?\n",
    "## 'I have eaten ' + 99 + ' burritos.'\n"
   ]
  },
  {
   "cell_type": "markdown",
   "metadata": {},
   "source": [
    "Answer - "
   ]
  },
  {
   "cell_type": "code",
   "execution_count": 8,
   "metadata": {},
   "outputs": [
    {
     "data": {
      "text/plain": [
       "'I have eaten 99 burritos'"
      ]
     },
     "execution_count": 8,
     "metadata": {},
     "output_type": "execute_result"
    }
   ],
   "source": [
    "'I have eaten ' + str(99) + ' burritos' ## Here 99 is integer and only string can be concatenated to other string with the + operator."
   ]
  },
  {
   "cell_type": "code",
   "execution_count": null,
   "metadata": {},
   "outputs": [],
   "source": []
  }
 ],
 "metadata": {
  "kernelspec": {
   "display_name": "Python 3",
   "language": "python",
   "name": "python3"
  },
  "language_info": {
   "codemirror_mode": {
    "name": "ipython",
    "version": 3
   },
   "file_extension": ".py",
   "mimetype": "text/x-python",
   "name": "python",
   "nbconvert_exporter": "python",
   "pygments_lexer": "ipython3",
   "version": "3.9.13"
  },
  "orig_nbformat": 4
 },
 "nbformat": 4,
 "nbformat_minor": 2
}
