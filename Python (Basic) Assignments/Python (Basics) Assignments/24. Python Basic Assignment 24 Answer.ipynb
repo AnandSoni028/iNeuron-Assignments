{
 "cells": [
  {
   "cell_type": "markdown",
   "metadata": {},
   "source": [
    "## Ques 1 = What is the relationship between def statements and lambda expressions ?"
   ]
  },
  {
   "cell_type": "markdown",
   "metadata": {},
   "source": [
    "Answer - The def keyword is used to define normal function, while the lambda keyword is used to define anonymous funcions.They are,however limited to a single line of expression.They like regular functions can accept several parameters.\n",
    "\n",
    "Lambda functoins are similar to user defined functions but without a name.They commonly referred to as anonymous function.Lambda functions are efficient whenever you want to create a funcion that will only coantain simple expression that is expressions that are usaually a single line of statement.\n",
    "\n",
    "Lambda function automaticallly returns the result of the expression they evaluate while regular function defined with def require an explicit return statement to return a value."
   ]
  },
  {
   "cell_type": "markdown",
   "metadata": {},
   "source": [
    "---------"
   ]
  },
  {
   "cell_type": "markdown",
   "metadata": {},
   "source": [
    "## Ques 2 = What is the benefit of lambda?"
   ]
  },
  {
   "cell_type": "markdown",
   "metadata": {},
   "source": [
    "Answer - Lambda function also known as anonymous function or lambda experssion,offer several benefits:\n",
    "\n",
    "1. Conciseness - Lambda function allow yoy to write short,one line function and this can make code more concise and easier to read.\n",
    "\n",
    "2. Readability - while lambda funciton can sometimes make code harder to read if overused or misused,they can improve readability when used appropriately.\n",
    "\n",
    "3. Functionaal programming - Lambda functions are commonly used in functional programming paradigms where functionas are treated as mathematical constructs and perform complex operations.Lambda functions creation of higher-order function i.e.map,fitter,reduce which operate on collections of data.\n",
    "\n",
    "4. Reduced code duplication - By using lambda functions you can avoid writion separate name function for simple opeations that are only used once in your code."
   ]
  },
  {
   "cell_type": "markdown",
   "metadata": {},
   "source": [
    "--------"
   ]
  },
  {
   "cell_type": "markdown",
   "metadata": {},
   "source": [
    "## Ques 3 = Compare and contrast map, filter, and reduce."
   ]
  },
  {
   "cell_type": "markdown",
   "metadata": {},
   "source": [
    "Answer - The Compare between map filter and reduce are - \n",
    "\n",
    "1. Map() =  Map takes a function and applies it to each item in an iterable(such as a list),returing a new iterable containing the results.It is useful when you want to transform each element in a collection in a consistent way.\n",
    "\n",
    "2. Filter() = Filter applies a function to each item in an iterable , retaining only those items for which the function returns True. It is used when you want to selectively keep elements from a collection based on a condition.\n",
    "\n",
    "3. Reduce() = Reduce takes a binary fucntion and applies it cumulatively to the items in an iterable,reducing them to a single value. It is used when you want to perform some cumulative computation on a collection.\n"
   ]
  },
  {
   "cell_type": "code",
   "execution_count": 12,
   "metadata": {},
   "outputs": [
    {
     "name": "stdout",
     "output_type": "stream",
     "text": [
      "Map Function()\n",
      "[2, 4, 6, 8, 10]\n",
      "filter function()\n",
      "[2, 4]\n",
      "Reduce funciton()\n",
      "15\n"
     ]
    }
   ],
   "source": [
    "from functools import reduce \n",
    "# map function \n",
    "numbers = [1,2,3,4,5]\n",
    "\n",
    "print(\"Map Function()\")\n",
    "double = list(map(lambda x: x*2, numbers))\n",
    "print(double)\n",
    "\n",
    "# fitler function \n",
    "\n",
    "print(\"filter function()\")\n",
    "even = list(filter(lambda x: x % 2 ==0 , numbers))\n",
    "print(even)\n",
    "\n",
    "# reduce function \n",
    "print(\"Reduce funciton()\")\n",
    "sum_of_numbers = reduce(lambda x , y: x+y, numbers) \n",
    "print(sum_of_numbers)"
   ]
  },
  {
   "cell_type": "markdown",
   "metadata": {},
   "source": [
    "-------"
   ]
  },
  {
   "cell_type": "markdown",
   "metadata": {},
   "source": [
    "## Ques 4 = What are function annotations, and how are they used?"
   ]
  },
  {
   "cell_type": "markdown",
   "metadata": {},
   "source": [
    "Answer - Function annotations are expressed using colons(':') following each parameter and the return value followed by the type of the parameter or return value.These annotation are purely optional and do not have any impact on the actual execution of the code.\n",
    "\n",
    "Function annotations are arbitrary python expression that are assoicated with various functions.These expression are evaluated at compile time and have no life in python runtime enviroment.Python does not attach any meaning to these annotations.\n",
    "\n",
    "Purpose of function annotations :\n",
    "The benefits from function annotations can only be reaped via third party libraries.The type of benefits depends upon the type of the library."
   ]
  },
  {
   "cell_type": "code",
   "execution_count": 13,
   "metadata": {},
   "outputs": [
    {
     "name": "stdout",
     "output_type": "stream",
     "text": [
      "Hello, Alice\n"
     ]
    }
   ],
   "source": [
    "def greet(name: str) -> str:\n",
    "    return 'Hello, ' + name\n",
    "\n",
    "print(greet('Alice'))"
   ]
  },
  {
   "cell_type": "markdown",
   "metadata": {},
   "source": [
    "--------"
   ]
  },
  {
   "cell_type": "markdown",
   "metadata": {},
   "source": [
    "## Ques 5 = . What are recursive functions, and how are they used?"
   ]
  },
  {
   "cell_type": "markdown",
   "metadata": {},
   "source": [
    "Answer - A Recursive functions can be defined as a routine that calls itself directly and indirectly.A Recursive functions is a function that solves a problem by solving smaller instances of the same problem.This technique is often used in programming to solve problems that can be broken down into simpler and sinilar subproblem."
   ]
  },
  {
   "cell_type": "code",
   "execution_count": 14,
   "metadata": {},
   "outputs": [
    {
     "name": "stdout",
     "output_type": "stream",
     "text": [
      "Factorial of 4 is: 24\n"
     ]
    }
   ],
   "source": [
    "# Recursive Function to calculate Factorial of a number\n",
    "def factorial(n):\n",
    "    # Base case\n",
    "    if n == 0:\n",
    "        return 1\n",
    " \n",
    "    # Recursive case\n",
    "    return n * factorial(n - 1)\n",
    " \n",
    "# Driver Code\n",
    "if __name__ == \"__main__\":\n",
    "    n = 4\n",
    " \n",
    "    print(\"Factorial of\", n, \"is:\", factorial(n))"
   ]
  },
  {
   "cell_type": "markdown",
   "metadata": {},
   "source": [
    "-----"
   ]
  },
  {
   "cell_type": "markdown",
   "metadata": {},
   "source": [
    "## Ques 6 = What are some general design guidelines for coding functions?"
   ]
  },
  {
   "cell_type": "markdown",
   "metadata": {},
   "source": [
    "Answer - \n",
    "1. Use 4-space indentation and no tabs.\n",
    "2. Use docstrings\n",
    "3. Wrap linethat they don’t exceed 79 characters\n",
    "4. Use of regular and updated comments are valuable to both the coders and users\n",
    "5. Use of trailing commas : in case of tuple -> ('good',)\n",
    "6. Use Python’s default UTF-8 or ASCII encodings and not any fancy encodings\n",
    "7. Naming Conventions 8.Characters that should not be used for identifiers : ‘l’ (lowercase letter el), ‘O’ (uppercase letter oh), ‘I’ (uppercase letter eye) as single character variable names as these are similar to the numerals one and zero.\n",
    "8. Don’t use non-ASCII characters in identifiers\n",
    "9. Name your classes and functions consistently\n",
    "10. While naming of function of methods always use self for the first argument"
   ]
  },
  {
   "cell_type": "markdown",
   "metadata": {},
   "source": [
    "----"
   ]
  },
  {
   "cell_type": "markdown",
   "metadata": {},
   "source": [
    "## Ques 7 = Name three or more ways that functions can communicate results to a caller."
   ]
  },
  {
   "cell_type": "markdown",
   "metadata": {},
   "source": [
    "Answer - There are some name that function can communicate results to a caller.\n",
    "\n",
    "1. Return Values:- A Function can return a value to the caller.This is the most common way for a function to commnuicate ites results.The Caller can then use the returned value in its own code.\n",
    "\n",
    "2. Output Parameters:- A function can pass results to the caller by modifying the values of output paramenters.This is a less common way for a function to communicate its results but it can be useful in some cases.\n",
    "\n",
    "3. Global Variables :- A function can store results in global variables.This is the least commom way for a function to communicate its results and it should be avoided whenever possible.Global variables can make code difficult to understand and maintain."
   ]
  },
  {
   "cell_type": "markdown",
   "metadata": {},
   "source": [
    "------------"
   ]
  },
  {
   "cell_type": "markdown",
   "metadata": {},
   "source": [
    "                                                                    END"
   ]
  }
 ],
 "metadata": {
  "kernelspec": {
   "display_name": "Python 3",
   "language": "python",
   "name": "python3"
  },
  "language_info": {
   "codemirror_mode": {
    "name": "ipython",
    "version": 3
   },
   "file_extension": ".py",
   "mimetype": "text/x-python",
   "name": "python",
   "nbconvert_exporter": "python",
   "pygments_lexer": "ipython3",
   "version": "3.11.8"
  }
 },
 "nbformat": 4,
 "nbformat_minor": 2
}
