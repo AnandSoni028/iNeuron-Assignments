{
 "cells": [
  {
   "cell_type": "markdown",
   "metadata": {},
   "source": [
    "## Ques 1 = What advantages do Excel spreadsheets have over CSV spreadsheets?"
   ]
  },
  {
   "cell_type": "markdown",
   "metadata": {},
   "source": [
    "Answer - Excel spreadsheet have several advantages over CSV spreadsheets.\n",
    "\n",
    "1. Data Manipulation = Excel allows users to manipulata data,perform calculations,and perform data analysis.CSV file do not allow data manipulation.\n",
    "\n",
    "2. External Data = Excel can connect with external data sources and enable add-ins.CSV files cannot link with external data.\n",
    "\n",
    "3. File Size = CSV files consume less file size when importing data.\n",
    "\n",
    "4. File Format = Excel is a binary file that holds information about all the worksheets in a workbook.CSV is a plain text format with a series of values separated by commas.\n",
    "\n",
    "5. Customization = Excel sheets can be customized with layout,color schemes and other features.\n",
    "\n",
    "6. Cell Limit = CSV files have a limit of 32,767 charaters per call.Excel has a limit of 1,048,576 rows and 16,384 columns per sheet."
   ]
  },
  {
   "cell_type": "markdown",
   "metadata": {},
   "source": [
    "----"
   ]
  },
  {
   "cell_type": "markdown",
   "metadata": {},
   "source": [
    "## Ques 2 = What do you pass to csv.reader() and csv.writer() to create reader and writer objects?"
   ]
  },
  {
   "cell_type": "markdown",
   "metadata": {},
   "source": [
    "Answer - To create a reader object we pass the file object to the csv.reader() function.The object must be opened in text mode.\n",
    "\n",
    "To create a writer object we pass the file object and the delimiter to the csv.writer() function.The file object must be opened in write mode.\n",
    "\n",
    "1. To write a CSV file with the csv module, First, call open() and pass it 'w' to open a file in write mode, and it create a object. That object pass in csv.writer()."
   ]
  },
  {
   "cell_type": "code",
   "execution_count": null,
   "metadata": {},
   "outputs": [],
   "source": [
    "write_file = open('filename.csv','w')\n",
    "\n",
    "Writer = csv.writer(write_file)"
   ]
  },
  {
   "cell_type": "markdown",
   "metadata": {},
   "source": [
    "2) - To read a CSV file with the csv module, first open it using the open() function and it create a object. That object pass in csv.reader()\n"
   ]
  },
  {
   "cell_type": "code",
   "execution_count": null,
   "metadata": {},
   "outputs": [],
   "source": [
    "read_file = open('filename.csv')\n",
    "Reader = csv.reader(read_file)\n"
   ]
  },
  {
   "cell_type": "markdown",
   "metadata": {},
   "source": [
    "-----"
   ]
  },
  {
   "cell_type": "markdown",
   "metadata": {},
   "source": [
    "## Ques 3 = What modes do File objects for reader and writer objects need to be opened in?"
   ]
  },
  {
   "cell_type": "markdown",
   "metadata": {},
   "source": [
    "Answer - File object for reader object need to be opened in read-binary('rb') mode\n",
    "csv.reader(iterable_file_object)\n",
    "\n",
    "File object for writer object need to be opened in write-binary('wb') mode. \n",
    "csv.writer(iterable_file_object)"
   ]
  },
  {
   "cell_type": "markdown",
   "metadata": {},
   "source": [
    "----"
   ]
  },
  {
   "cell_type": "markdown",
   "metadata": {},
   "source": [
    "## Ques 4 = What method takes a list argument and writes it to a CSV file?"
   ]
  },
  {
   "cell_type": "markdown",
   "metadata": {},
   "source": [
    "Answer - The writerow() method takes in iterable data as its parameters and then write the data to your CSV file in a single row."
   ]
  },
  {
   "cell_type": "code",
   "execution_count": null,
   "metadata": {},
   "outputs": [],
   "source": [
    "# The writerow() method\n",
    "\n",
    "File_xyz = open('xyz.csv','w')\n",
    "file_Writer = csv.writer(file_xyz)\n",
    "csv.writer(file_xyz).writerow(['anand','soni','Hi'])"
   ]
  },
  {
   "cell_type": "markdown",
   "metadata": {},
   "source": [
    "----"
   ]
  },
  {
   "cell_type": "markdown",
   "metadata": {},
   "source": [
    "## Ques 5 = What do the keyword arguments delimiter and line terminator do?"
   ]
  },
  {
   "cell_type": "markdown",
   "metadata": {},
   "source": [
    "Answer - The delimiter is the character that appears between cells on a row. Or we can say that the delimiter for a CSV file is a comma.\n",
    "\n",
    "The line_terminator is the character that comes at the end of a row. or we can say that the line terminator for a CSV file is a newline character(\\n)."
   ]
  },
  {
   "cell_type": "code",
   "execution_count": null,
   "metadata": {},
   "outputs": [],
   "source": [
    "import csv\n",
    "\n",
    "with open('data.csv','w',newline= '') as f:\n",
    "    writer = csv.writer(f,delimiter='\\t', line_terminator = '\\r')\n",
    "    Writer.writerow(['name','age'])\n",
    "    writer.writerow(['anand',27])\n",
    "    writer.writerow(['Cbi',25])"
   ]
  },
  {
   "cell_type": "markdown",
   "metadata": {},
   "source": [
    "-----"
   ]
  },
  {
   "cell_type": "markdown",
   "metadata": {},
   "source": [
    "## Ques 6 = What function takes a string of JSON data and returns a Python data structure?"
   ]
  },
  {
   "cell_type": "markdown",
   "metadata": {},
   "source": [
    "Answer - json.loads() method takes a string of JSON data and return a python data structure."
   ]
  },
  {
   "cell_type": "markdown",
   "metadata": {},
   "source": [
    "----"
   ]
  },
  {
   "cell_type": "markdown",
   "metadata": {},
   "source": [
    "## Ques 7 = . What function takes a Python data structure and returns a string of JSON data?"
   ]
  },
  {
   "cell_type": "markdown",
   "metadata": {},
   "source": [
    "Answer - json.dumps() method takes a python data structure and return a string of JSON data."
   ]
  },
  {
   "cell_type": "markdown",
   "metadata": {},
   "source": [
    "----"
   ]
  },
  {
   "cell_type": "markdown",
   "metadata": {},
   "source": [
    "                                                                        \n",
    "                                                                    END"
   ]
  }
 ],
 "metadata": {
  "kernelspec": {
   "display_name": "Python 3",
   "language": "python",
   "name": "python3"
  },
  "language_info": {
   "codemirror_mode": {
    "name": "ipython",
    "version": 3
   },
   "file_extension": ".py",
   "mimetype": "text/x-python",
   "name": "python",
   "nbconvert_exporter": "python",
   "pygments_lexer": "ipython3",
   "version": "3.11.7"
  }
 },
 "nbformat": 4,
 "nbformat_minor": 2
}
