{
 "cells": [
  {
   "cell_type": "markdown",
   "metadata": {},
   "source": [
    "## Ques 1 = How do you distinguish between shutil.copy() and shutil.copytree()?"
   ]
  },
  {
   "cell_type": "markdown",
   "metadata": {},
   "source": [
    "Answer - \n",
    "\n",
    "Shutil.copy() - The Shutil.copy() function copies a single file.The shutil.copy() function takes two arguments the source file path and the destination file path.The Source file path is the path of the file that you want to copy.The destination file path is the path to the location where you want to copy the file.\n",
    "\n",
    "Shutil.copytree() - The shutil.copytree() function copies an entire folder,along with all its contents. The Shutil.copytree() function also takes two arguments the source directory path and the destination directory path. the Source directory path is the path to the directory that you want to copy. The destination directory directory path is the path to the location where you want to copy the directory."
   ]
  },
  {
   "cell_type": "markdown",
   "metadata": {},
   "source": [
    "----"
   ]
  },
  {
   "cell_type": "markdown",
   "metadata": {},
   "source": [
    "## Ques 2 = What function is used to rename files?"
   ]
  },
  {
   "cell_type": "markdown",
   "metadata": {},
   "source": [
    "Answer - import os \n",
    "         os.rename(\"text.txt\",\"textnew.txt\")"
   ]
  },
  {
   "cell_type": "markdown",
   "metadata": {},
   "source": [
    "----"
   ]
  },
  {
   "cell_type": "markdown",
   "metadata": {},
   "source": [
    "## Ques 3 = . What is the difference between the delete functions in the send2trash and shutil modules?"
   ]
  },
  {
   "cell_type": "markdown",
   "metadata": {},
   "source": [
    "Answer - The send2trash function will move a file or folder to the recycle bin, while shutil functions will permanently delete files and folders.\n",
    "\n",
    "import shutil \n",
    "\n",
    "shutil.retree() - The shutil module's rmtree() function can be used to delete files or folders.But this function delete the files permanently.The operation cannot be undone if there were any accidental deletions performed\n",
    "\n",
    "import sen2trash \n",
    "\n",
    "send2trash.send2trash() - using send2trash we can send files to the Trash or Recycle Bin instread of permanently deleting them. if the directory contanis files or other folders,those are also deleted.A TrashPermissionError exception is raised,in case a file could not be deleted due to permission error or any other unexpected reason."
   ]
  },
  {
   "cell_type": "markdown",
   "metadata": {},
   "source": [
    "----"
   ]
  },
  {
   "cell_type": "markdown",
   "metadata": {},
   "source": [
    "## Ques 4 = ZipFile objects have a close() method just like File objects’ close() method. What ZipFile method is equivalent to File objects’ open() method?"
   ]
  },
  {
   "cell_type": "markdown",
   "metadata": {},
   "source": [
    "Answer - The Zipfile.function is equivalent to the open() function the first argument is the file name,and the second argument is the mode to open the Zip file in (read,write,and append).\n",
    "\n",
    "Ex - ZipFile(File_name,'r') - this code will open specified zipfile for us and we can use zip object to perform other operation the zipfile.like zip.read()"
   ]
  },
  {
   "cell_type": "markdown",
   "metadata": {},
   "source": [
    "----"
   ]
  },
  {
   "cell_type": "markdown",
   "metadata": {},
   "source": [
    "## Ques 5 = . Create a programme that searches a folder tree for files with a certain file extension (such as .pdf or .jpg). Copy these files from whatever location they are in to a new folder."
   ]
  },
  {
   "cell_type": "markdown",
   "metadata": {},
   "source": [
    "Answer - "
   ]
  },
  {
   "cell_type": "code",
   "execution_count": 1,
   "metadata": {},
   "outputs": [],
   "source": [
    "import os\n",
    "import shutil\n",
    "\n",
    "def search_and_copy(source,destination,extensions):\n",
    "    source = os.path.abspath(source)\n",
    "    destination = os.path.abspath(destination)\n",
    "    for foldername, subfolder, filenames in os.walk(source):\n",
    "        print(f'Folder Name ➞ {foldername}',end='\\n\\n')\n",
    "        print(f'Sub Folders ➞ {subfolder}',end='\\n\\n')\n",
    "        print(f'Files ➞ {filenames}',end='\\n\\n')\n",
    "        for filename in filenames:\n",
    "            fileName,extension = os.path.splitext(filename)\n",
    "            if extension in extensions:\n",
    "                targetFile = foldername+os.path.sep+fileName+extension\n",
    "                shutil.copy(targetFile, destination)\n",
    "        print(f'Files copied successfully from {source} to {destination}')\n",
    "    \n",
    "extensions = ['.pdf','.jpg']\n",
    "source = 'Any Source'\n",
    "destination = 'Any Destination'\n",
    "search_and_copy(source, destination, extensions)\n",
    "     "
   ]
  },
  {
   "cell_type": "markdown",
   "metadata": {},
   "source": [
    "                                                                        END     \n"
   ]
  }
 ],
 "metadata": {
  "kernelspec": {
   "display_name": "Python 3",
   "language": "python",
   "name": "python3"
  },
  "language_info": {
   "codemirror_mode": {
    "name": "ipython",
    "version": 3
   },
   "file_extension": ".py",
   "mimetype": "text/x-python",
   "name": "python",
   "nbconvert_exporter": "python",
   "pygments_lexer": "ipython3",
   "version": "3.11.6"
  }
 },
 "nbformat": 4,
 "nbformat_minor": 2
}
