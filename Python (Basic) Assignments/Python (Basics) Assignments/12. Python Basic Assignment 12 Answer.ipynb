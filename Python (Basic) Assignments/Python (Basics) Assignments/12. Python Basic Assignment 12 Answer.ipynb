{
 "cells": [
  {
   "cell_type": "markdown",
   "metadata": {},
   "source": [
    "## Ques 1 = In what modes should the PdfFileReader() and PdfFileWriter() File objects will be opened?"
   ]
  },
  {
   "cell_type": "markdown",
   "metadata": {},
   "source": [
    "Answer - PdfFileReader() need to be opened in read-binary mode by passing 'rb' as the second argument to open(). \n",
    "\n",
    "PdfFileWriter - PdfFileReader() need to be opened in write-binary mode with 'wb'. "
   ]
  },
  {
   "cell_type": "code",
   "execution_count": 7,
   "metadata": {},
   "outputs": [
    {
     "name": "stdout",
     "output_type": "stream",
     "text": [
      "Requirement already satisfied: PyP in c:\\users\\dell\\appdata\\local\\packages\\pythonsoftwarefoundation.python.3.11_qbz5n2kfra8p0\\localcache\\local-packages\\python311\\site-packages (3.0.9)\n"
     ]
    },
    {
     "name": "stderr",
     "output_type": "stream",
     "text": [
      "\n",
      "[notice] A new release of pip is available: 23.2.1 -> 23.3.1\n",
      "[notice] To update, run: C:\\Users\\DELL\\AppData\\Local\\Microsoft\\WindowsApps\\PythonSoftwareFoundation.Python.3.11_qbz5n2kfra8p0\\python.exe -m pip install --upgrade pip\n"
     ]
    }
   ],
   "source": [
    "!pip install PyP"
   ]
  },
  {
   "cell_type": "markdown",
   "metadata": {},
   "source": [
    "-----"
   ]
  },
  {
   "cell_type": "markdown",
   "metadata": {},
   "source": [
    "## Ques 2 = From a PdfFileReader object, how do you get a Page object for page 5?"
   ]
  },
  {
   "cell_type": "markdown",
   "metadata": {},
   "source": [
    "Answer -\n",
    "\n",
    "-PdfFileReader To get a Page object For a Page we use the getpage() Method.The getpage() Method takes the page number as an argument and return a Page Object for that page.\n",
    "\n",
    "- We can Get a Page object by calling the getpage() method on a PdfFileReader object and passing it the page number of the page you're interested in."
   ]
  },
  {
   "cell_type": "code",
   "execution_count": null,
   "metadata": {},
   "outputs": [],
   "source": [
    "import PyPDF2 as pdf\n",
    "pdfFileObj = open(\"cardealer.pdf\",'rb')\n",
    "pdfReader = pdf.PdfFileReader(pdfFileObj)\n",
    "pageObj = pdfReader.getPage(4)\n",
    "pageObj.extractText()"
   ]
  },
  {
   "cell_type": "markdown",
   "metadata": {},
   "source": [
    "---"
   ]
  },
  {
   "cell_type": "markdown",
   "metadata": {},
   "source": [
    "## Ques 3 = What PdfFileReader variable stores the number of pages in the PDF document?"
   ]
  },
  {
   "cell_type": "markdown",
   "metadata": {},
   "source": [
    "Answer - The Total Number of Pages in the document is stored in the numPage attributes of a PdfFileReader Object."
   ]
  },
  {
   "cell_type": "code",
   "execution_count": null,
   "metadata": {},
   "outputs": [],
   "source": [
    "EXAMPLE\n",
    "\n",
    "import PyPDF2\n",
    "\n",
    "with open('path/to/file.pdf', 'rb') as f:\n",
    "\n",
    "    pdf_reader = PyPDF2.PdfFileReader(f)\n",
    "\n",
    "    num_pages = pdf_reader.numPages\n",
    "\n",
    "    print(num_pages)"
   ]
  },
  {
   "cell_type": "markdown",
   "metadata": {},
   "source": [
    "------"
   ]
  },
  {
   "cell_type": "markdown",
   "metadata": {},
   "source": [
    "## Ques 4 = If a PdfFileReader object’s PDF is encrypted with the password swordfish, what must you do before you can obtain Page objects from it?"
   ]
  },
  {
   "cell_type": "markdown",
   "metadata": {},
   "source": [
    "Answer - If a PdfFileReader object's PDF is encrypted with the password swordfish and you're not aware of it.First read the Pdf using the PdfFileReader Class.PdfFileReader class provides a attribute called isEncrypted to check whether a pdf is encrypted or not.The method return True if a pdf is encrypted and vice versa.\n",
    "\n",
    "if pdf is encrypted use the decrypt() method provided by PdfFileREader class.First then try to read the contents/pages of the pdf,else PyPDF2 will raise the following error\n",
    "PyPDF2.utils.PdfReadERROR: fils has not been decrypted."
   ]
  },
  {
   "cell_type": "code",
   "execution_count": null,
   "metadata": {},
   "outputs": [],
   "source": [
    "from PyPDF2 import PdfFileReader\n",
    "pdf_reader = PdfFileReader(file_path)\n",
    "if pdf_reader.isEncrypted: # to check whether the pdf is encrypted or not\n",
    "    pdf_reader.decrypt(\"swordfish\")\n",
    "for page in pdf_reader.pages:\n",
    "    print(page.extractText()) # to print the text data of a page from pdf"
   ]
  },
  {
   "cell_type": "markdown",
   "metadata": {},
   "source": [
    "-----"
   ]
  },
  {
   "cell_type": "markdown",
   "metadata": {},
   "source": [
    "## Ques 5 = What methods do you use to rotate a page?"
   ]
  },
  {
   "cell_type": "markdown",
   "metadata": {},
   "source": [
    "Answer - PyPDF2 Package provides 2 Methods to rotate a Page:\n",
    "\n",
    "1. roatateCounterClockWise()- For Counter Clockwise roatation.\n",
    "\n",
    "2. rotateClockWise() - Foe Clockwise roatation.\n",
    "\n",
    "The PyPDF2 package only allows us to rotate a page in increaments of 90 degree.we will receive an AssertionError otherwise."
   ]
  },
  {
   "cell_type": "markdown",
   "metadata": {},
   "source": [
    "-----"
   ]
  },
  {
   "cell_type": "markdown",
   "metadata": {},
   "source": [
    "## Ques 6 = What is the difference between a Run object and a Paragraph object?"
   ]
  },
  {
   "cell_type": "markdown",
   "metadata": {},
   "source": [
    "Answer - \n",
    "\n",
    "1. Run Object = A Run object contain a text attribute,which contains the text in that run. and a document contains multiple paragraphs.A paragraph begins on a new line and contains multiple runs.The documents object contains a list of paragraphs object for the paragraphs in the document.(A new paragraph begins whenever the user presses ENTEER or RETURN while typing in a Word document.)\n",
    "\n",
    "Paragraph Object =  A Paragraph object contains one or more runs,each of which contains some part of the paragraph's text. Runs are contiguous groups of characters within a paragraph with the same style."
   ]
  },
  {
   "cell_type": "markdown",
   "metadata": {},
   "source": [
    "----"
   ]
  },
  {
   "cell_type": "markdown",
   "metadata": {},
   "source": [
    "## Ques 7 = How do you obtain a list of Paragraph objects for a Document object that’s stored in a variable named doc?"
   ]
  },
  {
   "cell_type": "markdown",
   "metadata": {},
   "source": [
    "Answer - To Obtain a list of Paragraph object for a Document object that is stored in a variable name doc,you can use the doc.paragraph."
   ]
  },
  {
   "cell_type": "code",
   "execution_count": null,
   "metadata": {},
   "outputs": [],
   "source": [
    "for para in doc.paragraphs:\n",
    "    print(para.text)"
   ]
  },
  {
   "cell_type": "markdown",
   "metadata": {},
   "source": [
    "You can also use the add_paragraph() Method of the Document class object to add a ner paragraph to the document."
   ]
  },
  {
   "cell_type": "code",
   "execution_count": null,
   "metadata": {},
   "outputs": [],
   "source": [
    "doc.add_paragraph('This is a new paragraph.')"
   ]
  },
  {
   "cell_type": "markdown",
   "metadata": {},
   "source": [
    "----"
   ]
  },
  {
   "cell_type": "markdown",
   "metadata": {},
   "source": [
    "## Ques 8 = What type of object has bold, underline, italic, strike, and outline variables?"
   ]
  },
  {
   "cell_type": "markdown",
   "metadata": {},
   "source": [
    "Answer - A Run Object has bold,undrtline,italic,strike,and outline variable.The type of object that has bold,undrtline,italic,strike, and outline variables is a text formatting object or class.These objects are used to control the appearance of text,such, as its font,size,and color.they are often used in word processing applicatons such as microsoft Word and Google Docs.\n",
    "\n",
    "A Style in Word is a collection of these attributes.A Run object is a contiguous run of text with the same style.A new run object is needed whenever the text style changes."
   ]
  },
  {
   "cell_type": "markdown",
   "metadata": {},
   "source": [
    "----"
   ]
  },
  {
   "cell_type": "markdown",
   "metadata": {},
   "source": [
    "## Ques 9 = What is the difference between False, True, and None for the bold variable?"
   ]
  },
  {
   "cell_type": "markdown",
   "metadata": {},
   "source": [
    "Answer - Run can be futher styled using text attributes.Each attribute can be set to one of three values:\n",
    "\n",
    "1. True - True attributes is always enabled,no matter what other styles are applied to the run.\n",
    "\n",
    "2. False -False attributes is always disabled, no matter what other styles are applied to the run.\n",
    "\n",
    "3. None - Defaults to whenever the run's style is set to.\n",
    "\n",
    "True always makes the Run object Bolded.\n",
    "\n",
    "False maked it always not bolded, no matter what the style's bold setting is.\n",
    "\n",
    "None will makes the Run object just use the style's bold setting."
   ]
  },
  {
   "cell_type": "markdown",
   "metadata": {},
   "source": [
    "-----"
   ]
  },
  {
   "cell_type": "markdown",
   "metadata": {},
   "source": [
    "## Ques 10 = How do you create a Document object for a new Word document?"
   ]
  },
  {
   "cell_type": "markdown",
   "metadata": {},
   "source": [
    "Answer - By calling docx.Document()."
   ]
  },
  {
   "cell_type": "markdown",
   "metadata": {},
   "source": [
    "----"
   ]
  },
  {
   "cell_type": "markdown",
   "metadata": {},
   "source": [
    "## Ques 11 = How do you add a paragraph with the text 'Hello, there!' to a Document object stored in a variable named doc?"
   ]
  },
  {
   "cell_type": "markdown",
   "metadata": {},
   "source": [
    "Answer - doc.add_paragraph('Hello there!')"
   ]
  },
  {
   "cell_type": "code",
   "execution_count": null,
   "metadata": {},
   "outputs": [],
   "source": [
    "import docx\n",
    "doc = docx.Document()\n",
    "\n",
    "doc.add_paragraph('Hello there!')\n",
    "doc.save('hellothere.docx')\n"
   ]
  },
  {
   "cell_type": "markdown",
   "metadata": {},
   "source": [
    "----"
   ]
  },
  {
   "cell_type": "markdown",
   "metadata": {},
   "source": [
    "## Ques 12 = . What integers represent the levels of headings available in Word documents?"
   ]
  },
  {
   "cell_type": "markdown",
   "metadata": {},
   "source": [
    "Answer - The level for a heading in a word document can be specified by using the level attribute inside the add_heading method.The argument to add_heading() are a string of the heading text and an interger from 0 to 4.The interger 0 makes the heading the Title style,which is used for the top of the document. Integers 1 to 4 are for various heading levels,with 1 being the main heading and 4 the lowest subheading."
   ]
  },
  {
   "cell_type": "markdown",
   "metadata": {},
   "source": [
    "------"
   ]
  },
  {
   "cell_type": "markdown",
   "metadata": {},
   "source": [
    "                                                                        END"
   ]
  }
 ],
 "metadata": {
  "kernelspec": {
   "display_name": "Python 3",
   "language": "python",
   "name": "python3"
  },
  "language_info": {
   "codemirror_mode": {
    "name": "ipython",
    "version": 3
   },
   "file_extension": ".py",
   "mimetype": "text/x-python",
   "name": "python",
   "nbconvert_exporter": "python",
   "pygments_lexer": "ipython3",
   "version": "3.11.6"
  }
 },
 "nbformat": 4,
 "nbformat_minor": 2
}
